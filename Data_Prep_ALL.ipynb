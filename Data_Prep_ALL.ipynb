{
 "cells": [
  {
   "cell_type": "markdown",
   "metadata": {},
   "source": [
    "# Dataframe preparation"
   ]
  },
  {
   "cell_type": "markdown",
   "metadata": {},
   "source": [
    "Once we have downloaded all the datasets we will be using in our project, the first thing we should do is preparing the dataframe we will be working on."
   ]
  },
  {
   "cell_type": "code",
   "execution_count": 1,
   "metadata": {},
   "outputs": [],
   "source": [
    "# Importing modules\n",
    "import pandas as pd\n",
    "import numpy as np"
   ]
  },
  {
   "cell_type": "code",
   "execution_count": 2,
   "metadata": {},
   "outputs": [],
   "source": [
    "pd.set_option('display.max_columns',None)"
   ]
  },
  {
   "cell_type": "code",
   "execution_count": 3,
   "metadata": {},
   "outputs": [],
   "source": [
    "rating_cols = ['STATE_CODE_001','STRUCTURE_NUMBER_008','DECK_COND_058','SUPERSTRUCTURE_COND_059','SUBSTRUCTURE_COND_060'] "
   ]
  },
  {
   "cell_type": "markdown",
   "metadata": {},
   "source": [
    "df17 = pd.read_csv('./data/2017hwybronlyonefile.zip',compression = 'zip',sep = ',',encoding='latin-1',usecols = rating_cols)"
   ]
  },
  {
   "cell_type": "markdown",
   "metadata": {},
   "source": [
    "df17.head()"
   ]
  },
  {
   "cell_type": "code",
   "execution_count": 6,
   "metadata": {},
   "outputs": [],
   "source": [
    "# Function for new variable: Total Rating (TR)\n",
    "\n",
    "def TotalRating(row):\n",
    "    dr = row['DECK_COND_058']\n",
    "    supr = row['SUPERSTRUCTURE_COND_059']\n",
    "    subr = row['SUBSTRUCTURE_COND_060']\n",
    "    minval = min(dr, supr, subr)\n",
    "    maxval = max(dr, supr, subr)\n",
    "   \n",
    "    if minval <= 4:\n",
    "        rating = minval\n",
    "        \n",
    "    elif minval >= 8:\n",
    "        rating = (dr+supr+subr)/3\n",
    "        \n",
    "    else:\n",
    "        medval = dr+subr+supr-minval-maxval\n",
    "        rating = 0.5*minval+0.2*maxval+0.3*medval\n",
    "\n",
    "    return rating\n"
   ]
  },
  {
   "cell_type": "code",
   "execution_count": 7,
   "metadata": {},
   "outputs": [],
   "source": [
    "filenames = []\n",
    "for year in range(2011,2018):\n",
    "    year = str(year)\n",
    "    path = \"./data/\"+year+\"hwybronlyonefile.zip\"\n",
    "    filenames.append(path)"
   ]
  },
  {
   "cell_type": "markdown",
   "metadata": {},
   "source": [
    "df17 = df17[(df17['DECK_COND_058']!='N') & (df17['SUPERSTRUCTURE_COND_059']!='N') & (df17['SUBSTRUCTURE_COND_060']!='N') ]"
   ]
  },
  {
   "cell_type": "markdown",
   "metadata": {},
   "source": [
    "# Pasamos los valores de rating a números\n",
    "df17['DECK_COND_058'] = pd.to_numeric(df17['DECK_COND_058'])\n",
    "df17['SUPERSTRUCTURE_COND_059'] = pd.to_numeric(df17['SUPERSTRUCTURE_COND_059'])\n",
    "df17['SUBSTRUCTURE_COND_060'] = pd.to_numeric(df17['SUBSTRUCTURE_COND_060'])"
   ]
  },
  {
   "cell_type": "markdown",
   "metadata": {},
   "source": [
    "# Quitamos los nulls\n",
    "df17.dropna(inplace=True)"
   ]
  },
  {
   "cell_type": "markdown",
   "metadata": {},
   "source": [
    "# Creamos la columna con el Total Rating para cada año\n",
    "df17['TR17'] = df17.apply(lambda row: TotalRating(row),axis=1)"
   ]
  },
  {
   "cell_type": "markdown",
   "metadata": {},
   "source": [
    "df17.head(10)"
   ]
  },
  {
   "cell_type": "markdown",
   "metadata": {},
   "source": [
    "df17.drop(['DECK_COND_058','SUPERSTRUCTURE_COND_059','SUBSTRUCTURE_COND_060'], axis=1, inplace = True)"
   ]
  },
  {
   "cell_type": "markdown",
   "metadata": {},
   "source": [
    "df17.head()"
   ]
  },
  {
   "cell_type": "code",
   "execution_count": null,
   "metadata": {},
   "outputs": [],
   "source": []
  },
  {
   "cell_type": "markdown",
   "metadata": {},
   "source": [
    "# Vamos a leer el dataset del 2018 para hacer el join\n",
    "total18_fil = pd.read_csv('total18_fil.csv')"
   ]
  },
  {
   "cell_type": "markdown",
   "metadata": {},
   "source": [
    "df18 = total18_fil\n",
    "df18['TR18'] = df18.apply(lambda row: TotalRating(row),axis=1)"
   ]
  },
  {
   "cell_type": "markdown",
   "metadata": {
    "scrolled": true
   },
   "source": [
    "df18.shape"
   ]
  },
  {
   "cell_type": "markdown",
   "metadata": {},
   "source": [
    "# Since we are looking for joining all the datasets with this one by using the Structure number, we should first check that there are no duplicates on it\n",
    "df18['STRUCTURE_NUMBER_008'].duplicated().value_counts()"
   ]
  },
  {
   "cell_type": "markdown",
   "metadata": {},
   "source": [
    "duplicateRowsDF = df18[df18.duplicated(['STRUCTURE_NUMBER_008'])]\n",
    "duplicateRowsDF['STATE_CODE_001'].value_counts()"
   ]
  },
  {
   "cell_type": "markdown",
   "metadata": {},
   "source": [
    "df17.shape"
   ]
  },
  {
   "cell_type": "markdown",
   "metadata": {},
   "source": [
    "df2 = pd.merge(df18, df17, how= 'left', on = ['STATE_CODE_001','STRUCTURE_NUMBER_008'])"
   ]
  },
  {
   "cell_type": "markdown",
   "metadata": {
    "scrolled": true
   },
   "source": [
    "df2.shape"
   ]
  },
  {
   "cell_type": "code",
   "execution_count": null,
   "metadata": {},
   "outputs": [],
   "source": []
  },
  {
   "cell_type": "code",
   "execution_count": null,
   "metadata": {},
   "outputs": [],
   "source": []
  },
  {
   "cell_type": "code",
   "execution_count": null,
   "metadata": {},
   "outputs": [],
   "source": []
  },
  {
   "cell_type": "code",
   "execution_count": null,
   "metadata": {},
   "outputs": [],
   "source": []
  },
  {
   "cell_type": "code",
   "execution_count": null,
   "metadata": {},
   "outputs": [],
   "source": []
  },
  {
   "cell_type": "code",
   "execution_count": 57,
   "metadata": {},
   "outputs": [],
   "source": [
    "filenames = []\n",
    "for year in range(2008,2018):\n",
    "    year = str(year)\n",
    "    path = \"./data/\"+year+\"hwybronlyonefile.zip\"\n",
    "    filenames.append(path)"
   ]
  },
  {
   "cell_type": "code",
   "execution_count": 58,
   "metadata": {},
   "outputs": [
    {
     "data": {
      "text/plain": [
       "['./data/2008hwybronlyonefile.zip',\n",
       " './data/2009hwybronlyonefile.zip',\n",
       " './data/2010hwybronlyonefile.zip',\n",
       " './data/2011hwybronlyonefile.zip',\n",
       " './data/2012hwybronlyonefile.zip',\n",
       " './data/2013hwybronlyonefile.zip',\n",
       " './data/2014hwybronlyonefile.zip',\n",
       " './data/2015hwybronlyonefile.zip',\n",
       " './data/2016hwybronlyonefile.zip',\n",
       " './data/2017hwybronlyonefile.zip']"
      ]
     },
     "execution_count": 58,
     "metadata": {},
     "output_type": "execute_result"
    }
   ],
   "source": [
    "filenames"
   ]
  },
  {
   "cell_type": "code",
   "execution_count": 18,
   "metadata": {},
   "outputs": [],
   "source": [
    "def createTR (filename,colname):\n",
    "        \n",
    "    # Create dataframes\n",
    "    df = pd.read_csv(filename, compression = 'zip',sep = ',',encoding='latin-1',usecols = rating_cols)\n",
    "    \n",
    "    # Remove 'N'\n",
    "    df = df[(df['DECK_COND_058']!='N') & (df['SUPERSTRUCTURE_COND_059']!='N') & (df['SUBSTRUCTURE_COND_060']!='N') ]\n",
    "    \n",
    "    # To numeric\n",
    "    df['DECK_COND_058'] = pd.to_numeric(df['DECK_COND_058'])\n",
    "    df['SUPERSTRUCTURE_COND_059'] = pd.to_numeric(df['SUPERSTRUCTURE_COND_059'])\n",
    "    df['SUBSTRUCTURE_COND_060'] = pd.to_numeric(df['SUBSTRUCTURE_COND_060'])\n",
    "    \n",
    "    # Remove nulls\n",
    "    df.dropna(inplace=True)\n",
    "    \n",
    "    # Creamos la columna con el Total Rating para cada año\n",
    "    df[colname] = df.apply(lambda row: TotalRating(row),axis=1)\n",
    "    \n",
    "    return df\n",
    "    "
   ]
  },
  {
   "cell_type": "code",
   "execution_count": 19,
   "metadata": {},
   "outputs": [
    {
     "name": "stderr",
     "output_type": "stream",
     "text": [
      "/home/dsc/anaconda3/lib/python3.7/site-packages/IPython/core/interactiveshell.py:3185: DtypeWarning: Columns (1) have mixed types. Specify dtype option on import or set low_memory=False.\n",
      "  if (yield from self.run_code(code, result)):\n"
     ]
    }
   ],
   "source": [
    "df17 = createTR('./data/2017hwybronlyonefile.zip','TR17')"
   ]
  },
  {
   "cell_type": "code",
   "execution_count": 20,
   "metadata": {},
   "outputs": [],
   "source": [
    "df17.to_csv (r'./df17.csv', index = None, header=True)"
   ]
  },
  {
   "cell_type": "code",
   "execution_count": 21,
   "metadata": {},
   "outputs": [],
   "source": [
    "df16 = createTR('./data/2016hwybronlyonefile.zip','TR16')"
   ]
  },
  {
   "cell_type": "code",
   "execution_count": 22,
   "metadata": {},
   "outputs": [],
   "source": [
    "df16.to_csv (r'./df16.csv', index = None, header=True)"
   ]
  },
  {
   "cell_type": "code",
   "execution_count": 23,
   "metadata": {},
   "outputs": [],
   "source": [
    "df15 = createTR('./data/2015hwybronlyonefile.zip','TR15')\n",
    "df15.to_csv (r'./df15.csv', index = None, header=True)"
   ]
  },
  {
   "cell_type": "code",
   "execution_count": 24,
   "metadata": {},
   "outputs": [],
   "source": [
    "df14 = createTR('./data/2014hwybronlyonefile.zip','TR14')\n",
    "df14.to_csv (r'./df14.csv', index = None, header=True)"
   ]
  },
  {
   "cell_type": "code",
   "execution_count": 25,
   "metadata": {},
   "outputs": [],
   "source": [
    "df13 = createTR('./data/2013hwybronlyonefile.zip','TR13')\n",
    "df13.to_csv (r'./df13.csv', index = None, header=True)"
   ]
  },
  {
   "cell_type": "code",
   "execution_count": 26,
   "metadata": {},
   "outputs": [],
   "source": [
    "df12 = createTR('./data/2012hwybronlyonefile.zip','TR12')\n",
    "df12.to_csv (r'./df12.csv', index = None, header=True)"
   ]
  },
  {
   "cell_type": "code",
   "execution_count": 27,
   "metadata": {},
   "outputs": [],
   "source": [
    "df11 = createTR('./data/2011hwybronlyonefile.zip','TR11')\n",
    "df11.to_csv (r'./df11.csv', index = None, header=True)"
   ]
  },
  {
   "cell_type": "code",
   "execution_count": 28,
   "metadata": {},
   "outputs": [],
   "source": [
    "df10 = createTR('./data/2010hwybronlyonefile.zip','TR10')\n",
    "df10.to_csv (r'./df10.csv', index = None, header=True)"
   ]
  },
  {
   "cell_type": "code",
   "execution_count": 59,
   "metadata": {},
   "outputs": [
    {
     "name": "stderr",
     "output_type": "stream",
     "text": [
      "/home/dsc/anaconda3/lib/python3.7/site-packages/IPython/core/interactiveshell.py:3185: DtypeWarning: Columns (1,66,67,68) have mixed types. Specify dtype option on import or set low_memory=False.\n",
      "  if (yield from self.run_code(code, result)):\n"
     ]
    }
   ],
   "source": [
    "df09 = createTR('./data/2009hwybronlyonefile.zip','TR09')\n",
    "df09.to_csv (r'./df09.csv', index = None, header=True)"
   ]
  },
  {
   "cell_type": "code",
   "execution_count": 60,
   "metadata": {},
   "outputs": [],
   "source": [
    "df08 = createTR('./data/2008hwybronlyonefile.zip','TR08')\n",
    "df08.to_csv (r'./df08.csv', index = None, header=True)"
   ]
  },
  {
   "cell_type": "code",
   "execution_count": null,
   "metadata": {},
   "outputs": [],
   "source": []
  },
  {
   "cell_type": "code",
   "execution_count": null,
   "metadata": {},
   "outputs": [],
   "source": [
    "# Vamos a leer el dataset del 2018 para hacer el join\n",
    "total18_fil = pd.read_csv('total18_fil.csv')"
   ]
  },
  {
   "cell_type": "code",
   "execution_count": 97,
   "metadata": {},
   "outputs": [],
   "source": [
    "df18 = total18_fil\n",
    "df18['TR18'] = df18.apply(lambda row: TotalRating(row),axis=1)"
   ]
  },
  {
   "cell_type": "code",
   "execution_count": 38,
   "metadata": {
    "scrolled": true
   },
   "outputs": [
    {
     "data": {
      "text/plain": [
       "(168029, 26)"
      ]
     },
     "execution_count": 38,
     "metadata": {},
     "output_type": "execute_result"
    }
   ],
   "source": [
    "df18.shape"
   ]
  },
  {
   "cell_type": "code",
   "execution_count": 39,
   "metadata": {},
   "outputs": [],
   "source": [
    "df_list = [df18,df17,df16,df15,df14,df13,df12,df11,df10] \n",
    "\n",
    "for df in df_list:\n",
    "    df.drop(['DECK_COND_058','SUPERSTRUCTURE_COND_059','SUBSTRUCTURE_COND_060'], axis=1, inplace = True)"
   ]
  },
  {
   "cell_type": "code",
   "execution_count": 40,
   "metadata": {},
   "outputs": [],
   "source": [
    "df_all = df18\n",
    "\n",
    "for df in df_list[1:]:\n",
    "    df_all = pd.merge(df_all, df, how='left', on=['STATE_CODE_001','STRUCTURE_NUMBER_008'])"
   ]
  },
  {
   "cell_type": "code",
   "execution_count": 41,
   "metadata": {},
   "outputs": [
    {
     "data": {
      "text/html": [
       "<div>\n",
       "<style scoped>\n",
       "    .dataframe tbody tr th:only-of-type {\n",
       "        vertical-align: middle;\n",
       "    }\n",
       "\n",
       "    .dataframe tbody tr th {\n",
       "        vertical-align: top;\n",
       "    }\n",
       "\n",
       "    .dataframe thead th {\n",
       "        text-align: right;\n",
       "    }\n",
       "</style>\n",
       "<table border=\"1\" class=\"dataframe\">\n",
       "  <thead>\n",
       "    <tr style=\"text-align: right;\">\n",
       "      <th></th>\n",
       "      <th>STATE_CODE_001</th>\n",
       "      <th>STRUCTURE_NUMBER_008</th>\n",
       "      <th>LAT_016</th>\n",
       "      <th>LONG_017</th>\n",
       "      <th>TRAFFIC_LANES_ON_028A</th>\n",
       "      <th>MEDIAN_CODE_033</th>\n",
       "      <th>DEGREES_SKEW_034</th>\n",
       "      <th>STRUCTURE_KIND_043A</th>\n",
       "      <th>STRUCTURE_TYPE_043B</th>\n",
       "      <th>MAIN_UNIT_SPANS_045</th>\n",
       "      <th>MAX_SPAN_LEN_MT_048</th>\n",
       "      <th>STRUCTURE_LEN_MT_049</th>\n",
       "      <th>DECK_WIDTH_MT_052</th>\n",
       "      <th>SURFACE_TYPE_108A</th>\n",
       "      <th>YEAR_BUILT_027</th>\n",
       "      <th>ADT_029</th>\n",
       "      <th>DESIGN_LOAD_031</th>\n",
       "      <th>PERCENT_ADT_TRUCK_109</th>\n",
       "      <th>MAINTENANCE_021</th>\n",
       "      <th>FUNCTIONAL_CLASS_026</th>\n",
       "      <th>WATERWAY_EVAL_071</th>\n",
       "      <th>YEAR_RECONSTRUCTED_106</th>\n",
       "      <th>TR18</th>\n",
       "      <th>TR17</th>\n",
       "      <th>TR16</th>\n",
       "      <th>TR15</th>\n",
       "      <th>TR14</th>\n",
       "      <th>TR13</th>\n",
       "      <th>TR12</th>\n",
       "      <th>TR11</th>\n",
       "      <th>TR10</th>\n",
       "    </tr>\n",
       "  </thead>\n",
       "  <tbody>\n",
       "    <tr>\n",
       "      <th>0</th>\n",
       "      <td>1</td>\n",
       "      <td>000013771700120</td>\n",
       "      <td>34465400.0</td>\n",
       "      <td>87390000.0</td>\n",
       "      <td>2</td>\n",
       "      <td>0</td>\n",
       "      <td>0</td>\n",
       "      <td>steel</td>\n",
       "      <td>2</td>\n",
       "      <td>1</td>\n",
       "      <td>17.7</td>\n",
       "      <td>18.9</td>\n",
       "      <td>9.8</td>\n",
       "      <td>bituminous</td>\n",
       "      <td>1958.0</td>\n",
       "      <td>3620.0</td>\n",
       "      <td>heavy</td>\n",
       "      <td>7.0</td>\n",
       "      <td>5.0</td>\n",
       "      <td>urban</td>\n",
       "      <td>none</td>\n",
       "      <td>0.0</td>\n",
       "      <td>6.5</td>\n",
       "      <td>6.5</td>\n",
       "      <td>7.0</td>\n",
       "      <td>7.0</td>\n",
       "      <td>8.0</td>\n",
       "      <td>8.0</td>\n",
       "      <td>8.0</td>\n",
       "      <td>8.0</td>\n",
       "      <td>8.0</td>\n",
       "    </tr>\n",
       "    <tr>\n",
       "      <th>1</th>\n",
       "      <td>1</td>\n",
       "      <td>000040</td>\n",
       "      <td>33304800.0</td>\n",
       "      <td>86480500.0</td>\n",
       "      <td>4</td>\n",
       "      <td>2</td>\n",
       "      <td>0</td>\n",
       "      <td>steel</td>\n",
       "      <td>2</td>\n",
       "      <td>1</td>\n",
       "      <td>8.2</td>\n",
       "      <td>8.2</td>\n",
       "      <td>44.5</td>\n",
       "      <td>bituminous</td>\n",
       "      <td>1910.0</td>\n",
       "      <td>13000.0</td>\n",
       "      <td>other</td>\n",
       "      <td>1.0</td>\n",
       "      <td>4.0</td>\n",
       "      <td>urban</td>\n",
       "      <td>none</td>\n",
       "      <td>0.0</td>\n",
       "      <td>4.0</td>\n",
       "      <td>4.0</td>\n",
       "      <td>4.0</td>\n",
       "      <td>4.0</td>\n",
       "      <td>4.0</td>\n",
       "      <td>4.0</td>\n",
       "      <td>4.0</td>\n",
       "      <td>4.0</td>\n",
       "      <td>4.0</td>\n",
       "    </tr>\n",
       "    <tr>\n",
       "      <th>2</th>\n",
       "      <td>1</td>\n",
       "      <td>000050</td>\n",
       "      <td>34575357.0</td>\n",
       "      <td>86371644.0</td>\n",
       "      <td>2</td>\n",
       "      <td>0</td>\n",
       "      <td>20</td>\n",
       "      <td>steel</td>\n",
       "      <td>2</td>\n",
       "      <td>1</td>\n",
       "      <td>9.4</td>\n",
       "      <td>9.4</td>\n",
       "      <td>6.7</td>\n",
       "      <td>concrete</td>\n",
       "      <td>1910.0</td>\n",
       "      <td>200.0</td>\n",
       "      <td>light</td>\n",
       "      <td>1.0</td>\n",
       "      <td>2.0</td>\n",
       "      <td>rural</td>\n",
       "      <td>high</td>\n",
       "      <td>1995.0</td>\n",
       "      <td>5.5</td>\n",
       "      <td>5.5</td>\n",
       "      <td>5.5</td>\n",
       "      <td>5.5</td>\n",
       "      <td>5.5</td>\n",
       "      <td>5.5</td>\n",
       "      <td>5.5</td>\n",
       "      <td>5.5</td>\n",
       "      <td>5.5</td>\n",
       "    </tr>\n",
       "    <tr>\n",
       "      <th>3</th>\n",
       "      <td>1</td>\n",
       "      <td>000060</td>\n",
       "      <td>34101800.0</td>\n",
       "      <td>86504800.0</td>\n",
       "      <td>3</td>\n",
       "      <td>0</td>\n",
       "      <td>0</td>\n",
       "      <td>concrete</td>\n",
       "      <td>2</td>\n",
       "      <td>3</td>\n",
       "      <td>10.4</td>\n",
       "      <td>34.7</td>\n",
       "      <td>15.2</td>\n",
       "      <td>concrete</td>\n",
       "      <td>1994.0</td>\n",
       "      <td>760.0</td>\n",
       "      <td>heavy</td>\n",
       "      <td>1.0</td>\n",
       "      <td>4.0</td>\n",
       "      <td>urban</td>\n",
       "      <td>none</td>\n",
       "      <td>0.0</td>\n",
       "      <td>7.0</td>\n",
       "      <td>8.0</td>\n",
       "      <td>8.0</td>\n",
       "      <td>8.0</td>\n",
       "      <td>8.0</td>\n",
       "      <td>8.0</td>\n",
       "      <td>8.0</td>\n",
       "      <td>8.0</td>\n",
       "      <td>8.0</td>\n",
       "    </tr>\n",
       "    <tr>\n",
       "      <th>4</th>\n",
       "      <td>1</td>\n",
       "      <td>000083</td>\n",
       "      <td>34531863.0</td>\n",
       "      <td>86243520.0</td>\n",
       "      <td>1</td>\n",
       "      <td>0</td>\n",
       "      <td>20</td>\n",
       "      <td>steel</td>\n",
       "      <td>2</td>\n",
       "      <td>2</td>\n",
       "      <td>3.7</td>\n",
       "      <td>7.3</td>\n",
       "      <td>4.0</td>\n",
       "      <td>concrete</td>\n",
       "      <td>1914.0</td>\n",
       "      <td>45.0</td>\n",
       "      <td>heavy</td>\n",
       "      <td>0.0</td>\n",
       "      <td>2.0</td>\n",
       "      <td>rural</td>\n",
       "      <td>high</td>\n",
       "      <td>0.0</td>\n",
       "      <td>6.2</td>\n",
       "      <td>6.2</td>\n",
       "      <td>6.2</td>\n",
       "      <td>6.2</td>\n",
       "      <td>6.2</td>\n",
       "      <td>6.2</td>\n",
       "      <td>4.0</td>\n",
       "      <td>4.0</td>\n",
       "      <td>4.0</td>\n",
       "    </tr>\n",
       "    <tr>\n",
       "      <th>5</th>\n",
       "      <td>1</td>\n",
       "      <td>000085</td>\n",
       "      <td>32093843.0</td>\n",
       "      <td>86582940.0</td>\n",
       "      <td>1</td>\n",
       "      <td>0</td>\n",
       "      <td>0</td>\n",
       "      <td>steel</td>\n",
       "      <td>2</td>\n",
       "      <td>8</td>\n",
       "      <td>4.0</td>\n",
       "      <td>18.6</td>\n",
       "      <td>5.0</td>\n",
       "      <td>concrete</td>\n",
       "      <td>1915.0</td>\n",
       "      <td>25.0</td>\n",
       "      <td>light</td>\n",
       "      <td>0.0</td>\n",
       "      <td>2.0</td>\n",
       "      <td>rural</td>\n",
       "      <td>low</td>\n",
       "      <td>1996.0</td>\n",
       "      <td>4.0</td>\n",
       "      <td>4.0</td>\n",
       "      <td>4.0</td>\n",
       "      <td>4.0</td>\n",
       "      <td>4.0</td>\n",
       "      <td>4.0</td>\n",
       "      <td>4.0</td>\n",
       "      <td>4.0</td>\n",
       "      <td>4.0</td>\n",
       "    </tr>\n",
       "    <tr>\n",
       "      <th>6</th>\n",
       "      <td>1</td>\n",
       "      <td>000136</td>\n",
       "      <td>32450279.0</td>\n",
       "      <td>85333220.0</td>\n",
       "      <td>1</td>\n",
       "      <td>0</td>\n",
       "      <td>0</td>\n",
       "      <td>steel</td>\n",
       "      <td>2</td>\n",
       "      <td>5</td>\n",
       "      <td>6.0</td>\n",
       "      <td>30.3</td>\n",
       "      <td>4.8</td>\n",
       "      <td>concrete</td>\n",
       "      <td>1920.0</td>\n",
       "      <td>25.0</td>\n",
       "      <td>other</td>\n",
       "      <td>0.0</td>\n",
       "      <td>2.0</td>\n",
       "      <td>rural</td>\n",
       "      <td>high</td>\n",
       "      <td>0.0</td>\n",
       "      <td>4.0</td>\n",
       "      <td>4.0</td>\n",
       "      <td>4.0</td>\n",
       "      <td>5.2</td>\n",
       "      <td>5.2</td>\n",
       "      <td>5.2</td>\n",
       "      <td>5.2</td>\n",
       "      <td>5.2</td>\n",
       "      <td>6.0</td>\n",
       "    </tr>\n",
       "    <tr>\n",
       "      <th>7</th>\n",
       "      <td>1</td>\n",
       "      <td>000138</td>\n",
       "      <td>32502400.0</td>\n",
       "      <td>85461200.0</td>\n",
       "      <td>1</td>\n",
       "      <td>0</td>\n",
       "      <td>0</td>\n",
       "      <td>steel</td>\n",
       "      <td>2</td>\n",
       "      <td>1</td>\n",
       "      <td>12.2</td>\n",
       "      <td>12.2</td>\n",
       "      <td>5.2</td>\n",
       "      <td>concrete</td>\n",
       "      <td>1920.0</td>\n",
       "      <td>175.0</td>\n",
       "      <td>light</td>\n",
       "      <td>0.0</td>\n",
       "      <td>4.0</td>\n",
       "      <td>rural</td>\n",
       "      <td>high</td>\n",
       "      <td>0.0</td>\n",
       "      <td>3.0</td>\n",
       "      <td>3.0</td>\n",
       "      <td>3.0</td>\n",
       "      <td>3.0</td>\n",
       "      <td>3.0</td>\n",
       "      <td>3.0</td>\n",
       "      <td>3.0</td>\n",
       "      <td>3.0</td>\n",
       "      <td>3.0</td>\n",
       "    </tr>\n",
       "    <tr>\n",
       "      <th>8</th>\n",
       "      <td>1</td>\n",
       "      <td>000147</td>\n",
       "      <td>33020433.0</td>\n",
       "      <td>85310223.0</td>\n",
       "      <td>1</td>\n",
       "      <td>0</td>\n",
       "      <td>0</td>\n",
       "      <td>steel</td>\n",
       "      <td>2</td>\n",
       "      <td>1</td>\n",
       "      <td>6.1</td>\n",
       "      <td>7.0</td>\n",
       "      <td>4.9</td>\n",
       "      <td>bituminous</td>\n",
       "      <td>1920.0</td>\n",
       "      <td>20.0</td>\n",
       "      <td>other</td>\n",
       "      <td>0.0</td>\n",
       "      <td>2.0</td>\n",
       "      <td>rural</td>\n",
       "      <td>high</td>\n",
       "      <td>0.0</td>\n",
       "      <td>5.2</td>\n",
       "      <td>5.2</td>\n",
       "      <td>5.2</td>\n",
       "      <td>5.2</td>\n",
       "      <td>5.2</td>\n",
       "      <td>6.0</td>\n",
       "      <td>6.0</td>\n",
       "      <td>6.0</td>\n",
       "      <td>6.0</td>\n",
       "    </tr>\n",
       "    <tr>\n",
       "      <th>9</th>\n",
       "      <td>1</td>\n",
       "      <td>000163</td>\n",
       "      <td>32571214.0</td>\n",
       "      <td>85425920.0</td>\n",
       "      <td>1</td>\n",
       "      <td>0</td>\n",
       "      <td>0</td>\n",
       "      <td>steel</td>\n",
       "      <td>2</td>\n",
       "      <td>1</td>\n",
       "      <td>12.2</td>\n",
       "      <td>12.2</td>\n",
       "      <td>4.1</td>\n",
       "      <td>concrete</td>\n",
       "      <td>1920.0</td>\n",
       "      <td>50.0</td>\n",
       "      <td>other</td>\n",
       "      <td>0.0</td>\n",
       "      <td>2.0</td>\n",
       "      <td>rural</td>\n",
       "      <td>high</td>\n",
       "      <td>0.0</td>\n",
       "      <td>5.5</td>\n",
       "      <td>5.5</td>\n",
       "      <td>5.5</td>\n",
       "      <td>5.5</td>\n",
       "      <td>5.5</td>\n",
       "      <td>5.5</td>\n",
       "      <td>5.5</td>\n",
       "      <td>5.5</td>\n",
       "      <td>5.5</td>\n",
       "    </tr>\n",
       "  </tbody>\n",
       "</table>\n",
       "</div>"
      ],
      "text/plain": [
       "   STATE_CODE_001 STRUCTURE_NUMBER_008     LAT_016    LONG_017  \\\n",
       "0               1      000013771700120  34465400.0  87390000.0   \n",
       "1               1      000040           33304800.0  86480500.0   \n",
       "2               1      000050           34575357.0  86371644.0   \n",
       "3               1      000060           34101800.0  86504800.0   \n",
       "4               1      000083           34531863.0  86243520.0   \n",
       "5               1      000085           32093843.0  86582940.0   \n",
       "6               1      000136           32450279.0  85333220.0   \n",
       "7               1      000138           32502400.0  85461200.0   \n",
       "8               1      000147           33020433.0  85310223.0   \n",
       "9               1      000163           32571214.0  85425920.0   \n",
       "\n",
       "   TRAFFIC_LANES_ON_028A  MEDIAN_CODE_033  DEGREES_SKEW_034  \\\n",
       "0                      2                0                 0   \n",
       "1                      4                2                 0   \n",
       "2                      2                0                20   \n",
       "3                      3                0                 0   \n",
       "4                      1                0                20   \n",
       "5                      1                0                 0   \n",
       "6                      1                0                 0   \n",
       "7                      1                0                 0   \n",
       "8                      1                0                 0   \n",
       "9                      1                0                 0   \n",
       "\n",
       "  STRUCTURE_KIND_043A  STRUCTURE_TYPE_043B  MAIN_UNIT_SPANS_045  \\\n",
       "0               steel                    2                    1   \n",
       "1               steel                    2                    1   \n",
       "2               steel                    2                    1   \n",
       "3            concrete                    2                    3   \n",
       "4               steel                    2                    2   \n",
       "5               steel                    2                    8   \n",
       "6               steel                    2                    5   \n",
       "7               steel                    2                    1   \n",
       "8               steel                    2                    1   \n",
       "9               steel                    2                    1   \n",
       "\n",
       "   MAX_SPAN_LEN_MT_048  STRUCTURE_LEN_MT_049  DECK_WIDTH_MT_052  \\\n",
       "0                 17.7                  18.9                9.8   \n",
       "1                  8.2                   8.2               44.5   \n",
       "2                  9.4                   9.4                6.7   \n",
       "3                 10.4                  34.7               15.2   \n",
       "4                  3.7                   7.3                4.0   \n",
       "5                  4.0                  18.6                5.0   \n",
       "6                  6.0                  30.3                4.8   \n",
       "7                 12.2                  12.2                5.2   \n",
       "8                  6.1                   7.0                4.9   \n",
       "9                 12.2                  12.2                4.1   \n",
       "\n",
       "  SURFACE_TYPE_108A  YEAR_BUILT_027  ADT_029 DESIGN_LOAD_031  \\\n",
       "0        bituminous          1958.0   3620.0           heavy   \n",
       "1        bituminous          1910.0  13000.0           other   \n",
       "2          concrete          1910.0    200.0           light   \n",
       "3          concrete          1994.0    760.0           heavy   \n",
       "4          concrete          1914.0     45.0           heavy   \n",
       "5          concrete          1915.0     25.0           light   \n",
       "6          concrete          1920.0     25.0           other   \n",
       "7          concrete          1920.0    175.0           light   \n",
       "8        bituminous          1920.0     20.0           other   \n",
       "9          concrete          1920.0     50.0           other   \n",
       "\n",
       "   PERCENT_ADT_TRUCK_109  MAINTENANCE_021 FUNCTIONAL_CLASS_026  \\\n",
       "0                    7.0              5.0                urban   \n",
       "1                    1.0              4.0                urban   \n",
       "2                    1.0              2.0                rural   \n",
       "3                    1.0              4.0                urban   \n",
       "4                    0.0              2.0                rural   \n",
       "5                    0.0              2.0                rural   \n",
       "6                    0.0              2.0                rural   \n",
       "7                    0.0              4.0                rural   \n",
       "8                    0.0              2.0                rural   \n",
       "9                    0.0              2.0                rural   \n",
       "\n",
       "  WATERWAY_EVAL_071  YEAR_RECONSTRUCTED_106  TR18  TR17  TR16  TR15  TR14  \\\n",
       "0              none                     0.0   6.5   6.5   7.0   7.0   8.0   \n",
       "1              none                     0.0   4.0   4.0   4.0   4.0   4.0   \n",
       "2              high                  1995.0   5.5   5.5   5.5   5.5   5.5   \n",
       "3              none                     0.0   7.0   8.0   8.0   8.0   8.0   \n",
       "4              high                     0.0   6.2   6.2   6.2   6.2   6.2   \n",
       "5               low                  1996.0   4.0   4.0   4.0   4.0   4.0   \n",
       "6              high                     0.0   4.0   4.0   4.0   5.2   5.2   \n",
       "7              high                     0.0   3.0   3.0   3.0   3.0   3.0   \n",
       "8              high                     0.0   5.2   5.2   5.2   5.2   5.2   \n",
       "9              high                     0.0   5.5   5.5   5.5   5.5   5.5   \n",
       "\n",
       "   TR13  TR12  TR11  TR10  \n",
       "0   8.0   8.0   8.0   8.0  \n",
       "1   4.0   4.0   4.0   4.0  \n",
       "2   5.5   5.5   5.5   5.5  \n",
       "3   8.0   8.0   8.0   8.0  \n",
       "4   6.2   4.0   4.0   4.0  \n",
       "5   4.0   4.0   4.0   4.0  \n",
       "6   5.2   5.2   5.2   6.0  \n",
       "7   3.0   3.0   3.0   3.0  \n",
       "8   6.0   6.0   6.0   6.0  \n",
       "9   5.5   5.5   5.5   5.5  "
      ]
     },
     "execution_count": 41,
     "metadata": {},
     "output_type": "execute_result"
    }
   ],
   "source": [
    "df_all.head(10)"
   ]
  },
  {
   "cell_type": "code",
   "execution_count": 42,
   "metadata": {},
   "outputs": [
    {
     "data": {
      "text/plain": [
       "(168354, 31)"
      ]
     },
     "execution_count": 42,
     "metadata": {},
     "output_type": "execute_result"
    }
   ],
   "source": [
    "df_all.shape"
   ]
  },
  {
   "cell_type": "code",
   "execution_count": 54,
   "metadata": {},
   "outputs": [
    {
     "name": "stdout",
     "output_type": "stream",
     "text": [
      "<class 'pandas.core.frame.DataFrame'>\n",
      "Int64Index: 3928 entries, 122363 to 126290\n",
      "Data columns (total 31 columns):\n",
      "STATE_CODE_001            3928 non-null int64\n",
      "STRUCTURE_NUMBER_008      3928 non-null object\n",
      "LAT_016                   3928 non-null float64\n",
      "LONG_017                  3928 non-null float64\n",
      "TRAFFIC_LANES_ON_028A     3928 non-null int64\n",
      "MEDIAN_CODE_033           3928 non-null int64\n",
      "DEGREES_SKEW_034          3928 non-null int64\n",
      "STRUCTURE_KIND_043A       3928 non-null object\n",
      "STRUCTURE_TYPE_043B       3928 non-null int64\n",
      "MAIN_UNIT_SPANS_045       3928 non-null int64\n",
      "MAX_SPAN_LEN_MT_048       3928 non-null float64\n",
      "STRUCTURE_LEN_MT_049      3928 non-null float64\n",
      "DECK_WIDTH_MT_052         3928 non-null float64\n",
      "SURFACE_TYPE_108A         3928 non-null object\n",
      "YEAR_BUILT_027            3928 non-null float64\n",
      "ADT_029                   3928 non-null float64\n",
      "DESIGN_LOAD_031           3928 non-null object\n",
      "PERCENT_ADT_TRUCK_109     3928 non-null float64\n",
      "MAINTENANCE_021           3928 non-null float64\n",
      "FUNCTIONAL_CLASS_026      3928 non-null object\n",
      "WATERWAY_EVAL_071         3928 non-null object\n",
      "YEAR_RECONSTRUCTED_106    3928 non-null float64\n",
      "TR18                      3928 non-null float64\n",
      "TR17                      740 non-null float64\n",
      "TR16                      787 non-null float64\n",
      "TR15                      317 non-null float64\n",
      "TR14                      411 non-null float64\n",
      "TR13                      744 non-null float64\n",
      "TR12                      737 non-null float64\n",
      "TR11                      273 non-null float64\n",
      "TR10                      5 non-null float64\n",
      "dtypes: float64(19), int64(6), object(6)\n",
      "memory usage: 982.0+ KB\n"
     ]
    }
   ],
   "source": [
    "# La razón por la que hemos ampliado el dataset a todos los puentes es porque en Pennsylvania, \n",
    "# donde inicialmente lo ibamos a hacer, cuando hacemos el join nos quedamos con 5 puentes con rating\n",
    "# válido de 2010 hacia atrás.\n",
    "\n",
    "df_all[(df_all['STATE_CODE_001'] == 42)].info()"
   ]
  },
  {
   "cell_type": "code",
   "execution_count": 55,
   "metadata": {},
   "outputs": [
    {
     "name": "stdout",
     "output_type": "stream",
     "text": [
      "<class 'pandas.core.frame.DataFrame'>\n",
      "Int64Index: 168354 entries, 0 to 168353\n",
      "Data columns (total 31 columns):\n",
      "STATE_CODE_001            168354 non-null int64\n",
      "STRUCTURE_NUMBER_008      168354 non-null object\n",
      "LAT_016                   168354 non-null float64\n",
      "LONG_017                  168354 non-null float64\n",
      "TRAFFIC_LANES_ON_028A     168354 non-null int64\n",
      "MEDIAN_CODE_033           168354 non-null int64\n",
      "DEGREES_SKEW_034          168354 non-null int64\n",
      "STRUCTURE_KIND_043A       168354 non-null object\n",
      "STRUCTURE_TYPE_043B       168354 non-null int64\n",
      "MAIN_UNIT_SPANS_045       168354 non-null int64\n",
      "MAX_SPAN_LEN_MT_048       168354 non-null float64\n",
      "STRUCTURE_LEN_MT_049      168354 non-null float64\n",
      "DECK_WIDTH_MT_052         168354 non-null float64\n",
      "SURFACE_TYPE_108A         168354 non-null object\n",
      "YEAR_BUILT_027            168354 non-null float64\n",
      "ADT_029                   168354 non-null float64\n",
      "DESIGN_LOAD_031           168354 non-null object\n",
      "PERCENT_ADT_TRUCK_109     168354 non-null float64\n",
      "MAINTENANCE_021           168354 non-null float64\n",
      "FUNCTIONAL_CLASS_026      168354 non-null object\n",
      "WATERWAY_EVAL_071         168354 non-null object\n",
      "YEAR_RECONSTRUCTED_106    168354 non-null float64\n",
      "TR18                      168354 non-null float64\n",
      "TR17                      107469 non-null float64\n",
      "TR16                      105015 non-null float64\n",
      "TR15                      100778 non-null float64\n",
      "TR14                      99464 non-null float64\n",
      "TR13                      100492 non-null float64\n",
      "TR12                      100256 non-null float64\n",
      "TR11                      96918 non-null float64\n",
      "TR10                      93387 non-null float64\n",
      "dtypes: float64(19), int64(6), object(6)\n",
      "memory usage: 46.1+ MB\n"
     ]
    }
   ],
   "source": [
    "# Si consideramos todo el dataset vamos perdiendo datos pero seguimos con un número considerable de entradas\n",
    "\n",
    "df_all.info()"
   ]
  },
  {
   "cell_type": "code",
   "execution_count": null,
   "metadata": {},
   "outputs": [],
   "source": []
  },
  {
   "cell_type": "markdown",
   "metadata": {},
   "source": [
    "# CAMBIAR LOS NAN POR EL VALOR DEL AÑO ANTERIOR"
   ]
  },
  {
   "cell_type": "code",
   "execution_count": null,
   "metadata": {},
   "outputs": [],
   "source": [
    "# Antes de ejecutarlo en este dataset hay que cambiar los NaN por el valor del año anterior\n",
    "\n",
    "def det_formula(row):\n",
    "    \n",
    "    m=0\n",
    "    cont_rehab = 0\n",
    "\n",
    "    for i in range(1,len(list_tr)):\n",
    "        dif = row[list_tr[i-1]]-row[list_tr[i]]\n",
    "        \n",
    "        if dif >= 0: \n",
    "            m += dif\n",
    "            \n",
    "        else:\n",
    "            dif = 0\n",
    "            cont_rehab+=1\n",
    "            m += dif\n",
    "            \n",
    "    return m/(i-cont_rehab)\n",
    "    \n",
    "\n",
    "df['DT'] = df.apply(lambda row: det_formula(row), axis=1)\n"
   ]
  }
 ],
 "metadata": {
  "kernelspec": {
   "display_name": "Python 3",
   "language": "python",
   "name": "python3"
  },
  "language_info": {
   "codemirror_mode": {
    "name": "ipython",
    "version": 3
   },
   "file_extension": ".py",
   "mimetype": "text/x-python",
   "name": "python",
   "nbconvert_exporter": "python",
   "pygments_lexer": "ipython3",
   "version": "3.7.1"
  }
 },
 "nbformat": 4,
 "nbformat_minor": 2
}
