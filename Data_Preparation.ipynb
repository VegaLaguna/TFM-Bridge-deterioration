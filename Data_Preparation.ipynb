{
 "cells": [
  {
   "cell_type": "markdown",
   "metadata": {},
   "source": [
    "# Dataframe preparation"
   ]
  },
  {
   "cell_type": "markdown",
   "metadata": {},
   "source": [
    "Once we have downloaded all the datasets we will be using in our project, the first thing we should do is preparing the dataframe we will be working on."
   ]
  },
  {
   "cell_type": "code",
   "execution_count": 1,
   "metadata": {},
   "outputs": [],
   "source": [
    "# Importing modules\n",
    "import pandas as pd\n",
    "import numpy as np"
   ]
  },
  {
   "cell_type": "markdown",
   "metadata": {},
   "source": [
    "The downloaded files are in a txt format, with the state name and the corresponding year of the dataset."
   ]
  },
  {
   "cell_type": "code",
   "execution_count": 2,
   "metadata": {},
   "outputs": [
    {
     "name": "stderr",
     "output_type": "stream",
     "text": [
      "/home/dsc/anaconda3/lib/python3.7/site-packages/IPython/core/interactiveshell.py:3020: DtypeWarning: Columns (1,17,75,98,135) have mixed types. Specify dtype option on import or set low_memory=False.\n",
      "  interactivity=interactivity, compiler=compiler, result=result)\n"
     ]
    }
   ],
   "source": [
    "# Let's create dataframes from those txt files\n",
    "pa18 = pd.read_csv('./NBIDATA/PA18.txt')"
   ]
  },
  {
   "cell_type": "code",
   "execution_count": 3,
   "metadata": {},
   "outputs": [
    {
     "data": {
      "text/plain": [
       "(22737, 137)"
      ]
     },
     "execution_count": 3,
     "metadata": {},
     "output_type": "execute_result"
    }
   ],
   "source": [
    "pa18.shape"
   ]
  },
  {
   "cell_type": "code",
   "execution_count": null,
   "metadata": {},
   "outputs": [],
   "source": [
    "# CHECKED that the number of bridges is the same as in the table provided in the FHWA website"
   ]
  },
  {
   "cell_type": "code",
   "execution_count": 14,
   "metadata": {},
   "outputs": [],
   "source": [
    "states = ['PA','OH']\n",
    "\n",
    "years = ['1992','1993','1994','1995','1996','1997','1998','1999',\n",
    "        '2000','2001','2002','2003','2004','2005','2006','2007','2008','2009',\n",
    "        '10','11','2012','13','14','15','16','17','18']"
   ]
  },
  {
   "cell_type": "code",
   "execution_count": 21,
   "metadata": {},
   "outputs": [],
   "source": [
    "link_data = []\n",
    "\n",
    "for state in states:\n",
    "    for year in years:\n",
    "        link ='./NBIDATA/'+state+year+'.txt'\n",
    "        link_data.append(link)\n"
   ]
  },
  {
   "cell_type": "code",
   "execution_count": 22,
   "metadata": {
    "scrolled": true
   },
   "outputs": [
    {
     "data": {
      "text/plain": [
       "['./NBIDATA/PA1992.txt',\n",
       " './NBIDATA/PA1993.txt',\n",
       " './NBIDATA/PA1994.txt',\n",
       " './NBIDATA/PA1995.txt',\n",
       " './NBIDATA/PA1996.txt',\n",
       " './NBIDATA/PA1997.txt',\n",
       " './NBIDATA/PA1998.txt',\n",
       " './NBIDATA/PA1999.txt',\n",
       " './NBIDATA/PA2000.txt',\n",
       " './NBIDATA/PA2001.txt',\n",
       " './NBIDATA/PA2002.txt',\n",
       " './NBIDATA/PA2003.txt',\n",
       " './NBIDATA/PA2004.txt',\n",
       " './NBIDATA/PA2005.txt',\n",
       " './NBIDATA/PA2006.txt',\n",
       " './NBIDATA/PA2007.txt',\n",
       " './NBIDATA/PA2008.txt',\n",
       " './NBIDATA/PA2009.txt',\n",
       " './NBIDATA/PA10.txt',\n",
       " './NBIDATA/PA11.txt',\n",
       " './NBIDATA/PA2012.txt',\n",
       " './NBIDATA/PA13.txt',\n",
       " './NBIDATA/PA14.txt',\n",
       " './NBIDATA/PA15.txt',\n",
       " './NBIDATA/PA16.txt',\n",
       " './NBIDATA/PA17.txt',\n",
       " './NBIDATA/PA18.txt',\n",
       " './NBIDATA/OH1992.txt',\n",
       " './NBIDATA/OH1993.txt',\n",
       " './NBIDATA/OH1994.txt',\n",
       " './NBIDATA/OH1995.txt',\n",
       " './NBIDATA/OH1996.txt',\n",
       " './NBIDATA/OH1997.txt',\n",
       " './NBIDATA/OH1998.txt',\n",
       " './NBIDATA/OH1999.txt',\n",
       " './NBIDATA/OH2000.txt',\n",
       " './NBIDATA/OH2001.txt',\n",
       " './NBIDATA/OH2002.txt',\n",
       " './NBIDATA/OH2003.txt',\n",
       " './NBIDATA/OH2004.txt',\n",
       " './NBIDATA/OH2005.txt',\n",
       " './NBIDATA/OH2006.txt',\n",
       " './NBIDATA/OH2007.txt',\n",
       " './NBIDATA/OH2008.txt',\n",
       " './NBIDATA/OH2009.txt',\n",
       " './NBIDATA/OH10.txt',\n",
       " './NBIDATA/OH11.txt',\n",
       " './NBIDATA/OH2012.txt',\n",
       " './NBIDATA/OH13.txt',\n",
       " './NBIDATA/OH14.txt',\n",
       " './NBIDATA/OH15.txt',\n",
       " './NBIDATA/OH16.txt',\n",
       " './NBIDATA/OH17.txt',\n",
       " './NBIDATA/OH18.txt']"
      ]
     },
     "execution_count": 22,
     "metadata": {},
     "output_type": "execute_result"
    }
   ],
   "source": [
    "link_data"
   ]
  },
  {
   "cell_type": "code",
   "execution_count": 25,
   "metadata": {},
   "outputs": [
    {
     "data": {
      "text/plain": [
       "['STATE_CODE_001',\n",
       " 'STRUCTURE_NUMBER_008',\n",
       " 'RECORD_TYPE_005A',\n",
       " 'ROUTE_PREFIX_005B',\n",
       " 'SERVICE_LEVEL_005C',\n",
       " 'ROUTE_NUMBER_005D',\n",
       " 'DIRECTION_005E',\n",
       " 'HIGHWAY_DISTRICT_002',\n",
       " 'COUNTY_CODE_003',\n",
       " 'PLACE_CODE_004',\n",
       " 'FEATURES_DESC_006A',\n",
       " 'CRITICAL_FACILITY_006B',\n",
       " 'FACILITY_CARRIED_007',\n",
       " 'LOCATION_009',\n",
       " 'MIN_VERT_CLR_010',\n",
       " 'KILOPOINT_011',\n",
       " 'BASE_HWY_NETWORK_012',\n",
       " 'LRS_INV_ROUTE_013A',\n",
       " 'SUBROUTE_NO_013B',\n",
       " 'LAT_016',\n",
       " 'LONG_017',\n",
       " 'DETOUR_KILOS_019',\n",
       " 'TOLL_020',\n",
       " 'MAINTENANCE_021',\n",
       " 'OWNER_022',\n",
       " 'FUNCTIONAL_CLASS_026',\n",
       " 'YEAR_BUILT_027',\n",
       " 'TRAFFIC_LANES_ON_028A',\n",
       " 'TRAFFIC_LANES_UND_028B',\n",
       " 'ADT_029',\n",
       " 'YEAR_ADT_030',\n",
       " 'DESIGN_LOAD_031',\n",
       " 'APPR_WIDTH_MT_032',\n",
       " 'MEDIAN_CODE_033',\n",
       " 'DEGREES_SKEW_034',\n",
       " 'STRUCTURE_FLARED_035',\n",
       " 'RAILINGS_036A',\n",
       " 'TRANSITIONS_036B',\n",
       " 'APPR_RAIL_036C',\n",
       " 'APPR_RAIL_END_036D',\n",
       " 'HISTORY_037',\n",
       " 'NAVIGATION_038',\n",
       " 'NAV_VERT_CLR_MT_039',\n",
       " 'NAV_HORR_CLR_MT_040',\n",
       " 'OPEN_CLOSED_POSTED_041',\n",
       " 'SERVICE_ON_042A',\n",
       " 'SERVICE_UND_042B',\n",
       " 'STRUCTURE_KIND_043A',\n",
       " 'STRUCTURE_TYPE_043B',\n",
       " 'APPR_KIND_044A',\n",
       " 'APPR_TYPE_044B',\n",
       " 'MAIN_UNIT_SPANS_045',\n",
       " 'APPR_SPANS_046',\n",
       " 'HORR_CLR_MT_047',\n",
       " 'MAX_SPAN_LEN_MT_048',\n",
       " 'STRUCTURE_LEN_MT_049',\n",
       " 'LEFT_CURB_MT_050A',\n",
       " 'RIGHT_CURB_MT_050B',\n",
       " 'ROADWAY_WIDTH_MT_051',\n",
       " 'DECK_WIDTH_MT_052',\n",
       " 'VERT_CLR_OVER_MT_053',\n",
       " 'VERT_CLR_UND_REF_054A',\n",
       " 'VERT_CLR_UND_054B',\n",
       " 'LAT_UND_REF_055A',\n",
       " 'LAT_UND_MT_055B',\n",
       " 'LEFT_LAT_UND_MT_056',\n",
       " 'DECK_COND_058',\n",
       " 'SUPERSTRUCTURE_COND_059',\n",
       " 'SUBSTRUCTURE_COND_060',\n",
       " 'CHANNEL_COND_061',\n",
       " 'CULVERT_COND_062',\n",
       " 'OPR_RATING_METH_063',\n",
       " 'OPERATING_RATING_064',\n",
       " 'INV_RATING_METH_065',\n",
       " 'INVENTORY_RATING_066',\n",
       " 'STRUCTURAL_EVAL_067',\n",
       " 'DECK_GEOMETRY_EVAL_068',\n",
       " 'UNDCLRENCE_EVAL_069',\n",
       " 'POSTING_EVAL_070',\n",
       " 'WATERWAY_EVAL_071',\n",
       " 'APPR_ROAD_EVAL_072',\n",
       " 'WORK_PROPOSED_075A',\n",
       " 'WORK_DONE_BY_075B',\n",
       " 'IMP_LEN_MT_076',\n",
       " 'DATE_OF_INSPECT_090',\n",
       " 'INSPECT_FREQ_MONTHS_091',\n",
       " 'FRACTURE_092A',\n",
       " 'UNDWATER_LOOK_SEE_092B',\n",
       " 'SPEC_INSPECT_092C',\n",
       " 'FRACTURE_LAST_DATE_093A',\n",
       " 'UNDWATER_LAST_DATE_093B',\n",
       " 'SPEC_LAST_DATE_093C',\n",
       " 'BRIDGE_IMP_COST_094',\n",
       " 'ROADWAY_IMP_COST_095',\n",
       " 'TOTAL_IMP_COST_096',\n",
       " 'YEAR_OF_IMP_097',\n",
       " 'OTHER_STATE_CODE_098A',\n",
       " 'OTHER_STATE_PCNT_098B',\n",
       " 'OTHR_STATE_STRUC_NO_099',\n",
       " 'STRAHNET_HIGHWAY_100',\n",
       " 'PARALLEL_STRUCTURE_101',\n",
       " 'TRAFFIC_DIRECTION_102',\n",
       " 'TEMP_STRUCTURE_103',\n",
       " 'HIGHWAY_SYSTEM_104',\n",
       " 'FEDERAL_LANDS_105',\n",
       " 'YEAR_RECONSTRUCTED_106',\n",
       " 'DECK_STRUCTURE_TYPE_107',\n",
       " 'SURFACE_TYPE_108A',\n",
       " 'MEMBRANE_TYPE_108B',\n",
       " 'DECK_PROTECTION_108C',\n",
       " 'PERCENT_ADT_TRUCK_109',\n",
       " 'NATIONAL_NETWORK_110',\n",
       " 'PIER_PROTECTION_111',\n",
       " 'BRIDGE_LEN_IND_112',\n",
       " 'SCOUR_CRITICAL_113',\n",
       " 'FUTURE_ADT_114',\n",
       " 'YEAR_OF_FUTURE_ADT_115',\n",
       " 'MIN_NAV_CLR_MT_116',\n",
       " 'FED_AGENCY',\n",
       " 'DATE_LAST_UPDATE',\n",
       " 'TYPE_LAST_UPDATE',\n",
       " 'DEDUCT_CODE',\n",
       " 'REMARKS',\n",
       " 'PROGRAM_CODE',\n",
       " 'PROJ_NO',\n",
       " 'PROJ_SUFFIX',\n",
       " 'NBI_TYPE_OF_IMP',\n",
       " 'DTL_TYPE_OF_IMP',\n",
       " 'SPECIAL_CODE',\n",
       " 'STEP_CODE',\n",
       " 'STATUS_WITH_10YR_RULE',\n",
       " 'SUFFICIENCY_ASTERC',\n",
       " 'SUFFICIENCY_RATING',\n",
       " 'STATUS_NO_10YR_RULE',\n",
       " 'CAT10',\n",
       " 'CAT23',\n",
       " 'CAT29']"
      ]
     },
     "execution_count": 25,
     "metadata": {},
     "output_type": "execute_result"
    }
   ],
   "source": [
    "# We are only interested in extracting the columns from the older datasets that contain the condition ratings and the structure number\n",
    "list(pa18.columns)"
   ]
  },
  {
   "cell_type": "code",
   "execution_count": 27,
   "metadata": {},
   "outputs": [],
   "source": [
    "rating_cols = ['STRUCTURE_NUMBER_008','DECK_COND_058','SUPERSTRUCTURE_COND_059','SUBSTRUCTURE_COND_060']"
   ]
  },
  {
   "cell_type": "markdown",
   "metadata": {},
   "source": [
    "We will have to do the same data preparation for all the datasets we have downloaded from 1992 to 2018 and from PA and OH.\n",
    "The steps are: \n",
    "    - Read only the rating condition and structure number columns \n",
    "    - Check missing values and how to deal with them\n",
    "    - Create a new variable \"Total condition rating\" that considers the three rating conditions\n",
    "    \n",
    "What we want to study is the evolution of this new variable per year on each bridge:\n",
    "    - Create the ratio per year of this new variable\n",
    "    - Calculate the mean of this ratio per bridge"
   ]
  },
  {
   "cell_type": "markdown",
   "metadata": {},
   "source": [
    "#### Read only the rating condition and structure number columns"
   ]
  },
  {
   "cell_type": "code",
   "execution_count": 38,
   "metadata": {
    "scrolled": true
   },
   "outputs": [
    {
     "name": "stderr",
     "output_type": "stream",
     "text": [
      "/home/dsc/anaconda3/lib/python3.7/site-packages/IPython/core/interactiveshell.py:3020: DtypeWarning: Columns (66,67,68) have mixed types. Specify dtype option on import or set low_memory=False.\n",
      "  interactivity=interactivity, compiler=compiler, result=result)\n"
     ]
    }
   ],
   "source": [
    "pa92 = pd.read_csv(link_data[0], header=0, usecols = rating_cols)"
   ]
  },
  {
   "cell_type": "code",
   "execution_count": 39,
   "metadata": {},
   "outputs": [
    {
     "data": {
      "text/plain": [
       "(29767, 4)"
      ]
     },
     "execution_count": 39,
     "metadata": {},
     "output_type": "execute_result"
    }
   ],
   "source": [
    "pa92.shape"
   ]
  },
  {
   "cell_type": "code",
   "execution_count": 40,
   "metadata": {},
   "outputs": [
    {
     "data": {
      "text/html": [
       "<div>\n",
       "<style scoped>\n",
       "    .dataframe tbody tr th:only-of-type {\n",
       "        vertical-align: middle;\n",
       "    }\n",
       "\n",
       "    .dataframe tbody tr th {\n",
       "        vertical-align: top;\n",
       "    }\n",
       "\n",
       "    .dataframe thead th {\n",
       "        text-align: right;\n",
       "    }\n",
       "</style>\n",
       "<table border=\"1\" class=\"dataframe\">\n",
       "  <thead>\n",
       "    <tr style=\"text-align: right;\">\n",
       "      <th></th>\n",
       "      <th>STRUCTURE_NUMBER_008</th>\n",
       "      <th>DECK_COND_058</th>\n",
       "      <th>SUPERSTRUCTURE_COND_059</th>\n",
       "      <th>SUBSTRUCTURE_COND_060</th>\n",
       "    </tr>\n",
       "  </thead>\n",
       "  <tbody>\n",
       "    <tr>\n",
       "      <th>0</th>\n",
       "      <td>010015001019940</td>\n",
       "      <td>7</td>\n",
       "      <td>8</td>\n",
       "      <td>7</td>\n",
       "    </tr>\n",
       "    <tr>\n",
       "      <th>1</th>\n",
       "      <td>010015003000000</td>\n",
       "      <td>8</td>\n",
       "      <td>8</td>\n",
       "      <td>7</td>\n",
       "    </tr>\n",
       "    <tr>\n",
       "      <th>2</th>\n",
       "      <td>010015003100000</td>\n",
       "      <td>8</td>\n",
       "      <td>7</td>\n",
       "      <td>7</td>\n",
       "    </tr>\n",
       "    <tr>\n",
       "      <th>3</th>\n",
       "      <td>010015005000000</td>\n",
       "      <td>8</td>\n",
       "      <td>8</td>\n",
       "      <td>8</td>\n",
       "    </tr>\n",
       "    <tr>\n",
       "      <th>4</th>\n",
       "      <td>010015005100000</td>\n",
       "      <td>7</td>\n",
       "      <td>8</td>\n",
       "      <td>7</td>\n",
       "    </tr>\n",
       "  </tbody>\n",
       "</table>\n",
       "</div>"
      ],
      "text/plain": [
       "  STRUCTURE_NUMBER_008 DECK_COND_058 SUPERSTRUCTURE_COND_059  \\\n",
       "0      010015001019940             7                       8   \n",
       "1      010015003000000             8                       8   \n",
       "2      010015003100000             8                       7   \n",
       "3      010015005000000             8                       8   \n",
       "4      010015005100000             7                       8   \n",
       "\n",
       "  SUBSTRUCTURE_COND_060  \n",
       "0                     7  \n",
       "1                     7  \n",
       "2                     7  \n",
       "3                     8  \n",
       "4                     7  "
      ]
     },
     "execution_count": 40,
     "metadata": {},
     "output_type": "execute_result"
    }
   ],
   "source": [
    "pa92.head()"
   ]
  },
  {
   "cell_type": "code",
   "execution_count": 59,
   "metadata": {
    "scrolled": true
   },
   "outputs": [
    {
     "data": {
      "text/plain": [
       "STRUCTURE_NUMBER_008       object\n",
       "DECK_COND_058              object\n",
       "SUPERSTRUCTURE_COND_059    object\n",
       "SUBSTRUCTURE_COND_060      object\n",
       "dtype: object"
      ]
     },
     "execution_count": 59,
     "metadata": {},
     "output_type": "execute_result"
    }
   ],
   "source": [
    "pa92.dtypes"
   ]
  },
  {
   "cell_type": "code",
   "execution_count": 66,
   "metadata": {},
   "outputs": [],
   "source": [
    "# We also drop all the rows with 'N' values (which mean Not Applicable)\n",
    "pa92 = pa92[pa92['DECK_COND_058']!='N']\n",
    "pa92 = pa92[pa92['SUPERSTRUCTURE_COND_059']!='N']\n",
    "pa92 = pa92[pa92['SUBSTRUCTURE_COND_060']!='N']"
   ]
  },
  {
   "cell_type": "code",
   "execution_count": 67,
   "metadata": {},
   "outputs": [
    {
     "data": {
      "text/plain": [
       "(20491, 4)"
      ]
     },
     "execution_count": 67,
     "metadata": {},
     "output_type": "execute_result"
    }
   ],
   "source": [
    "pa92.shape"
   ]
  },
  {
   "cell_type": "code",
   "execution_count": 79,
   "metadata": {
    "scrolled": true
   },
   "outputs": [],
   "source": [
    "# We need to change the object types to numeric\n",
    "pa92['DECK_COND_058'] = pd.to_numeric(pa92['DECK_COND_058'])\n",
    "pa92['SUPERSTRUCTURE_COND_059'] = pd.to_numeric(pa92['SUPERSTRUCTURE_COND_059'])\n",
    "pa92['SUBSTRUCTURE_COND_060'] = pd.to_numeric(pa92['SUBSTRUCTURE_COND_060'])"
   ]
  },
  {
   "cell_type": "code",
   "execution_count": 80,
   "metadata": {},
   "outputs": [
    {
     "data": {
      "text/plain": [
       "STRUCTURE_NUMBER_008       object\n",
       "DECK_COND_058               int64\n",
       "SUPERSTRUCTURE_COND_059     int64\n",
       "SUBSTRUCTURE_COND_060       int64\n",
       "dtype: object"
      ]
     },
     "execution_count": 80,
     "metadata": {},
     "output_type": "execute_result"
    }
   ],
   "source": [
    "pa92.dtypes"
   ]
  },
  {
   "cell_type": "markdown",
   "metadata": {},
   "source": [
    "#### Check missing values"
   ]
  },
  {
   "cell_type": "code",
   "execution_count": 47,
   "metadata": {},
   "outputs": [
    {
     "data": {
      "text/plain": [
       "STRUCTURE_NUMBER_008          0\n",
       "DECK_COND_058              6010\n",
       "SUPERSTRUCTURE_COND_059    6016\n",
       "SUBSTRUCTURE_COND_060      6011\n",
       "dtype: int64"
      ]
     },
     "execution_count": 47,
     "metadata": {},
     "output_type": "execute_result"
    }
   ],
   "source": [
    "# We check how many items are missing in the dataset\n",
    "pa92.isnull().sum()"
   ]
  },
  {
   "cell_type": "code",
   "execution_count": 48,
   "metadata": {},
   "outputs": [],
   "source": [
    "# We drop the rows with null values\n",
    "pa92.dropna(inplace=True)"
   ]
  },
  {
   "cell_type": "code",
   "execution_count": 49,
   "metadata": {
    "scrolled": true
   },
   "outputs": [
    {
     "data": {
      "text/plain": [
       "(23747, 4)"
      ]
     },
     "execution_count": 49,
     "metadata": {},
     "output_type": "execute_result"
    }
   ],
   "source": [
    "pa92.shape"
   ]
  },
  {
   "cell_type": "markdown",
   "metadata": {},
   "source": [
    "#### Create a new variable \"Total condition rating\" that considers the three rating conditions\n",
    "\n",
    "El dataset contiene los ratings de tres partes fundamentales de los puentes:\n",
    "    - Deck (Item 58): describes the overall condition rating of the deck (deck slab, parapets and barriers, bearings, ...)\n",
    "    \n",
    "    - Superstructure (Item 59): describes the physical condition rating of all the structural members of the superstructure (girders/beams, cross-frames, stiffeners,...)\n",
    "    \n",
    "    - Substructure (Item 60): describes the physical condition of piers, abutments, piles, fenders, footings or other components of the bridge substructure."
   ]
  },
  {
   "cell_type": "markdown",
   "metadata": {},
   "source": [
    "La nueva variable Total Rating que engloba los 3 ratings que define el dataset se ha establecido tras evaluar las common practices en inspección y rehabilitación de puentes. \n",
    "\n",
    "Se han definido 3 casos distintos que podrían presentar los datos:\n",
    "    - Si cualquiera de los ratings estuviese en \"Poor condition\", es decir con valores menores o iguales al 4, la rehabilitación debería de estar próxima, por lo que tomamos el Total Rating como el menor de los 3 ratings.\n",
    "    \n",
    "    - Si por el contrario todos los ratings están por encima de 8, es decir con \"Very good condition\" o \"Excellent condition\", definiremos el Total Rating como la media aritmética de los ratings.\n",
    "    \n",
    "    - Como tercera opción, si tenemos valores superiores al 5 pero sin estar todos en las mejores condiciones, definiremos el Total Rating como una media ponderada. Los coeficientes de ponderación que se han establecido son:\n",
    "            - 0.5 para el menor de los ratings, para dar más peso al elemento más desfavorecido\n",
    "            - 0.3 para el rating intermedio (prácticamente la misma ponderación que en la opción 2)\n",
    "            - 0.2 para el mayor de los ratings"
   ]
  },
  {
   "cell_type": "code",
   "execution_count": 81,
   "metadata": {},
   "outputs": [],
   "source": [
    "def TotalRating(row):\n",
    "    dr = row['DECK_COND_058']\n",
    "    supr = row['SUPERSTRUCTURE_COND_059']\n",
    "    subr = row['SUBSTRUCTURE_COND_060']\n",
    "    minval = min(dr, supr, subr)\n",
    "    maxval = max(dr, supr, subr)\n",
    "   \n",
    "    if minval <= 4:\n",
    "        rating = minval\n",
    "        \n",
    "    elif minval >= 8:\n",
    "        rating = (dr+supr+subr)/3\n",
    "        \n",
    "    else:\n",
    "        medval = dr+subr+supr-minval-maxval\n",
    "        rating = 0.5*minval+0.2*maxval+0.3*medval\n",
    "\n",
    "    return rating\n",
    "\n",
    "\n",
    "pa92['TotalRating'] = pa92.apply(lambda row: TotalRating(row),axis=1)"
   ]
  },
  {
   "cell_type": "code",
   "execution_count": 84,
   "metadata": {},
   "outputs": [
    {
     "data": {
      "text/html": [
       "<div>\n",
       "<style scoped>\n",
       "    .dataframe tbody tr th:only-of-type {\n",
       "        vertical-align: middle;\n",
       "    }\n",
       "\n",
       "    .dataframe tbody tr th {\n",
       "        vertical-align: top;\n",
       "    }\n",
       "\n",
       "    .dataframe thead th {\n",
       "        text-align: right;\n",
       "    }\n",
       "</style>\n",
       "<table border=\"1\" class=\"dataframe\">\n",
       "  <thead>\n",
       "    <tr style=\"text-align: right;\">\n",
       "      <th></th>\n",
       "      <th>STRUCTURE_NUMBER_008</th>\n",
       "      <th>DECK_COND_058</th>\n",
       "      <th>SUPERSTRUCTURE_COND_059</th>\n",
       "      <th>SUBSTRUCTURE_COND_060</th>\n",
       "      <th>TotalRating</th>\n",
       "    </tr>\n",
       "  </thead>\n",
       "  <tbody>\n",
       "    <tr>\n",
       "      <th>8028</th>\n",
       "      <td>207225069330330</td>\n",
       "      <td>3</td>\n",
       "      <td>5</td>\n",
       "      <td>5</td>\n",
       "      <td>3.0</td>\n",
       "    </tr>\n",
       "    <tr>\n",
       "      <th>18575</th>\n",
       "      <td>530443059014390</td>\n",
       "      <td>8</td>\n",
       "      <td>8</td>\n",
       "      <td>8</td>\n",
       "      <td>8.0</td>\n",
       "    </tr>\n",
       "    <tr>\n",
       "      <th>2184</th>\n",
       "      <td>050096069004660</td>\n",
       "      <td>8</td>\n",
       "      <td>8</td>\n",
       "      <td>6</td>\n",
       "      <td>7.0</td>\n",
       "    </tr>\n",
       "    <tr>\n",
       "      <th>6697</th>\n",
       "      <td>164031001000000</td>\n",
       "      <td>4</td>\n",
       "      <td>2</td>\n",
       "      <td>4</td>\n",
       "      <td>2.0</td>\n",
       "    </tr>\n",
       "    <tr>\n",
       "      <th>10434</th>\n",
       "      <td>280997058000000</td>\n",
       "      <td>5</td>\n",
       "      <td>4</td>\n",
       "      <td>6</td>\n",
       "      <td>4.0</td>\n",
       "    </tr>\n",
       "    <tr>\n",
       "      <th>14689</th>\n",
       "      <td>410180044111520</td>\n",
       "      <td>7</td>\n",
       "      <td>7</td>\n",
       "      <td>7</td>\n",
       "      <td>7.0</td>\n",
       "    </tr>\n",
       "    <tr>\n",
       "      <th>19652</th>\n",
       "      <td>570167012006770</td>\n",
       "      <td>5</td>\n",
       "      <td>7</td>\n",
       "      <td>5</td>\n",
       "      <td>5.4</td>\n",
       "    </tr>\n",
       "    <tr>\n",
       "      <th>11543</th>\n",
       "      <td>321056001034300</td>\n",
       "      <td>6</td>\n",
       "      <td>5</td>\n",
       "      <td>5</td>\n",
       "      <td>5.2</td>\n",
       "    </tr>\n",
       "    <tr>\n",
       "      <th>256</th>\n",
       "      <td>017216049330550</td>\n",
       "      <td>7</td>\n",
       "      <td>6</td>\n",
       "      <td>8</td>\n",
       "      <td>6.7</td>\n",
       "    </tr>\n",
       "    <tr>\n",
       "      <th>21100</th>\n",
       "      <td>620079044505090</td>\n",
       "      <td>4</td>\n",
       "      <td>4</td>\n",
       "      <td>5</td>\n",
       "      <td>4.0</td>\n",
       "    </tr>\n",
       "  </tbody>\n",
       "</table>\n",
       "</div>"
      ],
      "text/plain": [
       "      STRUCTURE_NUMBER_008  DECK_COND_058  SUPERSTRUCTURE_COND_059  \\\n",
       "8028       207225069330330              3                        5   \n",
       "18575      530443059014390              8                        8   \n",
       "2184       050096069004660              8                        8   \n",
       "6697       164031001000000              4                        2   \n",
       "10434      280997058000000              5                        4   \n",
       "14689      410180044111520              7                        7   \n",
       "19652      570167012006770              5                        7   \n",
       "11543      321056001034300              6                        5   \n",
       "256        017216049330550              7                        6   \n",
       "21100      620079044505090              4                        4   \n",
       "\n",
       "       SUBSTRUCTURE_COND_060  TotalRating  \n",
       "8028                       5          3.0  \n",
       "18575                      8          8.0  \n",
       "2184                       6          7.0  \n",
       "6697                       4          2.0  \n",
       "10434                      6          4.0  \n",
       "14689                      7          7.0  \n",
       "19652                      5          5.4  \n",
       "11543                      5          5.2  \n",
       "256                        8          6.7  \n",
       "21100                      5          4.0  "
      ]
     },
     "execution_count": 84,
     "metadata": {},
     "output_type": "execute_result"
    }
   ],
   "source": [
    "pa92.sample(10)\n",
    "# CHECKED: The equation has worked properly "
   ]
  }
 ],
 "metadata": {
  "kernelspec": {
   "display_name": "Python 3",
   "language": "python",
   "name": "python3"
  },
  "language_info": {
   "codemirror_mode": {
    "name": "ipython",
    "version": 3
   },
   "file_extension": ".py",
   "mimetype": "text/x-python",
   "name": "python",
   "nbconvert_exporter": "python",
   "pygments_lexer": "ipython3",
   "version": "3.7.1"
  }
 },
 "nbformat": 4,
 "nbformat_minor": 2
}
