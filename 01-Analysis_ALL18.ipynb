{
 "cells": [
  {
   "cell_type": "markdown",
   "metadata": {},
   "source": [
    "#  Part 1. Analysis of the 2018 NBI dataset"
   ]
  },
  {
   "cell_type": "markdown",
   "metadata": {},
   "source": [
    "Each year bridge data is submitted to the FHWA by the States, Federal agencies and Tribal goverments of the United States of America. Each dataset is submitted in the spring, corrected and updated when necessary and finally published in the FHWA website (https://www.fhwa.dot.gov/bridge/nbi/ascii.cfm) at the end of each calendar year.\n",
    "\n",
    "The purpose of this notebook is to analyze the latest FHWA Bridge Inventory dataset for all the bridges in the United States in the 2018 census.\n",
    "\n",
    "This analysis will be developed for steel girder and concrete beam bridges, two of the most common deck typologies not only in USA but mainly in the world. \n",
    "\n",
    "We will explore the 2018 data and narrow the scope of this analysis by making some assumptions to focus on the topic we want to develop."
   ]
  },
  {
   "cell_type": "code",
   "execution_count": 1,
   "metadata": {},
   "outputs": [],
   "source": [
    "import pandas as pd\n",
    "import numpy as np\n",
    "import matplotlib.pyplot as plt\n",
    "import seaborn as sns"
   ]
  },
  {
   "cell_type": "code",
   "execution_count": 2,
   "metadata": {},
   "outputs": [],
   "source": [
    "from IPython.display import Image\n",
    "from IPython.core.display import HTML "
   ]
  },
  {
   "cell_type": "code",
   "execution_count": 3,
   "metadata": {},
   "outputs": [],
   "source": [
    "pd.set_option('display.max_columns',None)"
   ]
  },
  {
   "cell_type": "markdown",
   "metadata": {},
   "source": [
    "### Import Bridge data"
   ]
  },
  {
   "cell_type": "markdown",
   "metadata": {},
   "source": [
    "We are creating a dataframe from the zip file obtained from FHWA dataset for all the bridges in the US National Bridge Inventory (NBIs) on 2018."
   ]
  },
  {
   "cell_type": "code",
   "execution_count": 79,
   "metadata": {},
   "outputs": [
    {
     "name": "stderr",
     "output_type": "stream",
     "text": [
      "/home/dsc/anaconda3/lib/python3.7/site-packages/IPython/core/interactiveshell.py:3020: DtypeWarning: Columns (1,5,7,17,31,36,37,38,39,71,73,75,96,98,102,107,108,109,123,124,135) have mixed types. Specify dtype option on import or set low_memory=False.\n",
      "  interactivity=interactivity, compiler=compiler, result=result)\n"
     ]
    }
   ],
   "source": [
    "total18 = pd.read_csv('./data/2018hwybronefiledel.zip',compression = 'zip',sep = ',',encoding='latin-1')"
   ]
  },
  {
   "cell_type": "code",
   "execution_count": 5,
   "metadata": {},
   "outputs": [
    {
     "data": {
      "text/html": [
       "<div>\n",
       "<style scoped>\n",
       "    .dataframe tbody tr th:only-of-type {\n",
       "        vertical-align: middle;\n",
       "    }\n",
       "\n",
       "    .dataframe tbody tr th {\n",
       "        vertical-align: top;\n",
       "    }\n",
       "\n",
       "    .dataframe thead th {\n",
       "        text-align: right;\n",
       "    }\n",
       "</style>\n",
       "<table border=\"1\" class=\"dataframe\">\n",
       "  <thead>\n",
       "    <tr style=\"text-align: right;\">\n",
       "      <th></th>\n",
       "      <th>STATE_CODE_001</th>\n",
       "      <th>STRUCTURE_NUMBER_008</th>\n",
       "      <th>RECORD_TYPE_005A</th>\n",
       "      <th>ROUTE_PREFIX_005B</th>\n",
       "      <th>SERVICE_LEVEL_005C</th>\n",
       "      <th>ROUTE_NUMBER_005D</th>\n",
       "      <th>DIRECTION_005E</th>\n",
       "      <th>HIGHWAY_DISTRICT_002</th>\n",
       "      <th>COUNTY_CODE_003</th>\n",
       "      <th>PLACE_CODE_004</th>\n",
       "      <th>FEATURES_DESC_006A</th>\n",
       "      <th>CRITICAL_FACILITY_006B</th>\n",
       "      <th>FACILITY_CARRIED_007</th>\n",
       "      <th>LOCATION_009</th>\n",
       "      <th>MIN_VERT_CLR_010</th>\n",
       "      <th>KILOPOINT_011</th>\n",
       "      <th>BASE_HWY_NETWORK_012</th>\n",
       "      <th>LRS_INV_ROUTE_013A</th>\n",
       "      <th>SUBROUTE_NO_013B</th>\n",
       "      <th>LAT_016</th>\n",
       "      <th>LONG_017</th>\n",
       "      <th>DETOUR_KILOS_019</th>\n",
       "      <th>TOLL_020</th>\n",
       "      <th>MAINTENANCE_021</th>\n",
       "      <th>OWNER_022</th>\n",
       "      <th>FUNCTIONAL_CLASS_026</th>\n",
       "      <th>YEAR_BUILT_027</th>\n",
       "      <th>TRAFFIC_LANES_ON_028A</th>\n",
       "      <th>TRAFFIC_LANES_UND_028B</th>\n",
       "      <th>ADT_029</th>\n",
       "      <th>YEAR_ADT_030</th>\n",
       "      <th>DESIGN_LOAD_031</th>\n",
       "      <th>APPR_WIDTH_MT_032</th>\n",
       "      <th>MEDIAN_CODE_033</th>\n",
       "      <th>DEGREES_SKEW_034</th>\n",
       "      <th>STRUCTURE_FLARED_035</th>\n",
       "      <th>RAILINGS_036A</th>\n",
       "      <th>TRANSITIONS_036B</th>\n",
       "      <th>APPR_RAIL_036C</th>\n",
       "      <th>APPR_RAIL_END_036D</th>\n",
       "      <th>HISTORY_037</th>\n",
       "      <th>NAVIGATION_038</th>\n",
       "      <th>NAV_VERT_CLR_MT_039</th>\n",
       "      <th>NAV_HORR_CLR_MT_040</th>\n",
       "      <th>OPEN_CLOSED_POSTED_041</th>\n",
       "      <th>SERVICE_ON_042A</th>\n",
       "      <th>SERVICE_UND_042B</th>\n",
       "      <th>STRUCTURE_KIND_043A</th>\n",
       "      <th>STRUCTURE_TYPE_043B</th>\n",
       "      <th>APPR_KIND_044A</th>\n",
       "      <th>APPR_TYPE_044B</th>\n",
       "      <th>MAIN_UNIT_SPANS_045</th>\n",
       "      <th>APPR_SPANS_046</th>\n",
       "      <th>HORR_CLR_MT_047</th>\n",
       "      <th>MAX_SPAN_LEN_MT_048</th>\n",
       "      <th>STRUCTURE_LEN_MT_049</th>\n",
       "      <th>LEFT_CURB_MT_050A</th>\n",
       "      <th>RIGHT_CURB_MT_050B</th>\n",
       "      <th>ROADWAY_WIDTH_MT_051</th>\n",
       "      <th>DECK_WIDTH_MT_052</th>\n",
       "      <th>VERT_CLR_OVER_MT_053</th>\n",
       "      <th>VERT_CLR_UND_REF_054A</th>\n",
       "      <th>VERT_CLR_UND_054B</th>\n",
       "      <th>LAT_UND_REF_055A</th>\n",
       "      <th>LAT_UND_MT_055B</th>\n",
       "      <th>LEFT_LAT_UND_MT_056</th>\n",
       "      <th>DECK_COND_058</th>\n",
       "      <th>SUPERSTRUCTURE_COND_059</th>\n",
       "      <th>SUBSTRUCTURE_COND_060</th>\n",
       "      <th>CHANNEL_COND_061</th>\n",
       "      <th>CULVERT_COND_062</th>\n",
       "      <th>OPR_RATING_METH_063</th>\n",
       "      <th>OPERATING_RATING_064</th>\n",
       "      <th>INV_RATING_METH_065</th>\n",
       "      <th>INVENTORY_RATING_066</th>\n",
       "      <th>STRUCTURAL_EVAL_067</th>\n",
       "      <th>DECK_GEOMETRY_EVAL_068</th>\n",
       "      <th>UNDCLRENCE_EVAL_069</th>\n",
       "      <th>POSTING_EVAL_070</th>\n",
       "      <th>WATERWAY_EVAL_071</th>\n",
       "      <th>APPR_ROAD_EVAL_072</th>\n",
       "      <th>WORK_PROPOSED_075A</th>\n",
       "      <th>WORK_DONE_BY_075B</th>\n",
       "      <th>IMP_LEN_MT_076</th>\n",
       "      <th>DATE_OF_INSPECT_090</th>\n",
       "      <th>INSPECT_FREQ_MONTHS_091</th>\n",
       "      <th>FRACTURE_092A</th>\n",
       "      <th>UNDWATER_LOOK_SEE_092B</th>\n",
       "      <th>SPEC_INSPECT_092C</th>\n",
       "      <th>FRACTURE_LAST_DATE_093A</th>\n",
       "      <th>UNDWATER_LAST_DATE_093B</th>\n",
       "      <th>SPEC_LAST_DATE_093C</th>\n",
       "      <th>BRIDGE_IMP_COST_094</th>\n",
       "      <th>ROADWAY_IMP_COST_095</th>\n",
       "      <th>TOTAL_IMP_COST_096</th>\n",
       "      <th>YEAR_OF_IMP_097</th>\n",
       "      <th>OTHER_STATE_CODE_098A</th>\n",
       "      <th>OTHER_STATE_PCNT_098B</th>\n",
       "      <th>OTHR_STATE_STRUC_NO_099</th>\n",
       "      <th>STRAHNET_HIGHWAY_100</th>\n",
       "      <th>PARALLEL_STRUCTURE_101</th>\n",
       "      <th>TRAFFIC_DIRECTION_102</th>\n",
       "      <th>TEMP_STRUCTURE_103</th>\n",
       "      <th>HIGHWAY_SYSTEM_104</th>\n",
       "      <th>FEDERAL_LANDS_105</th>\n",
       "      <th>YEAR_RECONSTRUCTED_106</th>\n",
       "      <th>DECK_STRUCTURE_TYPE_107</th>\n",
       "      <th>SURFACE_TYPE_108A</th>\n",
       "      <th>MEMBRANE_TYPE_108B</th>\n",
       "      <th>DECK_PROTECTION_108C</th>\n",
       "      <th>PERCENT_ADT_TRUCK_109</th>\n",
       "      <th>NATIONAL_NETWORK_110</th>\n",
       "      <th>PIER_PROTECTION_111</th>\n",
       "      <th>BRIDGE_LEN_IND_112</th>\n",
       "      <th>SCOUR_CRITICAL_113</th>\n",
       "      <th>FUTURE_ADT_114</th>\n",
       "      <th>YEAR_OF_FUTURE_ADT_115</th>\n",
       "      <th>MIN_NAV_CLR_MT_116</th>\n",
       "      <th>FED_AGENCY</th>\n",
       "      <th>DATE_LAST_UPDATE</th>\n",
       "      <th>TYPE_LAST_UPDATE</th>\n",
       "      <th>DEDUCT_CODE</th>\n",
       "      <th>REMARKS</th>\n",
       "      <th>PROGRAM_CODE</th>\n",
       "      <th>PROJ_NO</th>\n",
       "      <th>PROJ_SUFFIX</th>\n",
       "      <th>NBI_TYPE_OF_IMP</th>\n",
       "      <th>DTL_TYPE_OF_IMP</th>\n",
       "      <th>SPECIAL_CODE</th>\n",
       "      <th>STEP_CODE</th>\n",
       "      <th>STATUS_WITH_10YR_RULE</th>\n",
       "      <th>SUFFICIENCY_ASTERC</th>\n",
       "      <th>SUFFICIENCY_RATING</th>\n",
       "      <th>STATUS_NO_10YR_RULE</th>\n",
       "      <th>CAT10</th>\n",
       "      <th>CAT23</th>\n",
       "      <th>CAT29</th>\n",
       "    </tr>\n",
       "  </thead>\n",
       "  <tbody>\n",
       "    <tr>\n",
       "      <th>0</th>\n",
       "      <td>1</td>\n",
       "      <td>00000000000S702</td>\n",
       "      <td>1</td>\n",
       "      <td>6.0</td>\n",
       "      <td>1.0</td>\n",
       "      <td>04007</td>\n",
       "      <td>0.0</td>\n",
       "      <td>9</td>\n",
       "      <td>53.0</td>\n",
       "      <td>0.0</td>\n",
       "      <td>'           PERDIDO CREEK'</td>\n",
       "      <td>NaN</td>\n",
       "      <td>'  IRR BIA RTE 4007'</td>\n",
       "      <td>'  11.4KM NW OF ATMORE  AL'</td>\n",
       "      <td>99.99</td>\n",
       "      <td>1.500</td>\n",
       "      <td>0.0</td>\n",
       "      <td>0000000000</td>\n",
       "      <td>0.0</td>\n",
       "      <td>31061110.0</td>\n",
       "      <td>87341340.0</td>\n",
       "      <td>3</td>\n",
       "      <td>3</td>\n",
       "      <td>62</td>\n",
       "      <td>62</td>\n",
       "      <td>9</td>\n",
       "      <td>1999.0</td>\n",
       "      <td>2</td>\n",
       "      <td>0</td>\n",
       "      <td>50.0</td>\n",
       "      <td>2014.0</td>\n",
       "      <td>5</td>\n",
       "      <td>9.7</td>\n",
       "      <td>0</td>\n",
       "      <td>30</td>\n",
       "      <td>0</td>\n",
       "      <td>1</td>\n",
       "      <td>1</td>\n",
       "      <td>1</td>\n",
       "      <td>1</td>\n",
       "      <td>5.0</td>\n",
       "      <td>0</td>\n",
       "      <td>0.0</td>\n",
       "      <td>0.0</td>\n",
       "      <td>A</td>\n",
       "      <td>1</td>\n",
       "      <td>5</td>\n",
       "      <td>5</td>\n",
       "      <td>5</td>\n",
       "      <td>0.0</td>\n",
       "      <td>0.0</td>\n",
       "      <td>1</td>\n",
       "      <td>0.0</td>\n",
       "      <td>9.7</td>\n",
       "      <td>14.7</td>\n",
       "      <td>15.0</td>\n",
       "      <td>0.0</td>\n",
       "      <td>0.0</td>\n",
       "      <td>9.7</td>\n",
       "      <td>9.7</td>\n",
       "      <td>99.99</td>\n",
       "      <td>N</td>\n",
       "      <td>0.0</td>\n",
       "      <td>N</td>\n",
       "      <td>0.0</td>\n",
       "      <td>0.0</td>\n",
       "      <td>8</td>\n",
       "      <td>8</td>\n",
       "      <td>7</td>\n",
       "      <td>8</td>\n",
       "      <td>N</td>\n",
       "      <td>2</td>\n",
       "      <td>44.2</td>\n",
       "      <td>2</td>\n",
       "      <td>32.4</td>\n",
       "      <td>7</td>\n",
       "      <td>7</td>\n",
       "      <td>N</td>\n",
       "      <td>5.0</td>\n",
       "      <td>8</td>\n",
       "      <td>8.0</td>\n",
       "      <td>NaN</td>\n",
       "      <td>NaN</td>\n",
       "      <td>0.0</td>\n",
       "      <td>117.0</td>\n",
       "      <td>24.0</td>\n",
       "      <td>N</td>\n",
       "      <td>N</td>\n",
       "      <td>N</td>\n",
       "      <td>NaN</td>\n",
       "      <td>NaN</td>\n",
       "      <td>NaN</td>\n",
       "      <td>0.0</td>\n",
       "      <td>0.0</td>\n",
       "      <td>0.0</td>\n",
       "      <td>2017.0</td>\n",
       "      <td>NaN</td>\n",
       "      <td>0.0</td>\n",
       "      <td>NaN</td>\n",
       "      <td>0.0</td>\n",
       "      <td>N</td>\n",
       "      <td>2</td>\n",
       "      <td>NaN</td>\n",
       "      <td>0</td>\n",
       "      <td>1</td>\n",
       "      <td>0.0</td>\n",
       "      <td>2</td>\n",
       "      <td>6</td>\n",
       "      <td>0</td>\n",
       "      <td>1</td>\n",
       "      <td>1.0</td>\n",
       "      <td>0</td>\n",
       "      <td>NaN</td>\n",
       "      <td>Y</td>\n",
       "      <td>8</td>\n",
       "      <td>59.0</td>\n",
       "      <td>2037.0</td>\n",
       "      <td>0.0</td>\n",
       "      <td>Y</td>\n",
       "      <td>6/13/2018</td>\n",
       "      <td>B</td>\n",
       "      <td>Z</td>\n",
       "      <td>NaN</td>\n",
       "      <td>NaN</td>\n",
       "      <td>NaN</td>\n",
       "      <td>NaN</td>\n",
       "      <td>NaN</td>\n",
       "      <td>NaN</td>\n",
       "      <td>NaN</td>\n",
       "      <td>NaN</td>\n",
       "      <td>0</td>\n",
       "      <td>NaN</td>\n",
       "      <td>100.0</td>\n",
       "      <td>0</td>\n",
       "      <td>G</td>\n",
       "      <td>7</td>\n",
       "      <td>145.50</td>\n",
       "    </tr>\n",
       "    <tr>\n",
       "      <th>1</th>\n",
       "      <td>1</td>\n",
       "      <td>00000000000S703</td>\n",
       "      <td>1</td>\n",
       "      <td>6.0</td>\n",
       "      <td>1.0</td>\n",
       "      <td>04003</td>\n",
       "      <td>0.0</td>\n",
       "      <td>9</td>\n",
       "      <td>53.0</td>\n",
       "      <td>3004.0</td>\n",
       "      <td>'           PERDIDO CREEK'</td>\n",
       "      <td>NaN</td>\n",
       "      <td>'  IRR BIA RTE 4003'</td>\n",
       "      <td>'       ON LYNN MCGEE ROAD'</td>\n",
       "      <td>99.99</td>\n",
       "      <td>1.100</td>\n",
       "      <td>0.0</td>\n",
       "      <td>0000000000</td>\n",
       "      <td>0.0</td>\n",
       "      <td>31062020.0</td>\n",
       "      <td>87340890.0</td>\n",
       "      <td>3</td>\n",
       "      <td>3</td>\n",
       "      <td>62</td>\n",
       "      <td>62</td>\n",
       "      <td>9</td>\n",
       "      <td>2002.0</td>\n",
       "      <td>2</td>\n",
       "      <td>0</td>\n",
       "      <td>159.0</td>\n",
       "      <td>2017.0</td>\n",
       "      <td>5</td>\n",
       "      <td>6.5</td>\n",
       "      <td>0</td>\n",
       "      <td>0</td>\n",
       "      <td>0</td>\n",
       "      <td>1</td>\n",
       "      <td>1</td>\n",
       "      <td>1</td>\n",
       "      <td>1</td>\n",
       "      <td>5.0</td>\n",
       "      <td>0</td>\n",
       "      <td>0.0</td>\n",
       "      <td>0.0</td>\n",
       "      <td>A</td>\n",
       "      <td>1</td>\n",
       "      <td>5</td>\n",
       "      <td>5</td>\n",
       "      <td>1</td>\n",
       "      <td>0.0</td>\n",
       "      <td>0.0</td>\n",
       "      <td>1</td>\n",
       "      <td>0.0</td>\n",
       "      <td>9.7</td>\n",
       "      <td>12.9</td>\n",
       "      <td>13.6</td>\n",
       "      <td>0.3</td>\n",
       "      <td>0.3</td>\n",
       "      <td>9.1</td>\n",
       "      <td>9.8</td>\n",
       "      <td>99.99</td>\n",
       "      <td>N</td>\n",
       "      <td>0.0</td>\n",
       "      <td>N</td>\n",
       "      <td>0.0</td>\n",
       "      <td>0.0</td>\n",
       "      <td>8</td>\n",
       "      <td>8</td>\n",
       "      <td>7</td>\n",
       "      <td>7</td>\n",
       "      <td>N</td>\n",
       "      <td>2</td>\n",
       "      <td>84.2</td>\n",
       "      <td>2</td>\n",
       "      <td>34.8</td>\n",
       "      <td>7</td>\n",
       "      <td>6</td>\n",
       "      <td>N</td>\n",
       "      <td>5.0</td>\n",
       "      <td>7</td>\n",
       "      <td>8.0</td>\n",
       "      <td>NaN</td>\n",
       "      <td>NaN</td>\n",
       "      <td>0.0</td>\n",
       "      <td>117.0</td>\n",
       "      <td>24.0</td>\n",
       "      <td>N</td>\n",
       "      <td>N</td>\n",
       "      <td>N</td>\n",
       "      <td>NaN</td>\n",
       "      <td>NaN</td>\n",
       "      <td>NaN</td>\n",
       "      <td>0.0</td>\n",
       "      <td>0.0</td>\n",
       "      <td>0.0</td>\n",
       "      <td>2017.0</td>\n",
       "      <td>NaN</td>\n",
       "      <td>0.0</td>\n",
       "      <td>NaN</td>\n",
       "      <td>0.0</td>\n",
       "      <td>N</td>\n",
       "      <td>2</td>\n",
       "      <td>NaN</td>\n",
       "      <td>0</td>\n",
       "      <td>1</td>\n",
       "      <td>0.0</td>\n",
       "      <td>2</td>\n",
       "      <td>6</td>\n",
       "      <td>0</td>\n",
       "      <td>8</td>\n",
       "      <td>1.0</td>\n",
       "      <td>0</td>\n",
       "      <td>NaN</td>\n",
       "      <td>Y</td>\n",
       "      <td>8</td>\n",
       "      <td>200.0</td>\n",
       "      <td>2034.0</td>\n",
       "      <td>0.0</td>\n",
       "      <td>Y</td>\n",
       "      <td>6/13/2018</td>\n",
       "      <td>B</td>\n",
       "      <td>Z</td>\n",
       "      <td>NaN</td>\n",
       "      <td>NaN</td>\n",
       "      <td>NaN</td>\n",
       "      <td>NaN</td>\n",
       "      <td>NaN</td>\n",
       "      <td>NaN</td>\n",
       "      <td>NaN</td>\n",
       "      <td>NaN</td>\n",
       "      <td>0</td>\n",
       "      <td>NaN</td>\n",
       "      <td>100.0</td>\n",
       "      <td>0</td>\n",
       "      <td>G</td>\n",
       "      <td>7</td>\n",
       "      <td>133.28</td>\n",
       "    </tr>\n",
       "    <tr>\n",
       "      <th>2</th>\n",
       "      <td>1</td>\n",
       "      <td>0000000000M0022</td>\n",
       "      <td>1</td>\n",
       "      <td>8.0</td>\n",
       "      <td>1.0</td>\n",
       "      <td>00000</td>\n",
       "      <td>0.0</td>\n",
       "      <td>0</td>\n",
       "      <td>113.0</td>\n",
       "      <td>27568.0</td>\n",
       "      <td>'UCHEE CREEK             '</td>\n",
       "      <td>NaN</td>\n",
       "      <td>'101ST AIRBORNE RD '</td>\n",
       "      <td>'3.4 KM S OF SUNSHINE RD  '</td>\n",
       "      <td>99.99</td>\n",
       "      <td>0.000</td>\n",
       "      <td>0.0</td>\n",
       "      <td>NaN</td>\n",
       "      <td>NaN</td>\n",
       "      <td>32174328.0</td>\n",
       "      <td>84583800.0</td>\n",
       "      <td>18</td>\n",
       "      <td>3</td>\n",
       "      <td>74</td>\n",
       "      <td>74</td>\n",
       "      <td>9</td>\n",
       "      <td>1942.0</td>\n",
       "      <td>2</td>\n",
       "      <td>0</td>\n",
       "      <td>375.0</td>\n",
       "      <td>2017.0</td>\n",
       "      <td>4</td>\n",
       "      <td>10.4</td>\n",
       "      <td>0</td>\n",
       "      <td>0</td>\n",
       "      <td>0</td>\n",
       "      <td>0</td>\n",
       "      <td>0</td>\n",
       "      <td>1</td>\n",
       "      <td>1</td>\n",
       "      <td>5.0</td>\n",
       "      <td>0</td>\n",
       "      <td>0.0</td>\n",
       "      <td>0.0</td>\n",
       "      <td>A</td>\n",
       "      <td>1</td>\n",
       "      <td>5</td>\n",
       "      <td>1</td>\n",
       "      <td>4</td>\n",
       "      <td>0.0</td>\n",
       "      <td>0.0</td>\n",
       "      <td>3</td>\n",
       "      <td>0.0</td>\n",
       "      <td>7.2</td>\n",
       "      <td>18.3</td>\n",
       "      <td>43.0</td>\n",
       "      <td>0.6</td>\n",
       "      <td>0.6</td>\n",
       "      <td>7.2</td>\n",
       "      <td>9.0</td>\n",
       "      <td>99.99</td>\n",
       "      <td>N</td>\n",
       "      <td>0.0</td>\n",
       "      <td>N</td>\n",
       "      <td>0.0</td>\n",
       "      <td>0.0</td>\n",
       "      <td>5</td>\n",
       "      <td>5</td>\n",
       "      <td>6</td>\n",
       "      <td>6</td>\n",
       "      <td>N</td>\n",
       "      <td>2</td>\n",
       "      <td>51.7</td>\n",
       "      <td>2</td>\n",
       "      <td>37.2</td>\n",
       "      <td>5</td>\n",
       "      <td>4</td>\n",
       "      <td>N</td>\n",
       "      <td>5.0</td>\n",
       "      <td>8</td>\n",
       "      <td>6.0</td>\n",
       "      <td>38.0</td>\n",
       "      <td>1.0</td>\n",
       "      <td>52.8</td>\n",
       "      <td>1017.0</td>\n",
       "      <td>24.0</td>\n",
       "      <td>N</td>\n",
       "      <td>Y60</td>\n",
       "      <td>N</td>\n",
       "      <td>NaN</td>\n",
       "      <td>1017.0</td>\n",
       "      <td>NaN</td>\n",
       "      <td>1.0</td>\n",
       "      <td>1.0</td>\n",
       "      <td>2.0</td>\n",
       "      <td>2017.0</td>\n",
       "      <td>NaN</td>\n",
       "      <td>NaN</td>\n",
       "      <td>NaN</td>\n",
       "      <td>0.0</td>\n",
       "      <td>N</td>\n",
       "      <td>2</td>\n",
       "      <td>NaN</td>\n",
       "      <td>0</td>\n",
       "      <td>0</td>\n",
       "      <td>0.0</td>\n",
       "      <td>1</td>\n",
       "      <td>1</td>\n",
       "      <td>0</td>\n",
       "      <td>0</td>\n",
       "      <td>35.0</td>\n",
       "      <td>0</td>\n",
       "      <td>NaN</td>\n",
       "      <td>Y</td>\n",
       "      <td>8</td>\n",
       "      <td>400.0</td>\n",
       "      <td>2039.0</td>\n",
       "      <td>NaN</td>\n",
       "      <td>Y</td>\n",
       "      <td>6/4/2018</td>\n",
       "      <td>B</td>\n",
       "      <td>Z</td>\n",
       "      <td>NaN</td>\n",
       "      <td>NaN</td>\n",
       "      <td>NaN</td>\n",
       "      <td>NaN</td>\n",
       "      <td>NaN</td>\n",
       "      <td>NaN</td>\n",
       "      <td>NaN</td>\n",
       "      <td>NaN</td>\n",
       "      <td>0</td>\n",
       "      <td>NaN</td>\n",
       "      <td>69.5</td>\n",
       "      <td>0</td>\n",
       "      <td>F</td>\n",
       "      <td>5</td>\n",
       "      <td>387.00</td>\n",
       "    </tr>\n",
       "    <tr>\n",
       "      <th>3</th>\n",
       "      <td>1</td>\n",
       "      <td>000000883039900</td>\n",
       "      <td>1</td>\n",
       "      <td>4.0</td>\n",
       "      <td>1.0</td>\n",
       "      <td>00088</td>\n",
       "      <td>0.0</td>\n",
       "      <td>2</td>\n",
       "      <td>59.0</td>\n",
       "      <td>0.0</td>\n",
       "      <td>'LITTLE BEAR CR. DAM SPW '</td>\n",
       "      <td>NaN</td>\n",
       "      <td>'CO. RD 88         '</td>\n",
       "      <td>'LITTLE BEAR CR DAM       '</td>\n",
       "      <td>99.99</td>\n",
       "      <td>0.000</td>\n",
       "      <td>0.0</td>\n",
       "      <td>NaN</td>\n",
       "      <td>NaN</td>\n",
       "      <td>34270600.0</td>\n",
       "      <td>87581200.0</td>\n",
       "      <td>16</td>\n",
       "      <td>3</td>\n",
       "      <td>67</td>\n",
       "      <td>67</td>\n",
       "      <td>8</td>\n",
       "      <td>1974.0</td>\n",
       "      <td>2</td>\n",
       "      <td>0</td>\n",
       "      <td>300.0</td>\n",
       "      <td>2013.0</td>\n",
       "      <td>5</td>\n",
       "      <td>11.6</td>\n",
       "      <td>0</td>\n",
       "      <td>99</td>\n",
       "      <td>0</td>\n",
       "      <td>1</td>\n",
       "      <td>1</td>\n",
       "      <td>1</td>\n",
       "      <td>1</td>\n",
       "      <td>5.0</td>\n",
       "      <td>N</td>\n",
       "      <td>0.0</td>\n",
       "      <td>0.0</td>\n",
       "      <td>A</td>\n",
       "      <td>1</td>\n",
       "      <td>9</td>\n",
       "      <td>5</td>\n",
       "      <td>5</td>\n",
       "      <td>0.0</td>\n",
       "      <td>0.0</td>\n",
       "      <td>5</td>\n",
       "      <td>0.0</td>\n",
       "      <td>8.6</td>\n",
       "      <td>14.0</td>\n",
       "      <td>65.5</td>\n",
       "      <td>0.0</td>\n",
       "      <td>0.0</td>\n",
       "      <td>8.7</td>\n",
       "      <td>10.5</td>\n",
       "      <td>99.99</td>\n",
       "      <td>N</td>\n",
       "      <td>0.0</td>\n",
       "      <td>N</td>\n",
       "      <td>0.0</td>\n",
       "      <td>0.0</td>\n",
       "      <td>7</td>\n",
       "      <td>7</td>\n",
       "      <td>7</td>\n",
       "      <td>7</td>\n",
       "      <td>N</td>\n",
       "      <td>1</td>\n",
       "      <td>44.2</td>\n",
       "      <td>1</td>\n",
       "      <td>26.6</td>\n",
       "      <td>6</td>\n",
       "      <td>6</td>\n",
       "      <td>N</td>\n",
       "      <td>5.0</td>\n",
       "      <td>9</td>\n",
       "      <td>6.0</td>\n",
       "      <td>NaN</td>\n",
       "      <td>NaN</td>\n",
       "      <td>NaN</td>\n",
       "      <td>616.0</td>\n",
       "      <td>24.0</td>\n",
       "      <td>N</td>\n",
       "      <td>N</td>\n",
       "      <td>N</td>\n",
       "      <td>NaN</td>\n",
       "      <td>NaN</td>\n",
       "      <td>NaN</td>\n",
       "      <td>NaN</td>\n",
       "      <td>NaN</td>\n",
       "      <td>NaN</td>\n",
       "      <td>NaN</td>\n",
       "      <td>NaN</td>\n",
       "      <td>NaN</td>\n",
       "      <td>NaN</td>\n",
       "      <td>0.0</td>\n",
       "      <td>N</td>\n",
       "      <td>2</td>\n",
       "      <td>NaN</td>\n",
       "      <td>0</td>\n",
       "      <td>0</td>\n",
       "      <td>0.0</td>\n",
       "      <td>1</td>\n",
       "      <td>0</td>\n",
       "      <td>0</td>\n",
       "      <td>0</td>\n",
       "      <td>5.0</td>\n",
       "      <td>0</td>\n",
       "      <td>NaN</td>\n",
       "      <td>Y</td>\n",
       "      <td>5</td>\n",
       "      <td>350.0</td>\n",
       "      <td>2032.0</td>\n",
       "      <td>NaN</td>\n",
       "      <td>Y</td>\n",
       "      <td>5/23/2018</td>\n",
       "      <td>B</td>\n",
       "      <td>Z</td>\n",
       "      <td>NaN</td>\n",
       "      <td>NaN</td>\n",
       "      <td>NaN</td>\n",
       "      <td>NaN</td>\n",
       "      <td>NaN</td>\n",
       "      <td>NaN</td>\n",
       "      <td>NaN</td>\n",
       "      <td>NaN</td>\n",
       "      <td>0</td>\n",
       "      <td>NaN</td>\n",
       "      <td>90.2</td>\n",
       "      <td>0</td>\n",
       "      <td>G</td>\n",
       "      <td>7</td>\n",
       "      <td>687.75</td>\n",
       "    </tr>\n",
       "    <tr>\n",
       "      <th>4</th>\n",
       "      <td>1</td>\n",
       "      <td>000001014002450</td>\n",
       "      <td>1</td>\n",
       "      <td>3.0</td>\n",
       "      <td>1.0</td>\n",
       "      <td>00101</td>\n",
       "      <td>0.0</td>\n",
       "      <td>2</td>\n",
       "      <td>79.0</td>\n",
       "      <td>0.0</td>\n",
       "      <td>'TENNESSEE RIVER         '</td>\n",
       "      <td>NaN</td>\n",
       "      <td>'SR 101            '</td>\n",
       "      <td>'ON WHEELER DAM           '</td>\n",
       "      <td>4.52</td>\n",
       "      <td>39.429</td>\n",
       "      <td>0.0</td>\n",
       "      <td>NaN</td>\n",
       "      <td>NaN</td>\n",
       "      <td>34481800.0</td>\n",
       "      <td>87225400.0</td>\n",
       "      <td>42</td>\n",
       "      <td>3</td>\n",
       "      <td>67</td>\n",
       "      <td>67</td>\n",
       "      <td>6</td>\n",
       "      <td>1937.0</td>\n",
       "      <td>2</td>\n",
       "      <td>0</td>\n",
       "      <td>6200.0</td>\n",
       "      <td>2014.0</td>\n",
       "      <td>4</td>\n",
       "      <td>7.9</td>\n",
       "      <td>0</td>\n",
       "      <td>0</td>\n",
       "      <td>0</td>\n",
       "      <td>1</td>\n",
       "      <td>0</td>\n",
       "      <td>0</td>\n",
       "      <td>0</td>\n",
       "      <td>4.0</td>\n",
       "      <td>1</td>\n",
       "      <td>17.9</td>\n",
       "      <td>33.5</td>\n",
       "      <td>A</td>\n",
       "      <td>5</td>\n",
       "      <td>5</td>\n",
       "      <td>3</td>\n",
       "      <td>10</td>\n",
       "      <td>3.0</td>\n",
       "      <td>2.0</td>\n",
       "      <td>2</td>\n",
       "      <td>143.0</td>\n",
       "      <td>6.0</td>\n",
       "      <td>53.3</td>\n",
       "      <td>1981.2</td>\n",
       "      <td>0.9</td>\n",
       "      <td>0.2</td>\n",
       "      <td>6.1</td>\n",
       "      <td>7.8</td>\n",
       "      <td>4.52</td>\n",
       "      <td>N</td>\n",
       "      <td>0.0</td>\n",
       "      <td>N</td>\n",
       "      <td>0.0</td>\n",
       "      <td>0.0</td>\n",
       "      <td>5</td>\n",
       "      <td>6</td>\n",
       "      <td>5</td>\n",
       "      <td>9</td>\n",
       "      <td>N</td>\n",
       "      <td>1</td>\n",
       "      <td>40.0</td>\n",
       "      <td>1</td>\n",
       "      <td>23.9</td>\n",
       "      <td>5</td>\n",
       "      <td>2</td>\n",
       "      <td>N</td>\n",
       "      <td>5.0</td>\n",
       "      <td>8</td>\n",
       "      <td>8.0</td>\n",
       "      <td>31.0</td>\n",
       "      <td>1.0</td>\n",
       "      <td>1981.2</td>\n",
       "      <td>517.0</td>\n",
       "      <td>24.0</td>\n",
       "      <td>Y24</td>\n",
       "      <td>N</td>\n",
       "      <td>N</td>\n",
       "      <td>517.0</td>\n",
       "      <td>NaN</td>\n",
       "      <td>NaN</td>\n",
       "      <td>50000.0</td>\n",
       "      <td>2000.0</td>\n",
       "      <td>60000.0</td>\n",
       "      <td>2010.0</td>\n",
       "      <td>NaN</td>\n",
       "      <td>NaN</td>\n",
       "      <td>NaN</td>\n",
       "      <td>0.0</td>\n",
       "      <td>N</td>\n",
       "      <td>2</td>\n",
       "      <td>NaN</td>\n",
       "      <td>0</td>\n",
       "      <td>0</td>\n",
       "      <td>1962.0</td>\n",
       "      <td>1</td>\n",
       "      <td>0</td>\n",
       "      <td>0</td>\n",
       "      <td>0</td>\n",
       "      <td>10.0</td>\n",
       "      <td>0</td>\n",
       "      <td>1.0</td>\n",
       "      <td>Y</td>\n",
       "      <td>5</td>\n",
       "      <td>10000.0</td>\n",
       "      <td>2030.0</td>\n",
       "      <td>NaN</td>\n",
       "      <td>Y</td>\n",
       "      <td>5/23/2018</td>\n",
       "      <td>B</td>\n",
       "      <td>C</td>\n",
       "      <td>NaN</td>\n",
       "      <td>NaN</td>\n",
       "      <td>NaN</td>\n",
       "      <td>NaN</td>\n",
       "      <td>NaN</td>\n",
       "      <td>NaN</td>\n",
       "      <td>NaN</td>\n",
       "      <td>NaN</td>\n",
       "      <td>2</td>\n",
       "      <td>NaN</td>\n",
       "      <td>45.9</td>\n",
       "      <td>2</td>\n",
       "      <td>F</td>\n",
       "      <td>5</td>\n",
       "      <td>15453.36</td>\n",
       "    </tr>\n",
       "  </tbody>\n",
       "</table>\n",
       "</div>"
      ],
      "text/plain": [
       "   STATE_CODE_001 STRUCTURE_NUMBER_008  RECORD_TYPE_005A  ROUTE_PREFIX_005B  \\\n",
       "0               1      00000000000S702                 1                6.0   \n",
       "1               1      00000000000S703                 1                6.0   \n",
       "2               1      0000000000M0022                 1                8.0   \n",
       "3               1      000000883039900                 1                4.0   \n",
       "4               1      000001014002450                 1                3.0   \n",
       "\n",
       "   SERVICE_LEVEL_005C ROUTE_NUMBER_005D  DIRECTION_005E HIGHWAY_DISTRICT_002  \\\n",
       "0                 1.0             04007             0.0                    9   \n",
       "1                 1.0             04003             0.0                    9   \n",
       "2                 1.0             00000             0.0                    0   \n",
       "3                 1.0             00088             0.0                    2   \n",
       "4                 1.0             00101             0.0                    2   \n",
       "\n",
       "   COUNTY_CODE_003  PLACE_CODE_004          FEATURES_DESC_006A  \\\n",
       "0             53.0             0.0  '           PERDIDO CREEK'   \n",
       "1             53.0          3004.0  '           PERDIDO CREEK'   \n",
       "2            113.0         27568.0  'UCHEE CREEK             '   \n",
       "3             59.0             0.0  'LITTLE BEAR CR. DAM SPW '   \n",
       "4             79.0             0.0  'TENNESSEE RIVER         '   \n",
       "\n",
       "   CRITICAL_FACILITY_006B  FACILITY_CARRIED_007                 LOCATION_009  \\\n",
       "0                     NaN  '  IRR BIA RTE 4007'  '  11.4KM NW OF ATMORE  AL'   \n",
       "1                     NaN  '  IRR BIA RTE 4003'  '       ON LYNN MCGEE ROAD'   \n",
       "2                     NaN  '101ST AIRBORNE RD '  '3.4 KM S OF SUNSHINE RD  '   \n",
       "3                     NaN  'CO. RD 88         '  'LITTLE BEAR CR DAM       '   \n",
       "4                     NaN  'SR 101            '  'ON WHEELER DAM           '   \n",
       "\n",
       "   MIN_VERT_CLR_010  KILOPOINT_011  BASE_HWY_NETWORK_012 LRS_INV_ROUTE_013A  \\\n",
       "0             99.99          1.500                   0.0         0000000000   \n",
       "1             99.99          1.100                   0.0         0000000000   \n",
       "2             99.99          0.000                   0.0                NaN   \n",
       "3             99.99          0.000                   0.0                NaN   \n",
       "4              4.52         39.429                   0.0                NaN   \n",
       "\n",
       "   SUBROUTE_NO_013B     LAT_016    LONG_017  DETOUR_KILOS_019  TOLL_020  \\\n",
       "0               0.0  31061110.0  87341340.0                 3         3   \n",
       "1               0.0  31062020.0  87340890.0                 3         3   \n",
       "2               NaN  32174328.0  84583800.0                18         3   \n",
       "3               NaN  34270600.0  87581200.0                16         3   \n",
       "4               NaN  34481800.0  87225400.0                42         3   \n",
       "\n",
       "   MAINTENANCE_021  OWNER_022  FUNCTIONAL_CLASS_026  YEAR_BUILT_027  \\\n",
       "0               62         62                     9          1999.0   \n",
       "1               62         62                     9          2002.0   \n",
       "2               74         74                     9          1942.0   \n",
       "3               67         67                     8          1974.0   \n",
       "4               67         67                     6          1937.0   \n",
       "\n",
       "   TRAFFIC_LANES_ON_028A  TRAFFIC_LANES_UND_028B  ADT_029  YEAR_ADT_030  \\\n",
       "0                      2                       0     50.0        2014.0   \n",
       "1                      2                       0    159.0        2017.0   \n",
       "2                      2                       0    375.0        2017.0   \n",
       "3                      2                       0    300.0        2013.0   \n",
       "4                      2                       0   6200.0        2014.0   \n",
       "\n",
       "  DESIGN_LOAD_031  APPR_WIDTH_MT_032  MEDIAN_CODE_033  DEGREES_SKEW_034  \\\n",
       "0               5                9.7                0                30   \n",
       "1               5                6.5                0                 0   \n",
       "2               4               10.4                0                 0   \n",
       "3               5               11.6                0                99   \n",
       "4               4                7.9                0                 0   \n",
       "\n",
       "   STRUCTURE_FLARED_035 RAILINGS_036A TRANSITIONS_036B APPR_RAIL_036C  \\\n",
       "0                     0             1                1              1   \n",
       "1                     0             1                1              1   \n",
       "2                     0             0                0              1   \n",
       "3                     0             1                1              1   \n",
       "4                     0             1                0              0   \n",
       "\n",
       "  APPR_RAIL_END_036D  HISTORY_037 NAVIGATION_038  NAV_VERT_CLR_MT_039  \\\n",
       "0                  1          5.0              0                  0.0   \n",
       "1                  1          5.0              0                  0.0   \n",
       "2                  1          5.0              0                  0.0   \n",
       "3                  1          5.0              N                  0.0   \n",
       "4                  0          4.0              1                 17.9   \n",
       "\n",
       "   NAV_HORR_CLR_MT_040 OPEN_CLOSED_POSTED_041  SERVICE_ON_042A  \\\n",
       "0                  0.0                      A                1   \n",
       "1                  0.0                      A                1   \n",
       "2                  0.0                      A                1   \n",
       "3                  0.0                      A                1   \n",
       "4                 33.5                      A                5   \n",
       "\n",
       "   SERVICE_UND_042B  STRUCTURE_KIND_043A  STRUCTURE_TYPE_043B  APPR_KIND_044A  \\\n",
       "0                 5                    5                    5             0.0   \n",
       "1                 5                    5                    1             0.0   \n",
       "2                 5                    1                    4             0.0   \n",
       "3                 9                    5                    5             0.0   \n",
       "4                 5                    3                   10             3.0   \n",
       "\n",
       "   APPR_TYPE_044B  MAIN_UNIT_SPANS_045  APPR_SPANS_046  HORR_CLR_MT_047  \\\n",
       "0             0.0                    1             0.0              9.7   \n",
       "1             0.0                    1             0.0              9.7   \n",
       "2             0.0                    3             0.0              7.2   \n",
       "3             0.0                    5             0.0              8.6   \n",
       "4             2.0                    2           143.0              6.0   \n",
       "\n",
       "   MAX_SPAN_LEN_MT_048  STRUCTURE_LEN_MT_049  LEFT_CURB_MT_050A  \\\n",
       "0                 14.7                  15.0                0.0   \n",
       "1                 12.9                  13.6                0.3   \n",
       "2                 18.3                  43.0                0.6   \n",
       "3                 14.0                  65.5                0.0   \n",
       "4                 53.3                1981.2                0.9   \n",
       "\n",
       "   RIGHT_CURB_MT_050B  ROADWAY_WIDTH_MT_051  DECK_WIDTH_MT_052  \\\n",
       "0                 0.0                   9.7                9.7   \n",
       "1                 0.3                   9.1                9.8   \n",
       "2                 0.6                   7.2                9.0   \n",
       "3                 0.0                   8.7               10.5   \n",
       "4                 0.2                   6.1                7.8   \n",
       "\n",
       "   VERT_CLR_OVER_MT_053 VERT_CLR_UND_REF_054A  VERT_CLR_UND_054B  \\\n",
       "0                 99.99                     N                0.0   \n",
       "1                 99.99                     N                0.0   \n",
       "2                 99.99                     N                0.0   \n",
       "3                 99.99                     N                0.0   \n",
       "4                  4.52                     N                0.0   \n",
       "\n",
       "  LAT_UND_REF_055A  LAT_UND_MT_055B  LEFT_LAT_UND_MT_056 DECK_COND_058  \\\n",
       "0                N              0.0                  0.0             8   \n",
       "1                N              0.0                  0.0             8   \n",
       "2                N              0.0                  0.0             5   \n",
       "3                N              0.0                  0.0             7   \n",
       "4                N              0.0                  0.0             5   \n",
       "\n",
       "  SUPERSTRUCTURE_COND_059 SUBSTRUCTURE_COND_060 CHANNEL_COND_061  \\\n",
       "0                       8                     7                8   \n",
       "1                       8                     7                7   \n",
       "2                       5                     6                6   \n",
       "3                       7                     7                7   \n",
       "4                       6                     5                9   \n",
       "\n",
       "  CULVERT_COND_062 OPR_RATING_METH_063  OPERATING_RATING_064  \\\n",
       "0                N                   2                  44.2   \n",
       "1                N                   2                  84.2   \n",
       "2                N                   2                  51.7   \n",
       "3                N                   1                  44.2   \n",
       "4                N                   1                  40.0   \n",
       "\n",
       "  INV_RATING_METH_065  INVENTORY_RATING_066 STRUCTURAL_EVAL_067  \\\n",
       "0                   2                  32.4                   7   \n",
       "1                   2                  34.8                   7   \n",
       "2                   2                  37.2                   5   \n",
       "3                   1                  26.6                   6   \n",
       "4                   1                  23.9                   5   \n",
       "\n",
       "  DECK_GEOMETRY_EVAL_068 UNDCLRENCE_EVAL_069  POSTING_EVAL_070  \\\n",
       "0                      7                   N               5.0   \n",
       "1                      6                   N               5.0   \n",
       "2                      4                   N               5.0   \n",
       "3                      6                   N               5.0   \n",
       "4                      2                   N               5.0   \n",
       "\n",
       "  WATERWAY_EVAL_071  APPR_ROAD_EVAL_072  WORK_PROPOSED_075A  \\\n",
       "0                 8                 8.0                 NaN   \n",
       "1                 7                 8.0                 NaN   \n",
       "2                 8                 6.0                38.0   \n",
       "3                 9                 6.0                 NaN   \n",
       "4                 8                 8.0                31.0   \n",
       "\n",
       "   WORK_DONE_BY_075B  IMP_LEN_MT_076  DATE_OF_INSPECT_090  \\\n",
       "0                NaN             0.0                117.0   \n",
       "1                NaN             0.0                117.0   \n",
       "2                1.0            52.8               1017.0   \n",
       "3                NaN             NaN                616.0   \n",
       "4                1.0          1981.2                517.0   \n",
       "\n",
       "   INSPECT_FREQ_MONTHS_091 FRACTURE_092A UNDWATER_LOOK_SEE_092B  \\\n",
       "0                     24.0           N                      N     \n",
       "1                     24.0           N                      N     \n",
       "2                     24.0           N                      Y60   \n",
       "3                     24.0           N                      N     \n",
       "4                     24.0           Y24                    N     \n",
       "\n",
       "  SPEC_INSPECT_092C  FRACTURE_LAST_DATE_093A  UNDWATER_LAST_DATE_093B  \\\n",
       "0               N                        NaN                      NaN   \n",
       "1               N                        NaN                      NaN   \n",
       "2               N                        NaN                   1017.0   \n",
       "3               N                        NaN                      NaN   \n",
       "4               N                      517.0                      NaN   \n",
       "\n",
       "   SPEC_LAST_DATE_093C  BRIDGE_IMP_COST_094  ROADWAY_IMP_COST_095  \\\n",
       "0                  NaN                  0.0                   0.0   \n",
       "1                  NaN                  0.0                   0.0   \n",
       "2                  NaN                  1.0                   1.0   \n",
       "3                  NaN                  NaN                   NaN   \n",
       "4                  NaN              50000.0                2000.0   \n",
       "\n",
       "   TOTAL_IMP_COST_096  YEAR_OF_IMP_097 OTHER_STATE_CODE_098A  \\\n",
       "0                 0.0           2017.0                   NaN   \n",
       "1                 0.0           2017.0                   NaN   \n",
       "2                 2.0           2017.0                   NaN   \n",
       "3                 NaN              NaN                   NaN   \n",
       "4             60000.0           2010.0                   NaN   \n",
       "\n",
       "   OTHER_STATE_PCNT_098B OTHR_STATE_STRUC_NO_099  STRAHNET_HIGHWAY_100  \\\n",
       "0                    0.0                     NaN                   0.0   \n",
       "1                    0.0                     NaN                   0.0   \n",
       "2                    NaN                     NaN                   0.0   \n",
       "3                    NaN                     NaN                   0.0   \n",
       "4                    NaN                     NaN                   0.0   \n",
       "\n",
       "  PARALLEL_STRUCTURE_101  TRAFFIC_DIRECTION_102 TEMP_STRUCTURE_103  \\\n",
       "0                      N                      2                NaN   \n",
       "1                      N                      2                NaN   \n",
       "2                      N                      2                NaN   \n",
       "3                      N                      2                NaN   \n",
       "4                      N                      2                NaN   \n",
       "\n",
       "   HIGHWAY_SYSTEM_104  FEDERAL_LANDS_105  YEAR_RECONSTRUCTED_106  \\\n",
       "0                   0                  1                     0.0   \n",
       "1                   0                  1                     0.0   \n",
       "2                   0                  0                     0.0   \n",
       "3                   0                  0                     0.0   \n",
       "4                   0                  0                  1962.0   \n",
       "\n",
       "  DECK_STRUCTURE_TYPE_107 SURFACE_TYPE_108A MEMBRANE_TYPE_108B  \\\n",
       "0                       2                 6                  0   \n",
       "1                       2                 6                  0   \n",
       "2                       1                 1                  0   \n",
       "3                       1                 0                  0   \n",
       "4                       1                 0                  0   \n",
       "\n",
       "  DECK_PROTECTION_108C  PERCENT_ADT_TRUCK_109  NATIONAL_NETWORK_110  \\\n",
       "0                    1                    1.0                     0   \n",
       "1                    8                    1.0                     0   \n",
       "2                    0                   35.0                     0   \n",
       "3                    0                    5.0                     0   \n",
       "4                    0                   10.0                     0   \n",
       "\n",
       "   PIER_PROTECTION_111 BRIDGE_LEN_IND_112 SCOUR_CRITICAL_113  FUTURE_ADT_114  \\\n",
       "0                  NaN                  Y                  8            59.0   \n",
       "1                  NaN                  Y                  8           200.0   \n",
       "2                  NaN                  Y                  8           400.0   \n",
       "3                  NaN                  Y                  5           350.0   \n",
       "4                  1.0                  Y                  5         10000.0   \n",
       "\n",
       "   YEAR_OF_FUTURE_ADT_115  MIN_NAV_CLR_MT_116 FED_AGENCY DATE_LAST_UPDATE  \\\n",
       "0                  2037.0                 0.0          Y        6/13/2018   \n",
       "1                  2034.0                 0.0          Y        6/13/2018   \n",
       "2                  2039.0                 NaN          Y         6/4/2018   \n",
       "3                  2032.0                 NaN          Y        5/23/2018   \n",
       "4                  2030.0                 NaN          Y        5/23/2018   \n",
       "\n",
       "  TYPE_LAST_UPDATE DEDUCT_CODE  REMARKS PROGRAM_CODE PROJ_NO  PROJ_SUFFIX  \\\n",
       "0                B          Z       NaN          NaN     NaN          NaN   \n",
       "1                B          Z       NaN          NaN     NaN          NaN   \n",
       "2                B          Z       NaN          NaN     NaN          NaN   \n",
       "3                B          Z       NaN          NaN     NaN          NaN   \n",
       "4                B          C       NaN          NaN     NaN          NaN   \n",
       "\n",
       "   NBI_TYPE_OF_IMP  DTL_TYPE_OF_IMP  SPECIAL_CODE  STEP_CODE  \\\n",
       "0              NaN              NaN           NaN        NaN   \n",
       "1              NaN              NaN           NaN        NaN   \n",
       "2              NaN              NaN           NaN        NaN   \n",
       "3              NaN              NaN           NaN        NaN   \n",
       "4              NaN              NaN           NaN        NaN   \n",
       "\n",
       "   STATUS_WITH_10YR_RULE SUFFICIENCY_ASTERC  SUFFICIENCY_RATING  \\\n",
       "0                      0                NaN               100.0   \n",
       "1                      0                NaN               100.0   \n",
       "2                      0                NaN                69.5   \n",
       "3                      0                NaN                90.2   \n",
       "4                      2                NaN                45.9   \n",
       "\n",
       "   STATUS_NO_10YR_RULE CAT10 CAT23     CAT29  \n",
       "0                    0     G     7    145.50  \n",
       "1                    0     G     7    133.28  \n",
       "2                    0     F     5    387.00  \n",
       "3                    0     G     7    687.75  \n",
       "4                    2     F     5  15453.36  "
      ]
     },
     "execution_count": 5,
     "metadata": {},
     "output_type": "execute_result"
    }
   ],
   "source": [
    "total18.head()"
   ]
  },
  {
   "cell_type": "code",
   "execution_count": 80,
   "metadata": {},
   "outputs": [],
   "source": [
    "init_br = total18.shape[0]"
   ]
  },
  {
   "cell_type": "code",
   "execution_count": 34,
   "metadata": {
    "scrolled": false
   },
   "outputs": [
    {
     "name": "stdout",
     "output_type": "stream",
     "text": [
      "There are 616096 bridges in this years NBI dataset and 137 columns with different characteristics of each bridge\n"
     ]
    }
   ],
   "source": [
    "print('There are %d bridges in this years NBI dataset and %d columns with different characteristics of each bridge' %(init_br, total18.shape[1]))"
   ]
  },
  {
   "cell_type": "code",
   "execution_count": 35,
   "metadata": {},
   "outputs": [
    {
     "name": "stdout",
     "output_type": "stream",
     "text": [
      "53 states from the USA have submitted their data to the FHWA\n"
     ]
    }
   ],
   "source": [
    "print('%d states from the USA have submitted their data to the FHWA' %(len(total18['STATE_CODE_001'].unique())))"
   ]
  },
  {
   "cell_type": "code",
   "execution_count": 42,
   "metadata": {},
   "outputs": [],
   "source": [
    "state_name = {25:'MASSACHUSETTS',\n",
    "             4:'ARIZONA', \n",
    "             8:'COLORADO',\n",
    "             38:'NORTH DAKOTA', \n",
    "             9:'CONNECTICUT', \n",
    "             19:'IOWA', \n",
    "             26:'MICHIGAN', \n",
    "             48:'TEXAS',\n",
    "             35:'NEW MEXICO',\n",
    "             17:'ILLINOIS', \n",
    "             51:'VIRGINIA',\n",
    "             23:'MAINE',\n",
    "             16:'IDAHO',\n",
    "             36:'NEW YORK',\n",
    "             56:'WYOMING',\n",
    "             29:'MISSOURI',\n",
    "             39:'OHIO',\n",
    "             28:'MISSISSIPI', \n",
    "             11:'DISTRICT OF COLOMBIA',\n",
    "             21:'KENTUCKY', \n",
    "             18:'INDIANA',\n",
    "             6:'CALIFORNIA',\n",
    "             47:'TENNESSEE', \n",
    "             12:'FLORIDA',\n",
    "             24:'MARYLAND',\n",
    "             34:'NEW JERSEY', \n",
    "             46:'SOUTH DAKOTA',\n",
    "             13:'GEORGIA',\n",
    "             55:'WISCONSIN',\n",
    "             30:'MONTANA',\n",
    "             54:'WEST VIGINIA',\n",
    "             15:'HAWAII', \n",
    "             32:'NEVADA', \n",
    "             37:'NORTH CAROLINA',\n",
    "             10:'DELAWARE', \n",
    "             33:'NEW HAMPSHIRE', \n",
    "             44:'RHODE ISLAND',\n",
    "             50:'VERMONT', \n",
    "             42:'PENNSYLVANIA', \n",
    "             5:'ARKANSAS', \n",
    "             20:'KANSAS', \n",
    "             45:'SOUTH CAROLINA',\n",
    "             22:'LOUISIANA',\n",
    "             40:'OKLAHOMA', \n",
    "             72:'PUERTO RICO', \n",
    "             41:'OREGON',\n",
    "             21:'MINNESOTA', \n",
    "             53:'WASHINGTON', \n",
    "             1:'ALABAMA', \n",
    "             31:'NEBRASKA',\n",
    "             2:'ALASKA', \n",
    "             49:'UTAH'\n",
    "               }"
   ]
  },
  {
   "cell_type": "code",
   "execution_count": 43,
   "metadata": {},
   "outputs": [
    {
     "data": {
      "text/plain": [
       "TEXAS                   18762\n",
       "MISSOURI                12166\n",
       "OKLAHOMA                11173\n",
       "OHIO                    10137\n",
       "IOWA                     9672\n",
       "NEW YORK                 8869\n",
       "NORTH CAROLINA           8363\n",
       "ILLINOIS                 7626\n",
       "KANSAS                   7529\n",
       "PENNSYLVANIA             7360\n",
       "VIRGINIA                 6679\n",
       "NEBRASKA                 6562\n",
       "WISCONSIN                6130\n",
       "MISSISSIPI               6064\n",
       "INDIANA                  5639\n",
       "GEORGIA                  5306\n",
       "TENNESSEE                5099\n",
       "FLORIDA                  4996\n",
       "MICHIGAN                 4662\n",
       "ALABAMA                  4149\n",
       "MINNESOTA                4124\n",
       "ARKANSAS                 4023\n",
       "NEW JERSEY               3616\n",
       "COLORADO                 3513\n",
       "CALIFORNIA               3131\n",
       "WEST VIGINIA             3034\n",
       "SOUTH CAROLINA           2799\n",
       "MASSACHUSETTS            2771\n",
       "WASHINGTON               2657\n",
       "MARYLAND                 2569\n",
       "MONTANA                  2380\n",
       "CONNECTICUT              2149\n",
       "LOUISIANA                2126\n",
       "OREGON                   1768\n",
       "UTAH                     1564\n",
       "SOUTH DAKOTA             1556\n",
       "IDAHO                    1484\n",
       "VERMONT                  1476\n",
       "WYOMING                  1355\n",
       "ARIZONA                  1324\n",
       "NEW HAMPSHIRE            1270\n",
       "NEW MEXICO               1265\n",
       "MAINE                    1216\n",
       "PUERTO RICO              1156\n",
       "NORTH DAKOTA             1084\n",
       "ALASKA                    609\n",
       "RHODE ISLAND              406\n",
       "DELAWARE                  368\n",
       "NEVADA                    239\n",
       "HAWAII                    229\n",
       "DISTRICT OF COLOMBIA      147\n",
       "Name: STATE_CODE_001, dtype: int64"
      ]
     },
     "execution_count": 43,
     "metadata": {},
     "output_type": "execute_result"
    }
   ],
   "source": [
    "# Let's see how many bridges we have from each state\n",
    "\n",
    "total18['STATE_CODE_001'].map(state_name).value_counts()"
   ]
  },
  {
   "cell_type": "code",
   "execution_count": 14,
   "metadata": {},
   "outputs": [
    {
     "data": {
      "text/plain": [
       "['STATE_CODE_001',\n",
       " 'STRUCTURE_NUMBER_008',\n",
       " 'RECORD_TYPE_005A',\n",
       " 'ROUTE_PREFIX_005B',\n",
       " 'SERVICE_LEVEL_005C',\n",
       " 'ROUTE_NUMBER_005D',\n",
       " 'DIRECTION_005E',\n",
       " 'HIGHWAY_DISTRICT_002',\n",
       " 'COUNTY_CODE_003',\n",
       " 'PLACE_CODE_004',\n",
       " 'FEATURES_DESC_006A',\n",
       " 'CRITICAL_FACILITY_006B',\n",
       " 'FACILITY_CARRIED_007',\n",
       " 'LOCATION_009',\n",
       " 'MIN_VERT_CLR_010',\n",
       " 'KILOPOINT_011',\n",
       " 'BASE_HWY_NETWORK_012',\n",
       " 'LRS_INV_ROUTE_013A',\n",
       " 'SUBROUTE_NO_013B',\n",
       " 'LAT_016',\n",
       " 'LONG_017',\n",
       " 'DETOUR_KILOS_019',\n",
       " 'TOLL_020',\n",
       " 'MAINTENANCE_021',\n",
       " 'OWNER_022',\n",
       " 'FUNCTIONAL_CLASS_026',\n",
       " 'YEAR_BUILT_027',\n",
       " 'TRAFFIC_LANES_ON_028A',\n",
       " 'TRAFFIC_LANES_UND_028B',\n",
       " 'ADT_029',\n",
       " 'YEAR_ADT_030',\n",
       " 'DESIGN_LOAD_031',\n",
       " 'APPR_WIDTH_MT_032',\n",
       " 'MEDIAN_CODE_033',\n",
       " 'DEGREES_SKEW_034',\n",
       " 'STRUCTURE_FLARED_035',\n",
       " 'RAILINGS_036A',\n",
       " 'TRANSITIONS_036B',\n",
       " 'APPR_RAIL_036C',\n",
       " 'APPR_RAIL_END_036D',\n",
       " 'HISTORY_037',\n",
       " 'NAVIGATION_038',\n",
       " 'NAV_VERT_CLR_MT_039',\n",
       " 'NAV_HORR_CLR_MT_040',\n",
       " 'OPEN_CLOSED_POSTED_041',\n",
       " 'SERVICE_ON_042A',\n",
       " 'SERVICE_UND_042B',\n",
       " 'STRUCTURE_KIND_043A',\n",
       " 'STRUCTURE_TYPE_043B',\n",
       " 'APPR_KIND_044A',\n",
       " 'APPR_TYPE_044B',\n",
       " 'MAIN_UNIT_SPANS_045',\n",
       " 'APPR_SPANS_046',\n",
       " 'HORR_CLR_MT_047',\n",
       " 'MAX_SPAN_LEN_MT_048',\n",
       " 'STRUCTURE_LEN_MT_049',\n",
       " 'LEFT_CURB_MT_050A',\n",
       " 'RIGHT_CURB_MT_050B',\n",
       " 'ROADWAY_WIDTH_MT_051',\n",
       " 'DECK_WIDTH_MT_052',\n",
       " 'VERT_CLR_OVER_MT_053',\n",
       " 'VERT_CLR_UND_REF_054A',\n",
       " 'VERT_CLR_UND_054B',\n",
       " 'LAT_UND_REF_055A',\n",
       " 'LAT_UND_MT_055B',\n",
       " 'LEFT_LAT_UND_MT_056',\n",
       " 'DECK_COND_058',\n",
       " 'SUPERSTRUCTURE_COND_059',\n",
       " 'SUBSTRUCTURE_COND_060',\n",
       " 'CHANNEL_COND_061',\n",
       " 'CULVERT_COND_062',\n",
       " 'OPR_RATING_METH_063',\n",
       " 'OPERATING_RATING_064',\n",
       " 'INV_RATING_METH_065',\n",
       " 'INVENTORY_RATING_066',\n",
       " 'STRUCTURAL_EVAL_067',\n",
       " 'DECK_GEOMETRY_EVAL_068',\n",
       " 'UNDCLRENCE_EVAL_069',\n",
       " 'POSTING_EVAL_070',\n",
       " 'WATERWAY_EVAL_071',\n",
       " 'APPR_ROAD_EVAL_072',\n",
       " 'WORK_PROPOSED_075A',\n",
       " 'WORK_DONE_BY_075B',\n",
       " 'IMP_LEN_MT_076',\n",
       " 'DATE_OF_INSPECT_090',\n",
       " 'INSPECT_FREQ_MONTHS_091',\n",
       " 'FRACTURE_092A',\n",
       " 'UNDWATER_LOOK_SEE_092B',\n",
       " 'SPEC_INSPECT_092C',\n",
       " 'FRACTURE_LAST_DATE_093A',\n",
       " 'UNDWATER_LAST_DATE_093B',\n",
       " 'SPEC_LAST_DATE_093C',\n",
       " 'BRIDGE_IMP_COST_094',\n",
       " 'ROADWAY_IMP_COST_095',\n",
       " 'TOTAL_IMP_COST_096',\n",
       " 'YEAR_OF_IMP_097',\n",
       " 'OTHER_STATE_CODE_098A',\n",
       " 'OTHER_STATE_PCNT_098B',\n",
       " 'OTHR_STATE_STRUC_NO_099',\n",
       " 'STRAHNET_HIGHWAY_100',\n",
       " 'PARALLEL_STRUCTURE_101',\n",
       " 'TRAFFIC_DIRECTION_102',\n",
       " 'TEMP_STRUCTURE_103',\n",
       " 'HIGHWAY_SYSTEM_104',\n",
       " 'FEDERAL_LANDS_105',\n",
       " 'YEAR_RECONSTRUCTED_106',\n",
       " 'DECK_STRUCTURE_TYPE_107',\n",
       " 'SURFACE_TYPE_108A',\n",
       " 'MEMBRANE_TYPE_108B',\n",
       " 'DECK_PROTECTION_108C',\n",
       " 'PERCENT_ADT_TRUCK_109',\n",
       " 'NATIONAL_NETWORK_110',\n",
       " 'PIER_PROTECTION_111',\n",
       " 'BRIDGE_LEN_IND_112',\n",
       " 'SCOUR_CRITICAL_113',\n",
       " 'FUTURE_ADT_114',\n",
       " 'YEAR_OF_FUTURE_ADT_115',\n",
       " 'MIN_NAV_CLR_MT_116',\n",
       " 'FED_AGENCY',\n",
       " 'DATE_LAST_UPDATE',\n",
       " 'TYPE_LAST_UPDATE',\n",
       " 'DEDUCT_CODE',\n",
       " 'REMARKS',\n",
       " 'PROGRAM_CODE',\n",
       " 'PROJ_NO',\n",
       " 'PROJ_SUFFIX',\n",
       " 'NBI_TYPE_OF_IMP',\n",
       " 'DTL_TYPE_OF_IMP',\n",
       " 'SPECIAL_CODE',\n",
       " 'STEP_CODE',\n",
       " 'STATUS_WITH_10YR_RULE',\n",
       " 'SUFFICIENCY_ASTERC',\n",
       " 'SUFFICIENCY_RATING',\n",
       " 'STATUS_NO_10YR_RULE',\n",
       " 'CAT10',\n",
       " 'CAT23',\n",
       " 'CAT29']"
      ]
     },
     "execution_count": 14,
     "metadata": {},
     "output_type": "execute_result"
    }
   ],
   "source": [
    "list(total18.columns)"
   ]
  },
  {
   "cell_type": "markdown",
   "metadata": {},
   "source": [
    "The FHWA provides a \"Recording and Coding Guide for the Structure Inventory and Appraisal of the Nations Bridges\" in its website: https://www.fhwa.dot.gov/bridge/mtguide.pdf\n",
    "\n",
    "This guides allows us to better understand those 137 features engineers use to code the bridges they are inspecting. "
   ]
  },
  {
   "cell_type": "code",
   "execution_count": null,
   "metadata": {},
   "outputs": [],
   "source": []
  },
  {
   "cell_type": "markdown",
   "metadata": {},
   "source": [
    "### Clear and Merge Data"
   ]
  },
  {
   "cell_type": "markdown",
   "metadata": {},
   "source": [
    "We will perform several filters in order to clear our data and get some useful insights. \n",
    "The filters will be developed from generic to more specific features.\n",
    "\n",
    "We will also need to add columns and transform some variables.\n",
    "\n",
    "Our filters and merge operations will be: \n",
    "\n",
    "    \n",
    "\n",
    "    1) Selecting only bridges: the FHWA inventory includes data on both bridges and culverts.    \n",
    "\n",
    "    2) Limit the dataset to bridges built after 1900: bridges built before ASTM standards (founded in 1898) would have had inconsistent standards for material acceptance in the bridge.\n",
    "    \n",
    "    3) Filtering only the bridges with steel girders and prestressed concrete decks.\n",
    "    \n",
    "    4) Focus in one climate zone of the USA for our study\n",
    "    \n",
    "    5) Delete impossible data like year of reconstruction after current year.\n",
    "    \n",
    "    6) Selecting only the columns we will be interested in.\n",
    "    \n",
    "    7) Group categories in some of the categorical variables\n",
    "\n",
    "    8) Drop duplicates   \n"
   ]
  },
  {
   "cell_type": "code",
   "execution_count": 16,
   "metadata": {},
   "outputs": [
    {
     "data": {
      "text/html": [
       "<img src=\"https://engineeringdiscoveries.com/2019/02/10/what-is-difference-between-bridge-and-culvert/what-is-difference-between-bridge-and-culvert-ohn/\" width=\"500\" height=\"500\"/>"
      ],
      "text/plain": [
       "<IPython.core.display.Image object>"
      ]
     },
     "execution_count": 16,
     "metadata": {},
     "output_type": "execute_result"
    }
   ],
   "source": [
    "#The culverts will be dropped out of our dataset\n",
    "Image(url= \"https://engineeringdiscoveries.com/2019/02/10/what-is-difference-between-bridge-and-culvert/what-is-difference-between-bridge-and-culvert-ohn/\", width=500, height=500)"
   ]
  },
  {
   "cell_type": "code",
   "execution_count": 81,
   "metadata": {},
   "outputs": [
    {
     "name": "stdout",
     "output_type": "stream",
     "text": [
      "The dataset had 140632 culverts\n"
     ]
    }
   ],
   "source": [
    "total18 = total18.loc[total18['CULVERT_COND_062'] == 'N']\n",
    "print('The dataset had %d culverts' %(init_br-total18.shape[0]))"
   ]
  },
  {
   "cell_type": "code",
   "execution_count": null,
   "metadata": {},
   "outputs": [],
   "source": []
  },
  {
   "cell_type": "code",
   "execution_count": 82,
   "metadata": {},
   "outputs": [
    {
     "name": "stdout",
     "output_type": "stream",
     "text": [
      "The dataset had 145585 bridges built before 1900\n"
     ]
    }
   ],
   "source": [
    "#Drop bridges built before 1900 due to material standards\n",
    "\n",
    "total18 = total18.loc[total18['YEAR_BUILT_027'] > 1900]\n",
    "print('The dataset had %d bridges built before 1900' %(init_br-total18.shape[0]))"
   ]
  },
  {
   "cell_type": "code",
   "execution_count": null,
   "metadata": {},
   "outputs": [],
   "source": []
  },
  {
   "cell_type": "code",
   "execution_count": 38,
   "metadata": {},
   "outputs": [
    {
     "data": {
      "text/plain": [
       "array([5, 1, 3, 4, 2, 6, 7, 8, 0, 9])"
      ]
     },
     "execution_count": 38,
     "metadata": {},
     "output_type": "execute_result"
    }
   ],
   "source": [
    "# We only want the bridges with steel girders and prestressed concrete beams\n",
    "# Let's see first which values do the \"STRUCTURE KIND\" feature can take\n",
    "\n",
    "total18['STRUCTURE_KIND_043A'].unique()"
   ]
  },
  {
   "cell_type": "code",
   "execution_count": 83,
   "metadata": {},
   "outputs": [
    {
     "name": "stdout",
     "output_type": "stream",
     "text": [
      "The dataset had 297085 bridges not made of steel or concrete\n"
     ]
    }
   ],
   "source": [
    "# The item codification is as follows: \n",
    "# 3 for steel, 4 for steel continuous, 5 for pre-stressed concrete and 6 for pre-stressed concrete continuous\n",
    "\n",
    "total18 = total18[(total18['STRUCTURE_KIND_043A'].isin([3,4,5,6]))]\n",
    "print('The dataset had %d bridges not made of steel or concrete' %(init_br-total18.shape[0]))"
   ]
  },
  {
   "cell_type": "code",
   "execution_count": 84,
   "metadata": {
    "scrolled": true
   },
   "outputs": [
    {
     "data": {
      "text/plain": [
       "array([ 5,  1, 10,  3,  2, 12,  9, 22,  0,  4,  6,  7, 21, 15, 14, 11,  8,\n",
       "       13, 17, 16, 20])"
      ]
     },
     "execution_count": 84,
     "metadata": {},
     "output_type": "execute_result"
    }
   ],
   "source": [
    "# We only want beams or girders superstructures. \n",
    "\n",
    "total18['STRUCTURE_TYPE_043B'].unique()"
   ]
  },
  {
   "cell_type": "code",
   "execution_count": 85,
   "metadata": {},
   "outputs": [
    {
     "name": "stdout",
     "output_type": "stream",
     "text": [
      "The dataset had 396740 bridges with deck typologies other than girders\n"
     ]
    }
   ],
   "source": [
    "# The item codification is 2 for stringer/multi-beam or girder\n",
    "\n",
    "total18 = total18[(total18['STRUCTURE_TYPE_043B']==2)]\n",
    "total18.drop(['STRUCTURE_TYPE_043B'], axis=1, inplace = True)\n",
    "print('The dataset had %d bridges with deck typologies other than girders' %(init_br-total18.shape[0]))"
   ]
  },
  {
   "cell_type": "code",
   "execution_count": null,
   "metadata": {},
   "outputs": [],
   "source": []
  },
  {
   "cell_type": "code",
   "execution_count": 88,
   "metadata": {},
   "outputs": [],
   "source": [
    "# Drop impossible data like year of reconstruction after year of last inspection (2018) \n",
    "\n",
    "total18['YEAR_RECONSTRUCTED_106'].fillna(0, inplace = True)\n",
    "total18 = total18[total18['YEAR_RECONSTRUCTED_106'] < 2018]"
   ]
  },
  {
   "cell_type": "code",
   "execution_count": 89,
   "metadata": {},
   "outputs": [
    {
     "name": "stderr",
     "output_type": "stream",
     "text": [
      "/home/dsc/anaconda3/lib/python3.7/site-packages/pandas/core/frame.py:3697: SettingWithCopyWarning: \n",
      "A value is trying to be set on a copy of a slice from a DataFrame\n",
      "\n",
      "See the caveats in the documentation: http://pandas.pydata.org/pandas-docs/stable/indexing.html#indexing-view-versus-copy\n",
      "  errors=errors)\n"
     ]
    }
   ],
   "source": [
    "# Drop impossible data like year of reconstruction after year of construction\n",
    "\n",
    "total18.drop(total18[(total18['YEAR_RECONSTRUCTED_106']!=0) & (total18['YEAR_RECONSTRUCTED_106']<= total18['YEAR_BUILT_027'])].index, inplace = True)"
   ]
  },
  {
   "cell_type": "code",
   "execution_count": null,
   "metadata": {},
   "outputs": [],
   "source": []
  },
  {
   "cell_type": "code",
   "execution_count": 90,
   "metadata": {},
   "outputs": [
    {
     "name": "stderr",
     "output_type": "stream",
     "text": [
      "/home/dsc/anaconda3/lib/python3.7/site-packages/ipykernel_launcher.py:4: SettingWithCopyWarning: \n",
      "A value is trying to be set on a copy of a slice from a DataFrame.\n",
      "Try using .loc[row_indexer,col_indexer] = value instead\n",
      "\n",
      "See the caveats in the documentation: http://pandas.pydata.org/pandas-docs/stable/indexing.html#indexing-view-versus-copy\n",
      "  after removing the cwd from sys.path.\n"
     ]
    }
   ],
   "source": [
    "# Add some features that are more easy to read\n",
    "\n",
    "# Average daily traffic for trucks\n",
    "total18['TRUCK_ADT'] = total18['ADT_029']*total18['PERCENT_ADT_TRUCK_109']/100"
   ]
  },
  {
   "cell_type": "code",
   "execution_count": 91,
   "metadata": {},
   "outputs": [
    {
     "name": "stderr",
     "output_type": "stream",
     "text": [
      "/home/dsc/anaconda3/lib/python3.7/site-packages/ipykernel_launcher.py:4: SettingWithCopyWarning: \n",
      "A value is trying to be set on a copy of a slice from a DataFrame.\n",
      "Try using .loc[row_indexer,col_indexer] = value instead\n",
      "\n",
      "See the caveats in the documentation: http://pandas.pydata.org/pandas-docs/stable/indexing.html#indexing-view-versus-copy\n",
      "  after removing the cwd from sys.path.\n"
     ]
    }
   ],
   "source": [
    "# Age of bridge\n",
    "# Will be calculated as 2019 (current year) - the year the bridge was built\n",
    "\n",
    "total18['AGE'] = total18.apply(lambda row : (2019-row['YEAR_BUILT_027']), axis = 1)"
   ]
  },
  {
   "cell_type": "code",
   "execution_count": 92,
   "metadata": {},
   "outputs": [],
   "source": [
    "# Let's select only the columns we will work with\n",
    "\n",
    "descriptive_cols = ['STATE_CODE_001',\n",
    "                    'STRUCTURE_NUMBER_008',\n",
    "                    'LAT_016',\n",
    "                    'LONG_017']\n",
    "\n",
    "geometric_cols = ['TRAFFIC_LANES_ON_028A',\n",
    "                  'DEGREES_SKEW_034',\n",
    "                  'STRUCTURE_KIND_043A',\n",
    "                  'MAIN_UNIT_SPANS_045',\n",
    "                  'MAX_SPAN_LEN_MT_048',\n",
    "                  'STRUCTURE_LEN_MT_049',\n",
    "                  'DECK_WIDTH_MT_052',\n",
    "                  'SURFACE_TYPE_108A']\n",
    "\n",
    "functional_cols = ['YEAR_BUILT_027',\n",
    "                   'YEAR_RECONSTRUCTED_106',\n",
    "                   'AGE',\n",
    "                   'DESIGN_LOAD_031',\n",
    "                   'TRUCK_ADT']\n",
    "\n",
    "operational_cols = ['MAINTENANCE_021',\n",
    "                    'FUNCTIONAL_CLASS_026',\n",
    "                    'WATERWAY_EVAL_071']\n",
    "\n",
    "rating_cols = ['DECK_COND_058',\n",
    "               'SUPERSTRUCTURE_COND_059',\n",
    "               'SUBSTRUCTURE_COND_060']"
   ]
  },
  {
   "cell_type": "code",
   "execution_count": 60,
   "metadata": {},
   "outputs": [
    {
     "data": {
      "text/plain": [
       "['STATE_CODE_001',\n",
       " 'STRUCTURE_NUMBER_008',\n",
       " 'LAT_016',\n",
       " 'LONG_017',\n",
       " 'TRAFFIC_LANES_ON_028A',\n",
       " 'DEGREES_SKEW_034',\n",
       " 'STRUCTURE_KIND_043A',\n",
       " 'MAIN_UNIT_SPANS_045',\n",
       " 'MAX_SPAN_LEN_MT_048',\n",
       " 'STRUCTURE_LEN_MT_049',\n",
       " 'DECK_WIDTH_MT_052',\n",
       " 'SURFACE_TYPE_108A',\n",
       " 'YEAR_BUILT_027',\n",
       " 'YEAR_RECONSTRUCTED_106',\n",
       " 'AGE',\n",
       " 'DESIGN_LOAD_031',\n",
       " 'TRUCK_ADT',\n",
       " 'MAINTENANCE_021',\n",
       " 'FUNCTIONAL_CLASS_026',\n",
       " 'WATERWAY_EVAL_071',\n",
       " 'DECK_COND_058',\n",
       " 'SUPERSTRUCTURE_COND_059',\n",
       " 'SUBSTRUCTURE_COND_060']"
      ]
     },
     "execution_count": 60,
     "metadata": {},
     "output_type": "execute_result"
    }
   ],
   "source": [
    "cols_interest = descriptive_cols+geometric_cols+functional_cols+operational_cols+rating_cols\n",
    "cols_interest"
   ]
  },
  {
   "cell_type": "code",
   "execution_count": null,
   "metadata": {},
   "outputs": [],
   "source": []
  },
  {
   "cell_type": "code",
   "execution_count": 93,
   "metadata": {},
   "outputs": [],
   "source": [
    "# Let's reduce the dataset to those columns\n",
    "\n",
    "total18_fil = total18[cols_interest]"
   ]
  },
  {
   "cell_type": "code",
   "execution_count": 94,
   "metadata": {},
   "outputs": [
    {
     "data": {
      "text/html": [
       "<div>\n",
       "<style scoped>\n",
       "    .dataframe tbody tr th:only-of-type {\n",
       "        vertical-align: middle;\n",
       "    }\n",
       "\n",
       "    .dataframe tbody tr th {\n",
       "        vertical-align: top;\n",
       "    }\n",
       "\n",
       "    .dataframe thead th {\n",
       "        text-align: right;\n",
       "    }\n",
       "</style>\n",
       "<table border=\"1\" class=\"dataframe\">\n",
       "  <thead>\n",
       "    <tr style=\"text-align: right;\">\n",
       "      <th></th>\n",
       "      <th>STATE_CODE_001</th>\n",
       "      <th>STRUCTURE_NUMBER_008</th>\n",
       "      <th>LAT_016</th>\n",
       "      <th>LONG_017</th>\n",
       "      <th>TRAFFIC_LANES_ON_028A</th>\n",
       "      <th>DEGREES_SKEW_034</th>\n",
       "      <th>STRUCTURE_KIND_043A</th>\n",
       "      <th>MAIN_UNIT_SPANS_045</th>\n",
       "      <th>MAX_SPAN_LEN_MT_048</th>\n",
       "      <th>STRUCTURE_LEN_MT_049</th>\n",
       "      <th>DECK_WIDTH_MT_052</th>\n",
       "      <th>SURFACE_TYPE_108A</th>\n",
       "      <th>YEAR_BUILT_027</th>\n",
       "      <th>YEAR_RECONSTRUCTED_106</th>\n",
       "      <th>AGE</th>\n",
       "      <th>DESIGN_LOAD_031</th>\n",
       "      <th>TRUCK_ADT</th>\n",
       "      <th>MAINTENANCE_021</th>\n",
       "      <th>FUNCTIONAL_CLASS_026</th>\n",
       "      <th>WATERWAY_EVAL_071</th>\n",
       "      <th>DECK_COND_058</th>\n",
       "      <th>SUPERSTRUCTURE_COND_059</th>\n",
       "      <th>SUBSTRUCTURE_COND_060</th>\n",
       "    </tr>\n",
       "  </thead>\n",
       "  <tbody>\n",
       "    <tr>\n",
       "      <th>116059</th>\n",
       "      <td>17</td>\n",
       "      <td>16282500000000</td>\n",
       "      <td>41343844.0</td>\n",
       "      <td>87352110.0</td>\n",
       "      <td>2</td>\n",
       "      <td>50</td>\n",
       "      <td>4</td>\n",
       "      <td>10</td>\n",
       "      <td>42.4</td>\n",
       "      <td>367.6</td>\n",
       "      <td>13.2</td>\n",
       "      <td>N</td>\n",
       "      <td>2007.0</td>\n",
       "      <td>0.0</td>\n",
       "      <td>12.0</td>\n",
       "      <td>5</td>\n",
       "      <td>0.00</td>\n",
       "      <td>31</td>\n",
       "      <td>11</td>\n",
       "      <td>N</td>\n",
       "      <td>7</td>\n",
       "      <td>8</td>\n",
       "      <td>7</td>\n",
       "    </tr>\n",
       "    <tr>\n",
       "      <th>195941</th>\n",
       "      <td>20</td>\n",
       "      <td>690575003120</td>\n",
       "      <td>39545479.0</td>\n",
       "      <td>99384473.0</td>\n",
       "      <td>2</td>\n",
       "      <td>0</td>\n",
       "      <td>3</td>\n",
       "      <td>1</td>\n",
       "      <td>14.1</td>\n",
       "      <td>14.3</td>\n",
       "      <td>7.9</td>\n",
       "      <td>6</td>\n",
       "      <td>2000.0</td>\n",
       "      <td>0.0</td>\n",
       "      <td>19.0</td>\n",
       "      <td>5</td>\n",
       "      <td>0.00</td>\n",
       "      <td>2</td>\n",
       "      <td>9</td>\n",
       "      <td>5</td>\n",
       "      <td>8</td>\n",
       "      <td>7</td>\n",
       "      <td>7</td>\n",
       "    </tr>\n",
       "    <tr>\n",
       "      <th>431035</th>\n",
       "      <td>40</td>\n",
       "      <td>220600000000000</td>\n",
       "      <td>36390791.0</td>\n",
       "      <td>98351296.0</td>\n",
       "      <td>2</td>\n",
       "      <td>30</td>\n",
       "      <td>5</td>\n",
       "      <td>3</td>\n",
       "      <td>21.3</td>\n",
       "      <td>64.8</td>\n",
       "      <td>8.7</td>\n",
       "      <td>6</td>\n",
       "      <td>1988.0</td>\n",
       "      <td>0.0</td>\n",
       "      <td>31.0</td>\n",
       "      <td>5</td>\n",
       "      <td>11.25</td>\n",
       "      <td>2</td>\n",
       "      <td>7</td>\n",
       "      <td>8</td>\n",
       "      <td>7</td>\n",
       "      <td>8</td>\n",
       "      <td>7</td>\n",
       "    </tr>\n",
       "    <tr>\n",
       "      <th>344449</th>\n",
       "      <td>34</td>\n",
       "      <td>3800015</td>\n",
       "      <td>40511480.0</td>\n",
       "      <td>73574900.0</td>\n",
       "      <td>4</td>\n",
       "      <td>2</td>\n",
       "      <td>3</td>\n",
       "      <td>1</td>\n",
       "      <td>13.4</td>\n",
       "      <td>14.9</td>\n",
       "      <td>25.0</td>\n",
       "      <td>6</td>\n",
       "      <td>1964.0</td>\n",
       "      <td>0.0</td>\n",
       "      <td>55.0</td>\n",
       "      <td>5</td>\n",
       "      <td>451.00</td>\n",
       "      <td>26</td>\n",
       "      <td>14</td>\n",
       "      <td>N</td>\n",
       "      <td>6</td>\n",
       "      <td>6</td>\n",
       "      <td>5</td>\n",
       "    </tr>\n",
       "    <tr>\n",
       "      <th>101161</th>\n",
       "      <td>13</td>\n",
       "      <td>19750290</td>\n",
       "      <td>32320153.0</td>\n",
       "      <td>84361594.0</td>\n",
       "      <td>2</td>\n",
       "      <td>0</td>\n",
       "      <td>5</td>\n",
       "      <td>1</td>\n",
       "      <td>22.9</td>\n",
       "      <td>71.6</td>\n",
       "      <td>13.2</td>\n",
       "      <td>1</td>\n",
       "      <td>2005.0</td>\n",
       "      <td>0.0</td>\n",
       "      <td>14.0</td>\n",
       "      <td>6</td>\n",
       "      <td>118.20</td>\n",
       "      <td>1</td>\n",
       "      <td>7</td>\n",
       "      <td>6</td>\n",
       "      <td>7</td>\n",
       "      <td>7</td>\n",
       "      <td>7</td>\n",
       "    </tr>\n",
       "  </tbody>\n",
       "</table>\n",
       "</div>"
      ],
      "text/plain": [
       "        STATE_CODE_001 STRUCTURE_NUMBER_008     LAT_016    LONG_017  \\\n",
       "116059              17       16282500000000  41343844.0  87352110.0   \n",
       "195941              20         690575003120  39545479.0  99384473.0   \n",
       "431035              40      220600000000000  36390791.0  98351296.0   \n",
       "344449              34              3800015  40511480.0  73574900.0   \n",
       "101161              13             19750290  32320153.0  84361594.0   \n",
       "\n",
       "        TRAFFIC_LANES_ON_028A  DEGREES_SKEW_034  STRUCTURE_KIND_043A  \\\n",
       "116059                      2                50                    4   \n",
       "195941                      2                 0                    3   \n",
       "431035                      2                30                    5   \n",
       "344449                      4                 2                    3   \n",
       "101161                      2                 0                    5   \n",
       "\n",
       "        MAIN_UNIT_SPANS_045  MAX_SPAN_LEN_MT_048  STRUCTURE_LEN_MT_049  \\\n",
       "116059                   10                 42.4                 367.6   \n",
       "195941                    1                 14.1                  14.3   \n",
       "431035                    3                 21.3                  64.8   \n",
       "344449                    1                 13.4                  14.9   \n",
       "101161                    1                 22.9                  71.6   \n",
       "\n",
       "        DECK_WIDTH_MT_052 SURFACE_TYPE_108A  YEAR_BUILT_027  \\\n",
       "116059               13.2                 N          2007.0   \n",
       "195941                7.9                 6          2000.0   \n",
       "431035                8.7                 6          1988.0   \n",
       "344449               25.0                 6          1964.0   \n",
       "101161               13.2                 1          2005.0   \n",
       "\n",
       "        YEAR_RECONSTRUCTED_106   AGE DESIGN_LOAD_031  TRUCK_ADT  \\\n",
       "116059                     0.0  12.0               5       0.00   \n",
       "195941                     0.0  19.0               5       0.00   \n",
       "431035                     0.0  31.0               5      11.25   \n",
       "344449                     0.0  55.0               5     451.00   \n",
       "101161                     0.0  14.0               6     118.20   \n",
       "\n",
       "        MAINTENANCE_021  FUNCTIONAL_CLASS_026 WATERWAY_EVAL_071 DECK_COND_058  \\\n",
       "116059               31                    11                 N             7   \n",
       "195941                2                     9                 5             8   \n",
       "431035                2                     7                 8             7   \n",
       "344449               26                    14                 N             6   \n",
       "101161                1                     7                 6             7   \n",
       "\n",
       "       SUPERSTRUCTURE_COND_059 SUBSTRUCTURE_COND_060  \n",
       "116059                       8                     7  \n",
       "195941                       7                     7  \n",
       "431035                       8                     7  \n",
       "344449                       6                     5  \n",
       "101161                       7                     7  "
      ]
     },
     "execution_count": 94,
     "metadata": {},
     "output_type": "execute_result"
    }
   ],
   "source": [
    "total18_fil.sample(5)"
   ]
  },
  {
   "cell_type": "code",
   "execution_count": 95,
   "metadata": {},
   "outputs": [
    {
     "name": "stdout",
     "output_type": "stream",
     "text": [
      "The filtered dataset has 219311 bridges and 23 features\n"
     ]
    }
   ],
   "source": [
    "print('The filtered dataset has %d bridges and %d features' %(total18_fil.shape[0],total18_fil.shape[1]))"
   ]
  },
  {
   "cell_type": "code",
   "execution_count": 96,
   "metadata": {},
   "outputs": [
    {
     "data": {
      "text/plain": [
       "STATE_CODE_001               int64\n",
       "STRUCTURE_NUMBER_008        object\n",
       "LAT_016                    float64\n",
       "LONG_017                   float64\n",
       "TRAFFIC_LANES_ON_028A        int64\n",
       "DEGREES_SKEW_034             int64\n",
       "STRUCTURE_KIND_043A          int64\n",
       "MAIN_UNIT_SPANS_045          int64\n",
       "MAX_SPAN_LEN_MT_048        float64\n",
       "STRUCTURE_LEN_MT_049       float64\n",
       "DECK_WIDTH_MT_052          float64\n",
       "SURFACE_TYPE_108A           object\n",
       "YEAR_BUILT_027             float64\n",
       "YEAR_RECONSTRUCTED_106     float64\n",
       "AGE                        float64\n",
       "DESIGN_LOAD_031             object\n",
       "TRUCK_ADT                  float64\n",
       "MAINTENANCE_021              int64\n",
       "FUNCTIONAL_CLASS_026         int64\n",
       "WATERWAY_EVAL_071           object\n",
       "DECK_COND_058               object\n",
       "SUPERSTRUCTURE_COND_059     object\n",
       "SUBSTRUCTURE_COND_060       object\n",
       "dtype: object"
      ]
     },
     "execution_count": 96,
     "metadata": {},
     "output_type": "execute_result"
    }
   ],
   "source": [
    "total18_fil.dtypes"
   ]
  },
  {
   "cell_type": "code",
   "execution_count": 67,
   "metadata": {},
   "outputs": [],
   "source": [
    "object_cols = ['SURFACE_TYPE_108A','DESIGN_LOAD_031','WATERWAY_EVAL_071','DECK_COND_058','SUPERSTRUCTURE_COND_059','SUBSTRUCTURE_COND_060']"
   ]
  },
  {
   "cell_type": "code",
   "execution_count": 97,
   "metadata": {},
   "outputs": [
    {
     "name": "stderr",
     "output_type": "stream",
     "text": [
      "/home/dsc/anaconda3/lib/python3.7/site-packages/ipykernel_launcher.py:4: SettingWithCopyWarning: \n",
      "A value is trying to be set on a copy of a slice from a DataFrame.\n",
      "Try using .loc[row_indexer,col_indexer] = value instead\n",
      "\n",
      "See the caveats in the documentation: http://pandas.pydata.org/pandas-docs/stable/indexing.html#indexing-view-versus-copy\n",
      "  after removing the cwd from sys.path.\n",
      "/home/dsc/anaconda3/lib/python3.7/site-packages/ipykernel_launcher.py:5: SettingWithCopyWarning: \n",
      "A value is trying to be set on a copy of a slice from a DataFrame.\n",
      "Try using .loc[row_indexer,col_indexer] = value instead\n",
      "\n",
      "See the caveats in the documentation: http://pandas.pydata.org/pandas-docs/stable/indexing.html#indexing-view-versus-copy\n",
      "  \"\"\"\n"
     ]
    }
   ],
   "source": [
    "# Convert the columns with no type to numeric values\n",
    "\n",
    "for col in object_cols:\n",
    "    total18_fil[col] = pd.to_numeric(total18_fil[col], errors='coerce')\n",
    "    total18_fil[col] = total18_fil[col].astype('float64')\n",
    "    "
   ]
  },
  {
   "cell_type": "code",
   "execution_count": null,
   "metadata": {},
   "outputs": [],
   "source": []
  },
  {
   "cell_type": "code",
   "execution_count": 69,
   "metadata": {},
   "outputs": [],
   "source": [
    "# Grouping categories in some variables"
   ]
  },
  {
   "cell_type": "code",
   "execution_count": 98,
   "metadata": {},
   "outputs": [
    {
     "name": "stderr",
     "output_type": "stream",
     "text": [
      "/home/dsc/anaconda3/lib/python3.7/site-packages/ipykernel_launcher.py:3: SettingWithCopyWarning: \n",
      "A value is trying to be set on a copy of a slice from a DataFrame.\n",
      "Try using .loc[row_indexer,col_indexer] = value instead\n",
      "\n",
      "See the caveats in the documentation: http://pandas.pydata.org/pandas-docs/stable/indexing.html#indexing-view-versus-copy\n",
      "  This is separate from the ipykernel package so we can avoid doing imports until\n"
     ]
    }
   ],
   "source": [
    "# Structure Type - ITEM 43A\n",
    "code_struc = {3:'steel',4:'steel',5:'concrete',6:'concrete'}\n",
    "total18_fil['STRUCTURE_KIND_043A'] = total18_fil['STRUCTURE_KIND_043A'].map(code_struc)"
   ]
  },
  {
   "cell_type": "code",
   "execution_count": 99,
   "metadata": {},
   "outputs": [
    {
     "data": {
      "text/plain": [
       "<matplotlib.axes._subplots.AxesSubplot at 0x7f60f3742710>"
      ]
     },
     "execution_count": 99,
     "metadata": {},
     "output_type": "execute_result"
    },
    {
     "data": {
      "image/png": "[encoded data removed]",
      "text/plain": [
       "<Figure size 432x288 with 1 Axes>"
      ]
     },
     "metadata": {
      "needs_background": "light"
     },
     "output_type": "display_data"
    }
   ],
   "source": [
    "# Wearing surface - ITEM 108\n",
    "sns.countplot(total18_fil['SURFACE_TYPE_108A'])"
   ]
  },
  {
   "cell_type": "code",
   "execution_count": 100,
   "metadata": {},
   "outputs": [
    {
     "name": "stderr",
     "output_type": "stream",
     "text": [
      "/home/dsc/anaconda3/lib/python3.7/site-packages/ipykernel_launcher.py:4: SettingWithCopyWarning: \n",
      "A value is trying to be set on a copy of a slice from a DataFrame.\n",
      "Try using .loc[row_indexer,col_indexer] = value instead\n",
      "\n",
      "See the caveats in the documentation: http://pandas.pydata.org/pandas-docs/stable/indexing.html#indexing-view-versus-copy\n",
      "  after removing the cwd from sys.path.\n"
     ]
    }
   ],
   "source": [
    "code_ws = {1:'concrete',2:'concrete',3:'concrete',4:'concrete',\n",
    "          6:'bituminous', 0:'none'}\n",
    "\n",
    "total18_fil['SURFACE_TYPE_108A'] = total18_fil['SURFACE_TYPE_108A'].map(code_ws)"
   ]
  },
  {
   "cell_type": "code",
   "execution_count": 101,
   "metadata": {},
   "outputs": [
    {
     "data": {
      "text/plain": [
       "<matplotlib.axes._subplots.AxesSubplot at 0x7f60f4ce1780>"
      ]
     },
     "execution_count": 101,
     "metadata": {},
     "output_type": "execute_result"
    },
    {
     "data": {
      "image/png": "[encoded data removed]",
      "text/plain": [
       "<Figure size 432x288 with 1 Axes>"
      ]
     },
     "metadata": {
      "needs_background": "light"
     },
     "output_type": "display_data"
    }
   ],
   "source": [
    "# Design Load - ITEM 31\n",
    "sns.countplot(total18_fil['DESIGN_LOAD_031'])"
   ]
  },
  {
   "cell_type": "code",
   "execution_count": 102,
   "metadata": {},
   "outputs": [
    {
     "name": "stderr",
     "output_type": "stream",
     "text": [
      "/home/dsc/anaconda3/lib/python3.7/site-packages/ipykernel_launcher.py:5: SettingWithCopyWarning: \n",
      "A value is trying to be set on a copy of a slice from a DataFrame.\n",
      "Try using .loc[row_indexer,col_indexer] = value instead\n",
      "\n",
      "See the caveats in the documentation: http://pandas.pydata.org/pandas-docs/stable/indexing.html#indexing-view-versus-copy\n",
      "  \"\"\"\n"
     ]
    }
   ],
   "source": [
    "code_truck = {0:'other',7:'other',8:'other',\n",
    "              1:'light',2:'light',3:'light',4:'light',\n",
    "              5:'heavy',6:'heavy',9:'heavy'}\n",
    "\n",
    "total18_fil['DESIGN_LOAD_031'] = total18_fil['DESIGN_LOAD_031'].map(code_truck)"
   ]
  },
  {
   "cell_type": "code",
   "execution_count": 103,
   "metadata": {},
   "outputs": [
    {
     "name": "stderr",
     "output_type": "stream",
     "text": [
      "/home/dsc/anaconda3/lib/python3.7/site-packages/ipykernel_launcher.py:3: SettingWithCopyWarning: \n",
      "A value is trying to be set on a copy of a slice from a DataFrame.\n",
      "Try using .loc[row_indexer,col_indexer] = value instead\n",
      "\n",
      "See the caveats in the documentation: http://pandas.pydata.org/pandas-docs/stable/indexing.html#indexing-view-versus-copy\n",
      "  This is separate from the ipykernel package so we can avoid doing imports until\n",
      "/home/dsc/anaconda3/lib/python3.7/site-packages/pandas/core/generic.py:5434: SettingWithCopyWarning: \n",
      "A value is trying to be set on a copy of a slice from a DataFrame\n",
      "\n",
      "See the caveats in the documentation: http://pandas.pydata.org/pandas-docs/stable/indexing.html#indexing-view-versus-copy\n",
      "  self._update_inplace(new_data)\n"
     ]
    }
   ],
   "source": [
    "# Maintenanace Responsability - ITEM 21\n",
    "code_resp = {1:'stateHA',2:'countyHA',3:'town_cityHA',4:'town_cityHA',31:'tollA',32:'tollA'}\n",
    "total18_fil['MAINTENANCE_021'] = total18_fil['MAINTENANCE_021'].map(code_resp)\n",
    "total18_fil['MAINTENANCE_021'].fillna('otherA', inplace = True)"
   ]
  },
  {
   "cell_type": "code",
   "execution_count": 104,
   "metadata": {},
   "outputs": [
    {
     "name": "stderr",
     "output_type": "stream",
     "text": [
      "/home/dsc/anaconda3/lib/python3.7/site-packages/ipykernel_launcher.py:4: SettingWithCopyWarning: \n",
      "A value is trying to be set on a copy of a slice from a DataFrame.\n",
      "Try using .loc[row_indexer,col_indexer] = value instead\n",
      "\n",
      "See the caveats in the documentation: http://pandas.pydata.org/pandas-docs/stable/indexing.html#indexing-view-versus-copy\n",
      "  after removing the cwd from sys.path.\n"
     ]
    }
   ],
   "source": [
    "# Functional Classification - ITEM 26\n",
    "code_class = {1:'rural',2:'rural',6:'rural',7:'rural',8:'rural',9:'rural',\n",
    "              11:'urban',12:'urban',14:'urban',16:'urban',17:'urban',19:'urban'}\n",
    "total18_fil['FUNCTIONAL_CLASS_026'] = total18_fil['FUNCTIONAL_CLASS_026'].map(code_class)"
   ]
  },
  {
   "cell_type": "code",
   "execution_count": 106,
   "metadata": {},
   "outputs": [
    {
     "name": "stderr",
     "output_type": "stream",
     "text": [
      "/home/dsc/anaconda3/lib/python3.7/site-packages/ipykernel_launcher.py:6: SettingWithCopyWarning: \n",
      "A value is trying to be set on a copy of a slice from a DataFrame.\n",
      "Try using .loc[row_indexer,col_indexer] = value instead\n",
      "\n",
      "See the caveats in the documentation: http://pandas.pydata.org/pandas-docs/stable/indexing.html#indexing-view-versus-copy\n",
      "  \n"
     ]
    }
   ],
   "source": [
    "# Waterway - ITEM 71\n",
    "code_water = {9:'low',8:'low',\n",
    "              7:'high',6:'high',5:'high',4:'high',3:'high',2:'high',\n",
    "              np.nan:'none'}\n",
    "\n",
    "total18_fil['WATERWAY_EVAL_071'] = total18_fil['WATERWAY_EVAL_071'].map(code_water)"
   ]
  },
  {
   "cell_type": "code",
   "execution_count": 107,
   "metadata": {},
   "outputs": [
    {
     "name": "stderr",
     "output_type": "stream",
     "text": [
      "/home/dsc/anaconda3/lib/python3.7/site-packages/ipykernel_launcher.py:5: SettingWithCopyWarning: \n",
      "A value is trying to be set on a copy of a slice from a DataFrame.\n",
      "Try using .loc[row_indexer,col_indexer] = value instead\n",
      "\n",
      "See the caveats in the documentation: http://pandas.pydata.org/pandas-docs/stable/indexing.html#indexing-view-versus-copy\n",
      "  \"\"\"\n"
     ]
    }
   ],
   "source": [
    "# We will also change the Year reconstructed column with a pair of values:\n",
    "# 1 if reconstruction has been necessary and 0 if not\n",
    "\n",
    "total18_fil['RECONSTRUCTED'] = total18_fil.apply(lambda row: 1 if row['YEAR_RECONSTRUCTED_106']>0\n",
    "                                                else 0, axis = 1)"
   ]
  },
  {
   "cell_type": "code",
   "execution_count": null,
   "metadata": {},
   "outputs": [],
   "source": []
  },
  {
   "cell_type": "code",
   "execution_count": 108,
   "metadata": {},
   "outputs": [
    {
     "name": "stderr",
     "output_type": "stream",
     "text": [
      "/home/dsc/anaconda3/lib/python3.7/site-packages/ipykernel_launcher.py:2: SettingWithCopyWarning: \n",
      "A value is trying to be set on a copy of a slice from a DataFrame\n",
      "\n",
      "See the caveats in the documentation: http://pandas.pydata.org/pandas-docs/stable/indexing.html#indexing-view-versus-copy\n",
      "  \n"
     ]
    }
   ],
   "source": [
    "# Drop null values\n",
    "total18_fil.dropna(inplace = True)"
   ]
  },
  {
   "cell_type": "code",
   "execution_count": 109,
   "metadata": {
    "scrolled": true
   },
   "outputs": [
    {
     "data": {
      "text/plain": [
       "(175596, 24)"
      ]
     },
     "execution_count": 109,
     "metadata": {},
     "output_type": "execute_result"
    }
   ],
   "source": [
    "total18_fil.shape"
   ]
  },
  {
   "cell_type": "code",
   "execution_count": null,
   "metadata": {},
   "outputs": [],
   "source": []
  },
  {
   "cell_type": "code",
   "execution_count": 110,
   "metadata": {},
   "outputs": [
    {
     "name": "stderr",
     "output_type": "stream",
     "text": [
      "/home/dsc/anaconda3/lib/python3.7/site-packages/ipykernel_launcher.py:13: SettingWithCopyWarning: \n",
      "A value is trying to be set on a copy of a slice from a DataFrame.\n",
      "Try using .loc[row_indexer,col_indexer] = value instead\n",
      "\n",
      "See the caveats in the documentation: http://pandas.pydata.org/pandas-docs/stable/indexing.html#indexing-view-versus-copy\n",
      "  del sys.path[0]\n",
      "/home/dsc/anaconda3/lib/python3.7/site-packages/ipykernel_launcher.py:14: SettingWithCopyWarning: \n",
      "A value is trying to be set on a copy of a slice from a DataFrame.\n",
      "Try using .loc[row_indexer,col_indexer] = value instead\n",
      "\n",
      "See the caveats in the documentation: http://pandas.pydata.org/pandas-docs/stable/indexing.html#indexing-view-versus-copy\n",
      "  \n",
      "/home/dsc/anaconda3/lib/python3.7/site-packages/ipykernel_launcher.py:17: SettingWithCopyWarning: \n",
      "A value is trying to be set on a copy of a slice from a DataFrame.\n",
      "Try using .loc[row_indexer,col_indexer] = value instead\n",
      "\n",
      "See the caveats in the documentation: http://pandas.pydata.org/pandas-docs/stable/indexing.html#indexing-view-versus-copy\n",
      "/home/dsc/anaconda3/lib/python3.7/site-packages/ipykernel_launcher.py:18: SettingWithCopyWarning: \n",
      "A value is trying to be set on a copy of a slice from a DataFrame.\n",
      "Try using .loc[row_indexer,col_indexer] = value instead\n",
      "\n",
      "See the caveats in the documentation: http://pandas.pydata.org/pandas-docs/stable/indexing.html#indexing-view-versus-copy\n"
     ]
    }
   ],
   "source": [
    "# Convert the latitude and longitude dimensions to decimal degrees \n",
    "\n",
    "def conv_decdeg(num):\n",
    "    a = pd.to_numeric(str(num)[:-6])\n",
    "    b = pd.to_numeric((str(num)[-6:-4]))/60\n",
    "    c = pd.to_numeric(str(num)[-4:])/(100*3600)\n",
    "    val = (a+b+c)/100\n",
    "    return val\n",
    "\n",
    "def get_new_l(df,func):\n",
    "    \n",
    "    # Transform values to integers\n",
    "    df['LONG_017'] = pd.to_numeric(df['LONG_017'],downcast = 'signed')\n",
    "    df['LAT_016'] = pd.to_numeric(df['LAT_016'],downcast = 'signed')\n",
    "\n",
    "    # Apply function to get values in decimal degrees\n",
    "    df['LONGITUDE'] = -df['LONG_017'].apply(func)\n",
    "    df['LATITUDE'] = df['LAT_016'].apply(func)\n",
    "    \n",
    "get_new_l(total18_fil,conv_decdeg)"
   ]
  },
  {
   "cell_type": "code",
   "execution_count": 111,
   "metadata": {},
   "outputs": [],
   "source": [
    "# Drop coordinates outside the USA\n",
    "\n",
    "total18_fil = total18_fil[total18_fil['LONGITUDE'].between(-175,-64)]\n",
    "total18_fil = total18_fil[total18_fil['LATITUDE'].between(16,56)]"
   ]
  },
  {
   "cell_type": "code",
   "execution_count": 112,
   "metadata": {},
   "outputs": [],
   "source": [
    "# Drop former longitude and latitude columns\n",
    "\n",
    "total18_fil.drop(['LAT_016', 'LONG_017'], axis=1, inplace = True)"
   ]
  },
  {
   "cell_type": "code",
   "execution_count": 113,
   "metadata": {},
   "outputs": [
    {
     "data": {
      "text/plain": [
       "<matplotlib.axes._subplots.AxesSubplot at 0x7f60f5581fd0>"
      ]
     },
     "execution_count": 113,
     "metadata": {},
     "output_type": "execute_result"
    },
    {
     "data": {
      "image/png": "[encoded data removed]",
      "text/plain": [
       "<Figure size 1080x576 with 1 Axes>"
      ]
     },
     "metadata": {
      "needs_background": "light"
     },
     "output_type": "display_data"
    }
   ],
   "source": [
    "plt.figure(figsize=(15,8))\n",
    "sns.scatterplot(x='LONGITUDE', y='LATITUDE',data = total18_fil, hue='STATE_CODE_001',palette = 'rainbow_r')"
   ]
  },
  {
   "cell_type": "markdown",
   "metadata": {},
   "source": [
    "The scatter plot of longitude and latitude looks like a United States map, including the islands like Hawaii and Puerto Rico, and also several points in Alaska."
   ]
  },
  {
   "cell_type": "code",
   "execution_count": null,
   "metadata": {},
   "outputs": [],
   "source": []
  },
  {
   "cell_type": "code",
   "execution_count": 114,
   "metadata": {},
   "outputs": [
    {
     "name": "stdout",
     "output_type": "stream",
     "text": [
      "The values of STRUCTURE_KIND_043A column are: ['steel' 'concrete']\n",
      "The values of SURFACE_TYPE_108A column are: ['bituminous' 'concrete' 'none']\n",
      "The values of DESIGN_LOAD_031 column are: ['heavy' 'other' 'light']\n",
      "The values of MAINTENANCE_021 column are: ['otherA' 'town_cityHA' 'countyHA' 'stateHA' 'tollA']\n",
      "The values of FUNCTIONAL_CLASS_026 column are: ['urban' 'rural']\n",
      "The values of WATERWAY_EVAL_071 column are: ['none' 'high' 'low']\n",
      "The values of DECK_COND_058 column are: [6. 4. 7. 8. 5. 3. 9. 2. 0. 1.]\n",
      "The values of SUPERSTRUCTURE_COND_059 column are: [7. 4. 6. 5. 3. 2. 8. 9. 0. 1.]\n",
      "The values of SUBSTRUCTURE_COND_060 column are: [7. 4. 5. 6. 2. 3. 8. 9. 1. 0.]\n"
     ]
    }
   ],
   "source": [
    "categorical_cols = [\n",
    " 'STRUCTURE_KIND_043A',\n",
    " 'SURFACE_TYPE_108A',\n",
    " 'DESIGN_LOAD_031',\n",
    " 'MAINTENANCE_021',\n",
    " 'FUNCTIONAL_CLASS_026',\n",
    " 'WATERWAY_EVAL_071',\n",
    " 'DECK_COND_058',\n",
    " 'SUPERSTRUCTURE_COND_059',\n",
    " 'SUBSTRUCTURE_COND_060']\n",
    "\n",
    "for col in categorical_cols:\n",
    "    values = total18_fil[col].unique()\n",
    "    print(\"The values of %s column are: %s\" %(col, values))"
   ]
  },
  {
   "cell_type": "code",
   "execution_count": null,
   "metadata": {},
   "outputs": [],
   "source": []
  },
  {
   "cell_type": "code",
   "execution_count": 115,
   "metadata": {},
   "outputs": [
    {
     "data": {
      "text/plain": [
       "False    167720\n",
       "True       7543\n",
       "Name: STRUCTURE_NUMBER_008, dtype: int64"
      ]
     },
     "execution_count": 115,
     "metadata": {},
     "output_type": "execute_result"
    }
   ],
   "source": [
    "# Since we are looking for joining all the datasets with this one by using the Structure number, we should first check that there are no duplicates on it\n",
    "\n",
    "total18_fil['STRUCTURE_NUMBER_008'].duplicated().value_counts()"
   ]
  },
  {
   "cell_type": "code",
   "execution_count": 120,
   "metadata": {},
   "outputs": [
    {
     "name": "stderr",
     "output_type": "stream",
     "text": [
      "/home/dsc/anaconda3/lib/python3.7/site-packages/ipykernel_launcher.py:2: SettingWithCopyWarning: \n",
      "A value is trying to be set on a copy of a slice from a DataFrame.\n",
      "Try using .loc[row_indexer,col_indexer] = value instead\n",
      "\n",
      "See the caveats in the documentation: http://pandas.pydata.org/pandas-docs/stable/indexing.html#indexing-view-versus-copy\n",
      "  \n"
     ]
    },
    {
     "data": {
      "text/plain": [
       "VIRGINIA          2127\n",
       "PENNSYLVANIA      1742\n",
       "SOUTH CAROLINA    1274\n",
       "MISSOURI           772\n",
       "IOWA               419\n",
       "MICHIGAN           407\n",
       "NORTH CAROLINA     251\n",
       "RHODE ISLAND       152\n",
       "INDIANA            125\n",
       "NEW MEXICO         120\n",
       "ARKANSAS            57\n",
       "ARIZONA             22\n",
       "IDAHO               14\n",
       "OHIO                12\n",
       "NEW YORK            10\n",
       "KANSAS               6\n",
       "MAINE                4\n",
       "OKLAHOMA             4\n",
       "NEW JERSEY           3\n",
       "SOUTH DAKOTA         2\n",
       "PUERTO RICO          2\n",
       "TEXAS                1\n",
       "Name: STATE_NAME, dtype: int64"
      ]
     },
     "execution_count": 120,
     "metadata": {},
     "output_type": "execute_result"
    }
   ],
   "source": [
    "dupl_rows = total18_fil[total18_fil.duplicated(['STRUCTURE_NUMBER_008'])]\n",
    "dupl_rows['STATE_NAME'] =  dupl_rows['STATE_CODE_001'].map(state_name)\n",
    "dupl_rows['STATE_NAME'].value_counts()"
   ]
  },
  {
   "cell_type": "code",
   "execution_count": 126,
   "metadata": {},
   "outputs": [
    {
     "data": {
      "text/plain": [
       "Series([], Name: STRUCTURE_NUMBER_008, dtype: float64)"
      ]
     },
     "execution_count": 126,
     "metadata": {},
     "output_type": "execute_result"
    }
   ],
   "source": [
    "(100*dupl_rows.groupby('STATE_CODE_001').count()/total18_fil.groupby('STATE_CODE_001').count()).dropna()['STRUCTURE_NUMBER_008'].sort_values(ascending = False)"
   ]
  },
  {
   "cell_type": "markdown",
   "metadata": {},
   "source": [
    "In South Carolina almost half of the bridges were duplicated (48%). We are also loosing a big part of the data in Pennsylvania and Rhode Island."
   ]
  },
  {
   "cell_type": "code",
   "execution_count": 122,
   "metadata": {},
   "outputs": [
    {
     "data": {
      "text/plain": [
       "count    0.0\n",
       "mean     NaN\n",
       "std      NaN\n",
       "min      NaN\n",
       "25%      NaN\n",
       "50%      NaN\n",
       "75%      NaN\n",
       "max      NaN\n",
       "Name: STRUCTURE_NUMBER_008, dtype: float64"
      ]
     },
     "execution_count": 122,
     "metadata": {},
     "output_type": "execute_result"
    }
   ],
   "source": [
    "# Before dropping all the duplicated values, let's calculate the percentage of data lost\n",
    "\n",
    "(100*dupl_rows.groupby('STATE_CODE_001').count()/total18_fil.groupby('STATE_CODE_001').count()).dropna()['STRUCTURE_NUMBER_008'].describe()"
   ]
  },
  {
   "cell_type": "markdown",
   "metadata": {},
   "source": [
    "However, the median of loss is less than 2% of the bridges, so will drop the duplicated values."
   ]
  },
  {
   "cell_type": "code",
   "execution_count": 130,
   "metadata": {},
   "outputs": [],
   "source": [
    "# Drop duplicates\n",
    "\n",
    "total18_fil.drop_duplicates(subset='STRUCTURE_NUMBER_008', inplace = True)"
   ]
  },
  {
   "cell_type": "code",
   "execution_count": 133,
   "metadata": {},
   "outputs": [
    {
     "name": "stdout",
     "output_type": "stream",
     "text": [
      "The number of bridges left are 167720\n"
     ]
    }
   ],
   "source": [
    "print('The number of bridges left are %d' %total18_fil.shape[0])"
   ]
  },
  {
   "cell_type": "code",
   "execution_count": null,
   "metadata": {},
   "outputs": [],
   "source": []
  },
  {
   "cell_type": "markdown",
   "metadata": {},
   "source": [
    "The United States are divided into 8 different climate zones and 3 moisture categories. The climate region definitions are based on heating degree days, average temperatures, and precipitation and divide the US map as follows according to energy.gov website: \n",
    "\n",
    "<img src = './Determining Climate Regions by County .png'>"
   ]
  },
  {
   "cell_type": "markdown",
   "metadata": {},
   "source": [
    "We will focus in analysing one type of climate of the USA. For this project purpose, we will take Zones 5 and 6 with Moist type A, also called Cold regions. \n",
    "\n",
    "With this filter we will be evaluating the following states (from left to right on the green and blue regions): Nebraska (31), Iowa (19), Ohio (39), Pennsylvania (42), New York (36), Vermont (50) and New Hampshire (33). \n",
    "\n",
    "We will drop Illinois, Michigan and Indiana from the list since only half of their territory is in this climate zone."
   ]
  },
  {
   "cell_type": "code",
   "execution_count": 139,
   "metadata": {
    "scrolled": true
   },
   "outputs": [
    {
     "name": "stdout",
     "output_type": "stream",
     "text": [
      "By filtering the data by climate region, the number of bridges left are 33137\n"
     ]
    }
   ],
   "source": [
    "total18_clim = total18_fil[total18_fil['STATE_CODE_001'].isin([31,19,39,42,36,50,33])]\n",
    "print('By filtering the data by climate region, the number of bridges left are %d' %total18_clim.shape[0])"
   ]
  },
  {
   "cell_type": "code",
   "execution_count": 140,
   "metadata": {
    "scrolled": true
   },
   "outputs": [
    {
     "data": {
      "text/plain": [
       "<matplotlib.axes._subplots.AxesSubplot at 0x7f60e76426d8>"
      ]
     },
     "execution_count": 140,
     "metadata": {},
     "output_type": "execute_result"
    },
    {
     "data": {
      "image/png": "[encoded data removed]",
      "text/plain": [
       "<Figure size 1080x576 with 1 Axes>"
      ]
     },
     "metadata": {
      "needs_background": "light"
     },
     "output_type": "display_data"
    }
   ],
   "source": [
    "plt.figure(figsize=(15,8))\n",
    "sns.scatterplot(x='LONGITUDE', y='LATITUDE',data = total18_fil)\n",
    "sns.scatterplot(x='LONGITUDE', y='LATITUDE',data = total18_clim)"
   ]
  },
  {
   "cell_type": "markdown",
   "metadata": {},
   "source": [
    "The orange region represents the states we will be working on."
   ]
  },
  {
   "cell_type": "code",
   "execution_count": null,
   "metadata": {},
   "outputs": [],
   "source": []
  },
  {
   "cell_type": "markdown",
   "metadata": {},
   "source": [
    "### Save to csv\n"
   ]
  },
  {
   "cell_type": "code",
   "execution_count": null,
   "metadata": {},
   "outputs": [],
   "source": []
  },
  {
   "cell_type": "code",
   "execution_count": 141,
   "metadata": {},
   "outputs": [],
   "source": [
    "total18_clim.to_csv (r'./total18_clim.csv', index = None, header=True)"
   ]
  }
 ],
 "metadata": {
  "kernelspec": {
   "display_name": "Python 3",
   "language": "python",
   "name": "python3"
  },
  "language_info": {
   "codemirror_mode": {
    "name": "ipython",
    "version": 3
   },
   "file_extension": ".py",
   "mimetype": "text/x-python",
   "name": "python",
   "nbconvert_exporter": "python",
   "pygments_lexer": "ipython3",
   "version": "3.7.1"
  }
 },
 "nbformat": 4,
 "nbformat_minor": 2
}
