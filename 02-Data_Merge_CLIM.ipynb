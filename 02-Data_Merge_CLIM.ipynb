{
 "cells": [
  {
   "cell_type": "markdown",
   "metadata": {},
   "source": [
    "# Part 2. Dataframe preparation"
   ]
  },
  {
   "cell_type": "markdown",
   "metadata": {},
   "source": [
    "Once we have downloaded all the datasets we will be using in our project, the first thing we should do is preparing the dataframe we will be working on.\n",
    "\n",
    "The main goal of this notebook is to download the bridge datasets for the years previous to 2018, prepare the data using new features and merge this new input data into the 2018's dataset we have created in the previous dataset."
   ]
  },
  {
   "cell_type": "code",
   "execution_count": 1,
   "metadata": {},
   "outputs": [],
   "source": [
    "# Importing modules\n",
    "import pandas as pd\n",
    "import numpy as np\n",
    "import matplotlib.pyplot as plt"
   ]
  },
  {
   "cell_type": "code",
   "execution_count": 2,
   "metadata": {},
   "outputs": [],
   "source": [
    "pd.set_option('display.max_columns',None)"
   ]
  },
  {
   "cell_type": "markdown",
   "metadata": {},
   "source": [
    "Our goal is to predict the deterioration rate of the bridges. However, in the States, bridges are given 3 different grades at each inspection: deck condition, superstructure condition and substructure condition.\n",
    "\n",
    "We will have to combine all those grades into a unique feature that will represent the overall deterioration of the bridge. \n",
    "\n",
    "Therefore, the criteria chose to determine this Total Rate is:\n",
    "\n",
    "    - If any of the ratings is below 4 (poor conditions or worst), then the Total Rate will take this value to make sure it reflects a need for rehabilitation.\n",
    "    \n",
    "    - On the other hand, if all the ratings show that the bridge is in excellent or very good condition (values of 8 or 9), then the Total Rate will the arithmetic mean of the three values.\n",
    "    \n",
    "    - If none of the above conditions is met, then the Total Rating will be a weighted mean of the three values. The lowest rating will be weighted with 0.50 to focus on the need for a inspection, then the higher will be weighted with 0.20 and the middle value will be weighted with 0.30."
   ]
  },
  {
   "cell_type": "code",
   "execution_count": 3,
   "metadata": {},
   "outputs": [],
   "source": [
    "rating_cols = ['STATE_CODE_001','STRUCTURE_NUMBER_008','DECK_COND_058','SUPERSTRUCTURE_COND_059','SUBSTRUCTURE_COND_060'] "
   ]
  },
  {
   "cell_type": "code",
   "execution_count": 4,
   "metadata": {},
   "outputs": [],
   "source": [
    "# Function for new variable: Total Rating (TR)\n",
    "\n",
    "def TotalRating(row):\n",
    "    dr = row['DECK_COND_058']\n",
    "    supr = row['SUPERSTRUCTURE_COND_059']\n",
    "    subr = row['SUBSTRUCTURE_COND_060']\n",
    "    minval = min(dr, supr, subr)\n",
    "    maxval = max(dr, supr, subr)\n",
    "   \n",
    "    if minval <= 4:\n",
    "        rating = minval\n",
    "        \n",
    "    elif minval >= 8:\n",
    "        rating = (dr+supr+subr)/3\n",
    "        \n",
    "    else:\n",
    "        medval = dr+subr+supr-minval-maxval\n",
    "        rating = 0.5*minval+0.2*maxval+0.3*medval\n",
    "\n",
    "    return rating\n"
   ]
  },
  {
   "cell_type": "code",
   "execution_count": null,
   "metadata": {},
   "outputs": [],
   "source": []
  },
  {
   "cell_type": "code",
   "execution_count": 5,
   "metadata": {},
   "outputs": [],
   "source": [
    "filenames = []\n",
    "for year in range(2000,2018):\n",
    "    year = str(year)\n",
    "    path = \"./data/\"+year+\"hwybronlyonefile.zip\"\n",
    "    filenames.append(path)"
   ]
  },
  {
   "cell_type": "code",
   "execution_count": 6,
   "metadata": {},
   "outputs": [
    {
     "data": {
      "text/plain": [
       "['./data/2000hwybronlyonefile.zip',\n",
       " './data/2001hwybronlyonefile.zip',\n",
       " './data/2002hwybronlyonefile.zip',\n",
       " './data/2003hwybronlyonefile.zip',\n",
       " './data/2004hwybronlyonefile.zip',\n",
       " './data/2005hwybronlyonefile.zip',\n",
       " './data/2006hwybronlyonefile.zip',\n",
       " './data/2007hwybronlyonefile.zip',\n",
       " './data/2008hwybronlyonefile.zip',\n",
       " './data/2009hwybronlyonefile.zip',\n",
       " './data/2010hwybronlyonefile.zip',\n",
       " './data/2011hwybronlyonefile.zip',\n",
       " './data/2012hwybronlyonefile.zip',\n",
       " './data/2013hwybronlyonefile.zip',\n",
       " './data/2014hwybronlyonefile.zip',\n",
       " './data/2015hwybronlyonefile.zip',\n",
       " './data/2016hwybronlyonefile.zip',\n",
       " './data/2017hwybronlyonefile.zip']"
      ]
     },
     "execution_count": 6,
     "metadata": {},
     "output_type": "execute_result"
    }
   ],
   "source": [
    "filenames"
   ]
  },
  {
   "cell_type": "code",
   "execution_count": 7,
   "metadata": {},
   "outputs": [],
   "source": [
    "def createTR (filename,colname):\n",
    "        \n",
    "    # Create dataframes\n",
    "    df = pd.read_csv(filename, compression = 'zip',sep = ',',encoding='latin-1',usecols = rating_cols)\n",
    "    \n",
    "    # Remove 'N'\n",
    "    df = df[(df['DECK_COND_058']!='N') & (df['SUPERSTRUCTURE_COND_059']!='N') & (df['SUBSTRUCTURE_COND_060']!='N') ]\n",
    "    \n",
    "    # To numeric\n",
    "    df['DECK_COND_058'] = pd.to_numeric(df['DECK_COND_058'])\n",
    "    df['SUPERSTRUCTURE_COND_059'] = pd.to_numeric(df['SUPERSTRUCTURE_COND_059'])\n",
    "    df['SUBSTRUCTURE_COND_060'] = pd.to_numeric(df['SUBSTRUCTURE_COND_060'])\n",
    "    \n",
    "    # Remove nulls\n",
    "    df.dropna(inplace=True)\n",
    "    \n",
    "    # Creamos la columna con el Total Rating para cada año\n",
    "    df[colname] = df.apply(lambda row: TotalRating(row),axis=1)\n",
    "    \n",
    "    return df\n",
    "    "
   ]
  },
  {
   "cell_type": "code",
   "execution_count": 19,
   "metadata": {},
   "outputs": [
    {
     "name": "stderr",
     "output_type": "stream",
     "text": [
      "/home/dsc/anaconda3/lib/python3.7/site-packages/IPython/core/interactiveshell.py:3185: DtypeWarning: Columns (1) have mixed types. Specify dtype option on import or set low_memory=False.\n",
      "  if (yield from self.run_code(code, result)):\n"
     ]
    }
   ],
   "source": [
    "df17 = createTR('./data/2017hwybronlyonefile.zip','TR17')"
   ]
  },
  {
   "cell_type": "code",
   "execution_count": 20,
   "metadata": {},
   "outputs": [],
   "source": [
    "df17.to_csv (r'./df17.csv', index = None, header=True)"
   ]
  },
  {
   "cell_type": "code",
   "execution_count": 21,
   "metadata": {},
   "outputs": [],
   "source": [
    "df16 = createTR('./data/2016hwybronlyonefile.zip','TR16')"
   ]
  },
  {
   "cell_type": "code",
   "execution_count": 22,
   "metadata": {},
   "outputs": [],
   "source": [
    "df16.to_csv (r'./df16.csv', index = None, header=True)"
   ]
  },
  {
   "cell_type": "code",
   "execution_count": 23,
   "metadata": {},
   "outputs": [],
   "source": [
    "df15 = createTR('./data/2015hwybronlyonefile.zip','TR15')\n",
    "df15.to_csv (r'./df15.csv', index = None, header=True)"
   ]
  },
  {
   "cell_type": "code",
   "execution_count": 24,
   "metadata": {},
   "outputs": [],
   "source": [
    "df14 = createTR('./data/2014hwybronlyonefile.zip','TR14')\n",
    "df14.to_csv (r'./df14.csv', index = None, header=True)"
   ]
  },
  {
   "cell_type": "code",
   "execution_count": 25,
   "metadata": {},
   "outputs": [],
   "source": [
    "df13 = createTR('./data/2013hwybronlyonefile.zip','TR13')\n",
    "df13.to_csv (r'./df13.csv', index = None, header=True)"
   ]
  },
  {
   "cell_type": "code",
   "execution_count": 26,
   "metadata": {},
   "outputs": [],
   "source": [
    "df12 = createTR('./data/2012hwybronlyonefile.zip','TR12')\n",
    "df12.to_csv (r'./df12.csv', index = None, header=True)"
   ]
  },
  {
   "cell_type": "code",
   "execution_count": 27,
   "metadata": {},
   "outputs": [],
   "source": [
    "df11 = createTR('./data/2011hwybronlyonefile.zip','TR11')\n",
    "df11.to_csv (r'./df11.csv', index = None, header=True)"
   ]
  },
  {
   "cell_type": "code",
   "execution_count": 28,
   "metadata": {},
   "outputs": [],
   "source": [
    "df10 = createTR('./data/2010hwybronlyonefile.zip','TR10')\n",
    "df10.to_csv (r'./df10.csv', index = None, header=True)"
   ]
  },
  {
   "cell_type": "code",
   "execution_count": 59,
   "metadata": {},
   "outputs": [
    {
     "name": "stderr",
     "output_type": "stream",
     "text": [
      "/home/dsc/anaconda3/lib/python3.7/site-packages/IPython/core/interactiveshell.py:3185: DtypeWarning: Columns (1,66,67,68) have mixed types. Specify dtype option on import or set low_memory=False.\n",
      "  if (yield from self.run_code(code, result)):\n"
     ]
    }
   ],
   "source": [
    "df09 = createTR('./data/2009hwybronlyonefile.zip','TR09')\n",
    "df09.to_csv (r'./df09.csv', index = None, header=True)"
   ]
  },
  {
   "cell_type": "code",
   "execution_count": 60,
   "metadata": {},
   "outputs": [],
   "source": [
    "df08 = createTR('./data/2008hwybronlyonefile.zip','TR08')\n",
    "df08.to_csv (r'./df08.csv', index = None, header=True)"
   ]
  },
  {
   "cell_type": "code",
   "execution_count": 81,
   "metadata": {
    "collapsed": true
   },
   "outputs": [
    {
     "name": "stderr",
     "output_type": "stream",
     "text": [
      "/home/dsc/anaconda3/lib/python3.7/site-packages/IPython/core/interactiveshell.py:3185: DtypeWarning: Columns (1,66,67,68) have mixed types. Specify dtype option on import or set low_memory=False.\n",
      "  if (yield from self.run_code(code, result)):\n"
     ]
    },
    {
     "ename": "NameError",
     "evalue": "name 'df07to_csv' is not defined",
     "output_type": "error",
     "traceback": [
      "\u001b[0;31m---------------------------------------------------------------------------\u001b[0m",
      "\u001b[0;31mNameError\u001b[0m                                 Traceback (most recent call last)",
      "\u001b[0;32m<ipython-input-81-f49ea7f3e497>\u001b[0m in \u001b[0;36m<module>\u001b[0;34m\u001b[0m\n\u001b[1;32m      1\u001b[0m \u001b[0mdf07\u001b[0m \u001b[0;34m=\u001b[0m \u001b[0mcreateTR\u001b[0m\u001b[0;34m(\u001b[0m\u001b[0;34m'./data/2007hwybronlyonefile.zip'\u001b[0m\u001b[0;34m,\u001b[0m\u001b[0;34m'TR07'\u001b[0m\u001b[0;34m)\u001b[0m\u001b[0;34m\u001b[0m\u001b[0;34m\u001b[0m\u001b[0m\n\u001b[0;32m----> 2\u001b[0;31m \u001b[0mdf07to_csv\u001b[0m \u001b[0;34m(\u001b[0m\u001b[0;34mr'./df07.csv'\u001b[0m\u001b[0;34m,\u001b[0m \u001b[0mindex\u001b[0m \u001b[0;34m=\u001b[0m \u001b[0;32mNone\u001b[0m\u001b[0;34m,\u001b[0m \u001b[0mheader\u001b[0m\u001b[0;34m=\u001b[0m\u001b[0;32mTrue\u001b[0m\u001b[0;34m)\u001b[0m\u001b[0;34m\u001b[0m\u001b[0;34m\u001b[0m\u001b[0m\n\u001b[0m",
      "\u001b[0;31mNameError\u001b[0m: name 'df07to_csv' is not defined"
     ]
    }
   ],
   "source": [
    "df07 = createTR('./data/2007hwybronlyonefile.zip','TR07')\n",
    "df07.to_csv (r'./df07.csv', index = None, header=True)"
   ]
  },
  {
   "cell_type": "code",
   "execution_count": 83,
   "metadata": {},
   "outputs": [],
   "source": [
    "df06 = createTR('./data/2006hwybronlyonefile.zip','TR06')\n",
    "df06.to_csv (r'./df06.csv', index = None, header=True)"
   ]
  },
  {
   "cell_type": "code",
   "execution_count": 84,
   "metadata": {},
   "outputs": [],
   "source": [
    "df05 = createTR('./data/2005hwybronlyonefile.zip','TR05')\n",
    "df05.to_csv (r'./df05.csv', index = None, header=True)"
   ]
  },
  {
   "cell_type": "code",
   "execution_count": 85,
   "metadata": {},
   "outputs": [],
   "source": [
    "df04 = createTR('./data/2004hwybronlyonefile.zip','TR04')\n",
    "df04.to_csv (r'./df04.csv', index = None, header=True)"
   ]
  },
  {
   "cell_type": "code",
   "execution_count": 86,
   "metadata": {},
   "outputs": [],
   "source": [
    "df03 = createTR('./data/2003hwybronlyonefile.zip','TR03')\n",
    "df03.to_csv (r'./df03.csv', index = None, header=True)"
   ]
  },
  {
   "cell_type": "code",
   "execution_count": 87,
   "metadata": {},
   "outputs": [],
   "source": [
    "df02 = createTR('./data/2002hwybronlyonefile.zip','TR02')\n",
    "df02.to_csv (r'./df02.csv', index = None, header=True)"
   ]
  },
  {
   "cell_type": "code",
   "execution_count": 88,
   "metadata": {},
   "outputs": [],
   "source": [
    "df01 = createTR('./data/2001hwybronlyonefile.zip','TR01')\n",
    "df01.to_csv (r'./df01.csv', index = None, header=True)"
   ]
  },
  {
   "cell_type": "code",
   "execution_count": 89,
   "metadata": {},
   "outputs": [],
   "source": [
    "df00 = createTR('./data/2000hwybronlyonefile.zip','TR00')\n",
    "df00.to_csv (r'./df00.csv', index = None, header=True)"
   ]
  },
  {
   "cell_type": "markdown",
   "metadata": {},
   "source": [
    "18 csv files have been created with partial information of the NBI dataset of each year from 2000 to 2017.\n",
    "\n",
    "If the reader is going thru this notebook again, the csv files he/she created on a previous time just need to be read again on this notebook (no need to create them twice)"
   ]
  },
  {
   "cell_type": "markdown",
   "metadata": {},
   "source": [
    "### Download csv files from here"
   ]
  },
  {
   "cell_type": "code",
   "execution_count": 8,
   "metadata": {},
   "outputs": [],
   "source": [
    "df17 = pd.read_csv('df17.csv')\n",
    "df16 = pd.read_csv('df16.csv')\n",
    "df15 = pd.read_csv('df15.csv')\n",
    "df14 = pd.read_csv('df14.csv')\n",
    "df13 = pd.read_csv('df13.csv')\n",
    "df12 = pd.read_csv('df12.csv')\n",
    "df11 = pd.read_csv('df11.csv')\n",
    "df10 = pd.read_csv('df10.csv')\n",
    "df09 = pd.read_csv('df09.csv')\n",
    "df08 = pd.read_csv('df08.csv')\n",
    "df07 = pd.read_csv('df07.csv')\n",
    "df06 = pd.read_csv('df06.csv')\n",
    "df05 = pd.read_csv('df05.csv')\n",
    "df04 = pd.read_csv('df04.csv')\n",
    "df03 = pd.read_csv('df03.csv')\n",
    "df02 = pd.read_csv('df02.csv')\n",
    "df01 = pd.read_csv('df01.csv')\n",
    "df00 = pd.read_csv('df00.csv')\n"
   ]
  },
  {
   "cell_type": "code",
   "execution_count": 9,
   "metadata": {},
   "outputs": [],
   "source": [
    "# Import the dataset from 2018 that we will use to join all those new datasets\n",
    "\n",
    "total18_clim = pd.read_csv('total18_clim.csv')"
   ]
  },
  {
   "cell_type": "code",
   "execution_count": 10,
   "metadata": {},
   "outputs": [],
   "source": [
    "df18 = total18_clim\n",
    "df18['TR18'] = df18.apply(lambda row: TotalRating(row),axis=1)"
   ]
  },
  {
   "cell_type": "code",
   "execution_count": 11,
   "metadata": {
    "scrolled": true
   },
   "outputs": [
    {
     "name": "stdout",
     "output_type": "stream",
     "text": [
      "The dataset from 2018 has 33137 bridges\n"
     ]
    }
   ],
   "source": [
    "print('The dataset from 2018 has %d bridges' %df18.shape[0])"
   ]
  },
  {
   "cell_type": "code",
   "execution_count": 12,
   "metadata": {},
   "outputs": [],
   "source": [
    "df_list = [df18,df17,df16,df15,df14,df13,df12,df11,df10,df09,df08,df07,df06,df05,df04,df03,df02,df01,df00] \n",
    "\n",
    "for df in df_list:\n",
    "    df.drop(['DECK_COND_058','SUPERSTRUCTURE_COND_059','SUBSTRUCTURE_COND_060'], axis=1, inplace = True)"
   ]
  },
  {
   "cell_type": "code",
   "execution_count": 13,
   "metadata": {},
   "outputs": [],
   "source": [
    "df_all = df18\n",
    "\n",
    "for df in df_list[1:]:\n",
    "    df_all = pd.merge(df_all, df, how='left', on=['STATE_CODE_001','STRUCTURE_NUMBER_008'])"
   ]
  },
  {
   "cell_type": "code",
   "execution_count": 14,
   "metadata": {},
   "outputs": [
    {
     "name": "stdout",
     "output_type": "stream",
     "text": [
      "After merging the dataset from previous years we have added 18 columns\n"
     ]
    }
   ],
   "source": [
    "print('After merging the dataset from previous years we have added %d columns' %(df_all.shape[1]-df18.shape[1]))"
   ]
  },
  {
   "cell_type": "code",
   "execution_count": 15,
   "metadata": {},
   "outputs": [
    {
     "data": {
      "text/plain": [
       "['TR00',\n",
       " 'TR01',\n",
       " 'TR02',\n",
       " 'TR03',\n",
       " 'TR04',\n",
       " 'TR05',\n",
       " 'TR06',\n",
       " 'TR07',\n",
       " 'TR08',\n",
       " 'TR09',\n",
       " 'TR10',\n",
       " 'TR11',\n",
       " 'TR12',\n",
       " 'TR13',\n",
       " 'TR14',\n",
       " 'TR15',\n",
       " 'TR16',\n",
       " 'TR17',\n",
       " 'TR18']"
      ]
     },
     "execution_count": 15,
     "metadata": {},
     "output_type": "execute_result"
    }
   ],
   "source": [
    "years_rated = len(df_list)\n",
    "tr_cols = list(df_all.columns)[-years_rated:][::-1]\n",
    "tr_cols"
   ]
  },
  {
   "cell_type": "code",
   "execution_count": 16,
   "metadata": {},
   "outputs": [],
   "source": [
    "# Drop all the rows where half of the ratings are missing\n",
    "\n",
    "df_all.dropna(subset= tr_cols, thresh=(years_rated // 2 + 1), inplace=True)"
   ]
  },
  {
   "cell_type": "code",
   "execution_count": 17,
   "metadata": {},
   "outputs": [
    {
     "data": {
      "text/plain": [
       "False    24933\n",
       "True      2522\n",
       "Name: TR00, dtype: int64"
      ]
     },
     "execution_count": 17,
     "metadata": {},
     "output_type": "execute_result"
    }
   ],
   "source": [
    "# For the missing values in the rating columns that are left, we will equal them to the rating of the previous year\n",
    "# Therefore, we should have all the rating from the first year we are considering\n",
    "# Let's see how many of them are missing\n",
    "\n",
    "df_all[tr_cols[0]].isna().value_counts()"
   ]
  },
  {
   "cell_type": "code",
   "execution_count": 18,
   "metadata": {},
   "outputs": [],
   "source": [
    "# We have to drop those missing values from 2000's dataset\n",
    "\n",
    "df_all.dropna(subset = [tr_cols[0]], inplace= True)"
   ]
  },
  {
   "cell_type": "code",
   "execution_count": 19,
   "metadata": {},
   "outputs": [],
   "source": [
    "# We replace the null values of the other columns with the rating value obtained in the dataset of the previous year\n",
    "\n",
    "for n in range(len(tr_cols)-1):\n",
    "    df_all[tr_cols[n+1]] = df_all.apply(lambda row: \n",
    "                                        row[tr_cols[n]] if np.isnan(row[tr_cols[n+1]]) else row[tr_cols[n+1]],\n",
    "                                        axis=1)\n",
    "    "
   ]
  },
  {
   "cell_type": "code",
   "execution_count": 20,
   "metadata": {
    "scrolled": false
   },
   "outputs": [
    {
     "data": {
      "text/html": [
       "<div>\n",
       "<style scoped>\n",
       "    .dataframe tbody tr th:only-of-type {\n",
       "        vertical-align: middle;\n",
       "    }\n",
       "\n",
       "    .dataframe tbody tr th {\n",
       "        vertical-align: top;\n",
       "    }\n",
       "\n",
       "    .dataframe thead th {\n",
       "        text-align: right;\n",
       "    }\n",
       "</style>\n",
       "<table border=\"1\" class=\"dataframe\">\n",
       "  <thead>\n",
       "    <tr style=\"text-align: right;\">\n",
       "      <th></th>\n",
       "      <th>STATE_CODE_001</th>\n",
       "      <th>STRUCTURE_NUMBER_008</th>\n",
       "      <th>TRAFFIC_LANES_ON_028A</th>\n",
       "      <th>DEGREES_SKEW_034</th>\n",
       "      <th>STRUCTURE_KIND_043A</th>\n",
       "      <th>MAIN_UNIT_SPANS_045</th>\n",
       "      <th>MAX_SPAN_LEN_MT_048</th>\n",
       "      <th>STRUCTURE_LEN_MT_049</th>\n",
       "      <th>DECK_WIDTH_MT_052</th>\n",
       "      <th>SURFACE_TYPE_108A</th>\n",
       "      <th>YEAR_BUILT_027</th>\n",
       "      <th>YEAR_RECONSTRUCTED_106</th>\n",
       "      <th>AGE</th>\n",
       "      <th>DESIGN_LOAD_031</th>\n",
       "      <th>TRUCK_ADT</th>\n",
       "      <th>MAINTENANCE_021</th>\n",
       "      <th>FUNCTIONAL_CLASS_026</th>\n",
       "      <th>WATERWAY_EVAL_071</th>\n",
       "      <th>RECONSTRUCTED</th>\n",
       "      <th>LONGITUDE</th>\n",
       "      <th>LATITUDE</th>\n",
       "      <th>TR18</th>\n",
       "      <th>TR17</th>\n",
       "      <th>TR16</th>\n",
       "      <th>TR15</th>\n",
       "      <th>TR14</th>\n",
       "      <th>TR13</th>\n",
       "      <th>TR12</th>\n",
       "      <th>TR11</th>\n",
       "      <th>TR10</th>\n",
       "      <th>TR09</th>\n",
       "      <th>TR08</th>\n",
       "      <th>TR07</th>\n",
       "      <th>TR06</th>\n",
       "      <th>TR05</th>\n",
       "      <th>TR04</th>\n",
       "      <th>TR03</th>\n",
       "      <th>TR02</th>\n",
       "      <th>TR01</th>\n",
       "      <th>TR00</th>\n",
       "    </tr>\n",
       "  </thead>\n",
       "  <tbody>\n",
       "    <tr>\n",
       "      <th>27298</th>\n",
       "      <td>39</td>\n",
       "      <td>7903960</td>\n",
       "      <td>2</td>\n",
       "      <td>8</td>\n",
       "      <td>steel</td>\n",
       "      <td>3</td>\n",
       "      <td>27.7</td>\n",
       "      <td>72.7</td>\n",
       "      <td>13.1</td>\n",
       "      <td>concrete</td>\n",
       "      <td>1968.0</td>\n",
       "      <td>1998.0</td>\n",
       "      <td>51.0</td>\n",
       "      <td>heavy</td>\n",
       "      <td>1991.88</td>\n",
       "      <td>stateHA</td>\n",
       "      <td>rural</td>\n",
       "      <td>low</td>\n",
       "      <td>1</td>\n",
       "      <td>-81.263001</td>\n",
       "      <td>40.397502</td>\n",
       "      <td>7.000000</td>\n",
       "      <td>7.000000</td>\n",
       "      <td>7.000000</td>\n",
       "      <td>7.000000</td>\n",
       "      <td>6.500000</td>\n",
       "      <td>6.500000</td>\n",
       "      <td>6.500000</td>\n",
       "      <td>6.200000</td>\n",
       "      <td>6.500000</td>\n",
       "      <td>6.700000</td>\n",
       "      <td>6.700000</td>\n",
       "      <td>7.200000</td>\n",
       "      <td>7.500000</td>\n",
       "      <td>7.500000</td>\n",
       "      <td>7.500000</td>\n",
       "      <td>7.5</td>\n",
       "      <td>7.5</td>\n",
       "      <td>7.5</td>\n",
       "      <td>8.0</td>\n",
       "    </tr>\n",
       "    <tr>\n",
       "      <th>20747</th>\n",
       "      <td>39</td>\n",
       "      <td>0401137</td>\n",
       "      <td>2</td>\n",
       "      <td>0</td>\n",
       "      <td>steel</td>\n",
       "      <td>2</td>\n",
       "      <td>29.0</td>\n",
       "      <td>59.4</td>\n",
       "      <td>11.6</td>\n",
       "      <td>bituminous</td>\n",
       "      <td>1978.0</td>\n",
       "      <td>0.0</td>\n",
       "      <td>41.0</td>\n",
       "      <td>heavy</td>\n",
       "      <td>20.79</td>\n",
       "      <td>stateHA</td>\n",
       "      <td>rural</td>\n",
       "      <td>none</td>\n",
       "      <td>0</td>\n",
       "      <td>-80.427834</td>\n",
       "      <td>41.408169</td>\n",
       "      <td>6.500000</td>\n",
       "      <td>6.200000</td>\n",
       "      <td>6.200000</td>\n",
       "      <td>6.200000</td>\n",
       "      <td>6.700000</td>\n",
       "      <td>6.700000</td>\n",
       "      <td>6.700000</td>\n",
       "      <td>6.700000</td>\n",
       "      <td>6.200000</td>\n",
       "      <td>6.200000</td>\n",
       "      <td>6.200000</td>\n",
       "      <td>6.200000</td>\n",
       "      <td>7.200000</td>\n",
       "      <td>7.200000</td>\n",
       "      <td>7.200000</td>\n",
       "      <td>7.2</td>\n",
       "      <td>7.2</td>\n",
       "      <td>7.2</td>\n",
       "      <td>7.2</td>\n",
       "    </tr>\n",
       "    <tr>\n",
       "      <th>21892</th>\n",
       "      <td>39</td>\n",
       "      <td>1812971</td>\n",
       "      <td>2</td>\n",
       "      <td>21</td>\n",
       "      <td>steel</td>\n",
       "      <td>2</td>\n",
       "      <td>39.0</td>\n",
       "      <td>79.6</td>\n",
       "      <td>11.7</td>\n",
       "      <td>concrete</td>\n",
       "      <td>1985.0</td>\n",
       "      <td>0.0</td>\n",
       "      <td>34.0</td>\n",
       "      <td>heavy</td>\n",
       "      <td>0.00</td>\n",
       "      <td>stateHA</td>\n",
       "      <td>urban</td>\n",
       "      <td>none</td>\n",
       "      <td>0</td>\n",
       "      <td>-81.450503</td>\n",
       "      <td>41.254501</td>\n",
       "      <td>5.700000</td>\n",
       "      <td>5.700000</td>\n",
       "      <td>6.200000</td>\n",
       "      <td>6.500000</td>\n",
       "      <td>6.200000</td>\n",
       "      <td>6.200000</td>\n",
       "      <td>6.000000</td>\n",
       "      <td>6.200000</td>\n",
       "      <td>6.200000</td>\n",
       "      <td>6.200000</td>\n",
       "      <td>6.200000</td>\n",
       "      <td>6.500000</td>\n",
       "      <td>6.500000</td>\n",
       "      <td>6.500000</td>\n",
       "      <td>7.000000</td>\n",
       "      <td>6.5</td>\n",
       "      <td>6.5</td>\n",
       "      <td>6.2</td>\n",
       "      <td>6.2</td>\n",
       "    </tr>\n",
       "    <tr>\n",
       "      <th>14051</th>\n",
       "      <td>36</td>\n",
       "      <td>000000001034519</td>\n",
       "      <td>9</td>\n",
       "      <td>42</td>\n",
       "      <td>steel</td>\n",
       "      <td>1</td>\n",
       "      <td>39.6</td>\n",
       "      <td>41.5</td>\n",
       "      <td>39.3</td>\n",
       "      <td>concrete</td>\n",
       "      <td>1968.0</td>\n",
       "      <td>1987.0</td>\n",
       "      <td>51.0</td>\n",
       "      <td>heavy</td>\n",
       "      <td>9441.68</td>\n",
       "      <td>stateHA</td>\n",
       "      <td>urban</td>\n",
       "      <td>none</td>\n",
       "      <td>1</td>\n",
       "      <td>-73.478836</td>\n",
       "      <td>42.412334</td>\n",
       "      <td>6.000000</td>\n",
       "      <td>6.200000</td>\n",
       "      <td>6.200000</td>\n",
       "      <td>6.200000</td>\n",
       "      <td>6.200000</td>\n",
       "      <td>6.200000</td>\n",
       "      <td>6.200000</td>\n",
       "      <td>6.700000</td>\n",
       "      <td>6.700000</td>\n",
       "      <td>7.000000</td>\n",
       "      <td>7.000000</td>\n",
       "      <td>6.900000</td>\n",
       "      <td>6.900000</td>\n",
       "      <td>6.000000</td>\n",
       "      <td>6.000000</td>\n",
       "      <td>6.0</td>\n",
       "      <td>6.0</td>\n",
       "      <td>6.5</td>\n",
       "      <td>6.5</td>\n",
       "    </tr>\n",
       "    <tr>\n",
       "      <th>2859</th>\n",
       "      <td>19</td>\n",
       "      <td>164370</td>\n",
       "      <td>2</td>\n",
       "      <td>0</td>\n",
       "      <td>steel</td>\n",
       "      <td>1</td>\n",
       "      <td>12.8</td>\n",
       "      <td>13.4</td>\n",
       "      <td>9.1</td>\n",
       "      <td>concrete</td>\n",
       "      <td>1965.0</td>\n",
       "      <td>0.0</td>\n",
       "      <td>54.0</td>\n",
       "      <td>light</td>\n",
       "      <td>83.70</td>\n",
       "      <td>countyHA</td>\n",
       "      <td>rural</td>\n",
       "      <td>high</td>\n",
       "      <td>0</td>\n",
       "      <td>-92.472502</td>\n",
       "      <td>42.207335</td>\n",
       "      <td>3.000000</td>\n",
       "      <td>3.000000</td>\n",
       "      <td>4.000000</td>\n",
       "      <td>4.000000</td>\n",
       "      <td>4.000000</td>\n",
       "      <td>4.000000</td>\n",
       "      <td>4.000000</td>\n",
       "      <td>4.000000</td>\n",
       "      <td>4.000000</td>\n",
       "      <td>4.000000</td>\n",
       "      <td>5.200000</td>\n",
       "      <td>5.200000</td>\n",
       "      <td>5.200000</td>\n",
       "      <td>5.200000</td>\n",
       "      <td>5.200000</td>\n",
       "      <td>5.2</td>\n",
       "      <td>5.5</td>\n",
       "      <td>5.5</td>\n",
       "      <td>5.5</td>\n",
       "    </tr>\n",
       "    <tr>\n",
       "      <th>23949</th>\n",
       "      <td>39</td>\n",
       "      <td>4030311</td>\n",
       "      <td>2</td>\n",
       "      <td>15</td>\n",
       "      <td>steel</td>\n",
       "      <td>1</td>\n",
       "      <td>9.4</td>\n",
       "      <td>11.0</td>\n",
       "      <td>6.1</td>\n",
       "      <td>bituminous</td>\n",
       "      <td>1941.0</td>\n",
       "      <td>0.0</td>\n",
       "      <td>78.0</td>\n",
       "      <td>light</td>\n",
       "      <td>18.26</td>\n",
       "      <td>countyHA</td>\n",
       "      <td>rural</td>\n",
       "      <td>low</td>\n",
       "      <td>0</td>\n",
       "      <td>-82.319335</td>\n",
       "      <td>38.576169</td>\n",
       "      <td>6.000000</td>\n",
       "      <td>6.000000</td>\n",
       "      <td>6.000000</td>\n",
       "      <td>6.000000</td>\n",
       "      <td>6.000000</td>\n",
       "      <td>6.200000</td>\n",
       "      <td>6.200000</td>\n",
       "      <td>6.200000</td>\n",
       "      <td>6.200000</td>\n",
       "      <td>6.200000</td>\n",
       "      <td>6.200000</td>\n",
       "      <td>6.700000</td>\n",
       "      <td>6.700000</td>\n",
       "      <td>6.700000</td>\n",
       "      <td>5.500000</td>\n",
       "      <td>5.5</td>\n",
       "      <td>5.5</td>\n",
       "      <td>5.5</td>\n",
       "      <td>5.5</td>\n",
       "    </tr>\n",
       "    <tr>\n",
       "      <th>10331</th>\n",
       "      <td>31</td>\n",
       "      <td>C009110310</td>\n",
       "      <td>2</td>\n",
       "      <td>0</td>\n",
       "      <td>steel</td>\n",
       "      <td>1</td>\n",
       "      <td>9.4</td>\n",
       "      <td>9.4</td>\n",
       "      <td>7.9</td>\n",
       "      <td>concrete</td>\n",
       "      <td>1986.0</td>\n",
       "      <td>0.0</td>\n",
       "      <td>33.0</td>\n",
       "      <td>heavy</td>\n",
       "      <td>0.00</td>\n",
       "      <td>countyHA</td>\n",
       "      <td>rural</td>\n",
       "      <td>low</td>\n",
       "      <td>0</td>\n",
       "      <td>-98.424000</td>\n",
       "      <td>40.057000</td>\n",
       "      <td>7.000000</td>\n",
       "      <td>7.000000</td>\n",
       "      <td>7.000000</td>\n",
       "      <td>7.000000</td>\n",
       "      <td>7.000000</td>\n",
       "      <td>7.000000</td>\n",
       "      <td>7.000000</td>\n",
       "      <td>7.000000</td>\n",
       "      <td>7.000000</td>\n",
       "      <td>6.000000</td>\n",
       "      <td>6.000000</td>\n",
       "      <td>7.000000</td>\n",
       "      <td>7.000000</td>\n",
       "      <td>6.000000</td>\n",
       "      <td>6.000000</td>\n",
       "      <td>6.0</td>\n",
       "      <td>6.0</td>\n",
       "      <td>6.0</td>\n",
       "      <td>6.0</td>\n",
       "    </tr>\n",
       "    <tr>\n",
       "      <th>13762</th>\n",
       "      <td>36</td>\n",
       "      <td>000000001029050</td>\n",
       "      <td>2</td>\n",
       "      <td>12</td>\n",
       "      <td>steel</td>\n",
       "      <td>5</td>\n",
       "      <td>18.0</td>\n",
       "      <td>80.8</td>\n",
       "      <td>10.7</td>\n",
       "      <td>bituminous</td>\n",
       "      <td>1958.0</td>\n",
       "      <td>0.0</td>\n",
       "      <td>61.0</td>\n",
       "      <td>heavy</td>\n",
       "      <td>40.20</td>\n",
       "      <td>tollA</td>\n",
       "      <td>rural</td>\n",
       "      <td>none</td>\n",
       "      <td>0</td>\n",
       "      <td>-73.354834</td>\n",
       "      <td>42.277003</td>\n",
       "      <td>5.700000</td>\n",
       "      <td>5.700000</td>\n",
       "      <td>5.700000</td>\n",
       "      <td>5.700000</td>\n",
       "      <td>5.700000</td>\n",
       "      <td>5.700000</td>\n",
       "      <td>5.700000</td>\n",
       "      <td>5.700000</td>\n",
       "      <td>5.700000</td>\n",
       "      <td>5.700000</td>\n",
       "      <td>5.700000</td>\n",
       "      <td>5.700000</td>\n",
       "      <td>5.700000</td>\n",
       "      <td>5.700000</td>\n",
       "      <td>5.700000</td>\n",
       "      <td>6.0</td>\n",
       "      <td>6.0</td>\n",
       "      <td>5.7</td>\n",
       "      <td>5.7</td>\n",
       "    </tr>\n",
       "    <tr>\n",
       "      <th>1548</th>\n",
       "      <td>19</td>\n",
       "      <td>60261</td>\n",
       "      <td>2</td>\n",
       "      <td>15</td>\n",
       "      <td>concrete</td>\n",
       "      <td>3</td>\n",
       "      <td>24.4</td>\n",
       "      <td>75.0</td>\n",
       "      <td>8.3</td>\n",
       "      <td>concrete</td>\n",
       "      <td>1992.0</td>\n",
       "      <td>0.0</td>\n",
       "      <td>27.0</td>\n",
       "      <td>heavy</td>\n",
       "      <td>0.00</td>\n",
       "      <td>countyHA</td>\n",
       "      <td>rural</td>\n",
       "      <td>low</td>\n",
       "      <td>0</td>\n",
       "      <td>-94.546168</td>\n",
       "      <td>41.007334</td>\n",
       "      <td>6.400000</td>\n",
       "      <td>6.400000</td>\n",
       "      <td>6.700000</td>\n",
       "      <td>6.700000</td>\n",
       "      <td>6.700000</td>\n",
       "      <td>6.700000</td>\n",
       "      <td>6.700000</td>\n",
       "      <td>6.700000</td>\n",
       "      <td>6.700000</td>\n",
       "      <td>6.700000</td>\n",
       "      <td>6.700000</td>\n",
       "      <td>6.700000</td>\n",
       "      <td>6.700000</td>\n",
       "      <td>6.700000</td>\n",
       "      <td>6.700000</td>\n",
       "      <td>6.7</td>\n",
       "      <td>6.7</td>\n",
       "      <td>6.7</td>\n",
       "      <td>6.7</td>\n",
       "    </tr>\n",
       "    <tr>\n",
       "      <th>23539</th>\n",
       "      <td>39</td>\n",
       "      <td>3348660</td>\n",
       "      <td>2</td>\n",
       "      <td>0</td>\n",
       "      <td>steel</td>\n",
       "      <td>1</td>\n",
       "      <td>10.7</td>\n",
       "      <td>11.6</td>\n",
       "      <td>7.3</td>\n",
       "      <td>bituminous</td>\n",
       "      <td>1987.0</td>\n",
       "      <td>2003.0</td>\n",
       "      <td>32.0</td>\n",
       "      <td>heavy</td>\n",
       "      <td>10.64</td>\n",
       "      <td>countyHA</td>\n",
       "      <td>rural</td>\n",
       "      <td>low</td>\n",
       "      <td>1</td>\n",
       "      <td>-83.400834</td>\n",
       "      <td>40.346501</td>\n",
       "      <td>8.666667</td>\n",
       "      <td>8.666667</td>\n",
       "      <td>8.666667</td>\n",
       "      <td>8.666667</td>\n",
       "      <td>8.666667</td>\n",
       "      <td>8.666667</td>\n",
       "      <td>8.666667</td>\n",
       "      <td>8.666667</td>\n",
       "      <td>8.666667</td>\n",
       "      <td>8.666667</td>\n",
       "      <td>8.666667</td>\n",
       "      <td>8.666667</td>\n",
       "      <td>8.666667</td>\n",
       "      <td>8.666667</td>\n",
       "      <td>8.666667</td>\n",
       "      <td>4.0</td>\n",
       "      <td>4.0</td>\n",
       "      <td>4.0</td>\n",
       "      <td>6.5</td>\n",
       "    </tr>\n",
       "  </tbody>\n",
       "</table>\n",
       "</div>"
      ],
      "text/plain": [
       "       STATE_CODE_001 STRUCTURE_NUMBER_008  TRAFFIC_LANES_ON_028A  \\\n",
       "27298              39              7903960                      2   \n",
       "20747              39              0401137                      2   \n",
       "21892              39              1812971                      2   \n",
       "14051              36      000000001034519                      9   \n",
       "2859               19               164370                      2   \n",
       "23949              39              4030311                      2   \n",
       "10331              31      C009110310                           2   \n",
       "13762              36      000000001029050                      2   \n",
       "1548               19                60261                      2   \n",
       "23539              39              3348660                      2   \n",
       "\n",
       "       DEGREES_SKEW_034 STRUCTURE_KIND_043A  MAIN_UNIT_SPANS_045  \\\n",
       "27298                 8               steel                    3   \n",
       "20747                 0               steel                    2   \n",
       "21892                21               steel                    2   \n",
       "14051                42               steel                    1   \n",
       "2859                  0               steel                    1   \n",
       "23949                15               steel                    1   \n",
       "10331                 0               steel                    1   \n",
       "13762                12               steel                    5   \n",
       "1548                 15            concrete                    3   \n",
       "23539                 0               steel                    1   \n",
       "\n",
       "       MAX_SPAN_LEN_MT_048  STRUCTURE_LEN_MT_049  DECK_WIDTH_MT_052  \\\n",
       "27298                 27.7                  72.7               13.1   \n",
       "20747                 29.0                  59.4               11.6   \n",
       "21892                 39.0                  79.6               11.7   \n",
       "14051                 39.6                  41.5               39.3   \n",
       "2859                  12.8                  13.4                9.1   \n",
       "23949                  9.4                  11.0                6.1   \n",
       "10331                  9.4                   9.4                7.9   \n",
       "13762                 18.0                  80.8               10.7   \n",
       "1548                  24.4                  75.0                8.3   \n",
       "23539                 10.7                  11.6                7.3   \n",
       "\n",
       "      SURFACE_TYPE_108A  YEAR_BUILT_027  YEAR_RECONSTRUCTED_106   AGE  \\\n",
       "27298          concrete          1968.0                  1998.0  51.0   \n",
       "20747        bituminous          1978.0                     0.0  41.0   \n",
       "21892          concrete          1985.0                     0.0  34.0   \n",
       "14051          concrete          1968.0                  1987.0  51.0   \n",
       "2859           concrete          1965.0                     0.0  54.0   \n",
       "23949        bituminous          1941.0                     0.0  78.0   \n",
       "10331          concrete          1986.0                     0.0  33.0   \n",
       "13762        bituminous          1958.0                     0.0  61.0   \n",
       "1548           concrete          1992.0                     0.0  27.0   \n",
       "23539        bituminous          1987.0                  2003.0  32.0   \n",
       "\n",
       "      DESIGN_LOAD_031  TRUCK_ADT MAINTENANCE_021 FUNCTIONAL_CLASS_026  \\\n",
       "27298           heavy    1991.88         stateHA                rural   \n",
       "20747           heavy      20.79         stateHA                rural   \n",
       "21892           heavy       0.00         stateHA                urban   \n",
       "14051           heavy    9441.68         stateHA                urban   \n",
       "2859            light      83.70        countyHA                rural   \n",
       "23949           light      18.26        countyHA                rural   \n",
       "10331           heavy       0.00        countyHA                rural   \n",
       "13762           heavy      40.20           tollA                rural   \n",
       "1548            heavy       0.00        countyHA                rural   \n",
       "23539           heavy      10.64        countyHA                rural   \n",
       "\n",
       "      WATERWAY_EVAL_071  RECONSTRUCTED  LONGITUDE   LATITUDE      TR18  \\\n",
       "27298               low              1 -81.263001  40.397502  7.000000   \n",
       "20747              none              0 -80.427834  41.408169  6.500000   \n",
       "21892              none              0 -81.450503  41.254501  5.700000   \n",
       "14051              none              1 -73.478836  42.412334  6.000000   \n",
       "2859               high              0 -92.472502  42.207335  3.000000   \n",
       "23949               low              0 -82.319335  38.576169  6.000000   \n",
       "10331               low              0 -98.424000  40.057000  7.000000   \n",
       "13762              none              0 -73.354834  42.277003  5.700000   \n",
       "1548                low              0 -94.546168  41.007334  6.400000   \n",
       "23539               low              1 -83.400834  40.346501  8.666667   \n",
       "\n",
       "           TR17      TR16      TR15      TR14      TR13      TR12      TR11  \\\n",
       "27298  7.000000  7.000000  7.000000  6.500000  6.500000  6.500000  6.200000   \n",
       "20747  6.200000  6.200000  6.200000  6.700000  6.700000  6.700000  6.700000   \n",
       "21892  5.700000  6.200000  6.500000  6.200000  6.200000  6.000000  6.200000   \n",
       "14051  6.200000  6.200000  6.200000  6.200000  6.200000  6.200000  6.700000   \n",
       "2859   3.000000  4.000000  4.000000  4.000000  4.000000  4.000000  4.000000   \n",
       "23949  6.000000  6.000000  6.000000  6.000000  6.200000  6.200000  6.200000   \n",
       "10331  7.000000  7.000000  7.000000  7.000000  7.000000  7.000000  7.000000   \n",
       "13762  5.700000  5.700000  5.700000  5.700000  5.700000  5.700000  5.700000   \n",
       "1548   6.400000  6.700000  6.700000  6.700000  6.700000  6.700000  6.700000   \n",
       "23539  8.666667  8.666667  8.666667  8.666667  8.666667  8.666667  8.666667   \n",
       "\n",
       "           TR10      TR09      TR08      TR07      TR06      TR05      TR04  \\\n",
       "27298  6.500000  6.700000  6.700000  7.200000  7.500000  7.500000  7.500000   \n",
       "20747  6.200000  6.200000  6.200000  6.200000  7.200000  7.200000  7.200000   \n",
       "21892  6.200000  6.200000  6.200000  6.500000  6.500000  6.500000  7.000000   \n",
       "14051  6.700000  7.000000  7.000000  6.900000  6.900000  6.000000  6.000000   \n",
       "2859   4.000000  4.000000  5.200000  5.200000  5.200000  5.200000  5.200000   \n",
       "23949  6.200000  6.200000  6.200000  6.700000  6.700000  6.700000  5.500000   \n",
       "10331  7.000000  6.000000  6.000000  7.000000  7.000000  6.000000  6.000000   \n",
       "13762  5.700000  5.700000  5.700000  5.700000  5.700000  5.700000  5.700000   \n",
       "1548   6.700000  6.700000  6.700000  6.700000  6.700000  6.700000  6.700000   \n",
       "23539  8.666667  8.666667  8.666667  8.666667  8.666667  8.666667  8.666667   \n",
       "\n",
       "       TR03  TR02  TR01  TR00  \n",
       "27298   7.5   7.5   7.5   8.0  \n",
       "20747   7.2   7.2   7.2   7.2  \n",
       "21892   6.5   6.5   6.2   6.2  \n",
       "14051   6.0   6.0   6.5   6.5  \n",
       "2859    5.2   5.5   5.5   5.5  \n",
       "23949   5.5   5.5   5.5   5.5  \n",
       "10331   6.0   6.0   6.0   6.0  \n",
       "13762   6.0   6.0   5.7   5.7  \n",
       "1548    6.7   6.7   6.7   6.7  \n",
       "23539   4.0   4.0   4.0   6.5  "
      ]
     },
     "execution_count": 20,
     "metadata": {},
     "output_type": "execute_result"
    }
   ],
   "source": [
    "df_all.sample(10)\n",
    "\n",
    "# Scroll to the right end of the dataframe"
   ]
  },
  {
   "cell_type": "code",
   "execution_count": 43,
   "metadata": {},
   "outputs": [
    {
     "data": {
      "text/plain": [
       "[<matplotlib.lines.Line2D at 0x7ff6906d8b70>]"
      ]
     },
     "execution_count": 43,
     "metadata": {},
     "output_type": "execute_result"
    },
    {
     "data": {
      "image/png": "[encoded data removed]",
      "text/plain": [
       "<Figure size 864x720 with 1 Axes>"
      ]
     },
     "metadata": {
      "needs_background": "light"
     },
     "output_type": "display_data"
    }
   ],
   "source": [
    "from random import seed\n",
    "from random import choice\n",
    "\n",
    "# We prepare a list with all the index number of the bridges we have in the dataset\n",
    "sequence = [i for i in df_all.index]\n",
    "\n",
    "# Then make choices from the sequence\n",
    "selection = choice(sequence)\n",
    "\n",
    "# Let's print the row corresponding to this index\n",
    "plt.figure(figsize = (12,10))\n",
    "plt.ylim(1,9.5)\n",
    "plt.title('Variation of Total Rating of a bridge through the years')\n",
    "plt.xlabel('Years')\n",
    "plt.ylabel('Total Rating')\n",
    "\n",
    "plt.plot(df_all.loc[selection,tr_cols])"
   ]
  },
  {
   "cell_type": "markdown",
   "metadata": {},
   "source": [
    "The evolution of the ratings of a bridge through the years can be a measure to evaluate the speed of deterioration of this bridge.\n",
    "\n",
    "We will create a new feature that will measure this deterioration rate as the differences between ratings every year. This deterioration rate can be seen as the slope between deterioration periods in the figure above. \n",
    "\n",
    "If the bridge is rehabilitated to increase its rating, the slope will be positive (going upwards) and distort the deterioration rate we are looking for. Then, when the Total Rating of a year is higher than the one in the previous year, this raise is not taken into account in final slope."
   ]
  },
  {
   "cell_type": "code",
   "execution_count": 44,
   "metadata": {},
   "outputs": [],
   "source": [
    "# Function that creates the deterioration rate, which is the mean of the differences between ratings every year\n",
    "\n",
    "def det_formula(row):\n",
    "    \n",
    "    m=0\n",
    "    cont_rehab = 0\n",
    "\n",
    "    for i in range(1,len(tr_cols)):\n",
    "        dif = row[tr_cols[i-1]]-row[tr_cols[i]]\n",
    "        \n",
    "        if dif >= 0: \n",
    "            m += dif\n",
    "            \n",
    "        else:\n",
    "            dif = 0\n",
    "            cont_rehab+=1\n",
    "            m += dif\n",
    "            \n",
    "    return m/(i-cont_rehab)"
   ]
  },
  {
   "cell_type": "code",
   "execution_count": 45,
   "metadata": {},
   "outputs": [],
   "source": [
    "df_all['DETERIORATION_RATE'] = df_all.apply(lambda row: det_formula(row), axis=1)"
   ]
  },
  {
   "cell_type": "code",
   "execution_count": 46,
   "metadata": {},
   "outputs": [
    {
     "data": {
      "text/plain": [
       "False    22518\n",
       "True      2415\n",
       "Name: DETERIORATION_RATE, dtype: int64"
      ]
     },
     "execution_count": 46,
     "metadata": {},
     "output_type": "execute_result"
    }
   ],
   "source": [
    "# A deterioration rate of 0 seems unreasonable in a 18 years gap.\n",
    "\n",
    "(df_all['DETERIORATION_RATE']==0).value_counts()"
   ]
  },
  {
   "cell_type": "code",
   "execution_count": 47,
   "metadata": {},
   "outputs": [],
   "source": [
    "# There are 2415 bridges that seem to have no deterioration in 18 years.\n",
    "# We will drop out those bridges, that might have had false input data from the inspection engineer\n",
    "\n",
    "df_all = df_all.loc[df_all['DETERIORATION_RATE'] > 0]"
   ]
  },
  {
   "cell_type": "code",
   "execution_count": 48,
   "metadata": {},
   "outputs": [
    {
     "name": "stdout",
     "output_type": "stream",
     "text": [
      "The final number of bridges we will be working with is: 22518\n"
     ]
    }
   ],
   "source": [
    "# Final dataset\n",
    "\n",
    "print('The final number of bridges we will be working with is: %d' %df_all.shape[0])"
   ]
  },
  {
   "cell_type": "code",
   "execution_count": 49,
   "metadata": {},
   "outputs": [],
   "source": [
    "# Save to csv\n",
    "\n",
    "df_all.to_csv (r'./df_all_CLIM.csv', index = None, header=True)"
   ]
  }
 ],
 "metadata": {
  "kernelspec": {
   "display_name": "Python 3",
   "language": "python",
   "name": "python3"
  },
  "language_info": {
   "codemirror_mode": {
    "name": "ipython",
    "version": 3
   },
   "file_extension": ".py",
   "mimetype": "text/x-python",
   "name": "python",
   "nbconvert_exporter": "python",
   "pygments_lexer": "ipython3",
   "version": "3.7.1"
  }
 },
 "nbformat": 4,
 "nbformat_minor": 2
}
