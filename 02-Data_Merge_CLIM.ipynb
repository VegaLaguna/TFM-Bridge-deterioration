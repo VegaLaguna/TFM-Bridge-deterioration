{
 "cells": [
  {
   "cell_type": "markdown",
   "metadata": {},
   "source": [
    "# Part 2. Dataframe preparation"
   ]
  },
  {
   "cell_type": "markdown",
   "metadata": {},
   "source": [
    "Once we have downloaded all the datasets we will be using in our project, the first thing we should do is preparing the dataframe we will be working on.\n",
    "\n",
    "The main goal of this notebook is to download the bridge datasets for the years previous to 2018, prepare the data using new features and merge this new input data into the 2018's dataset we have created in the previous dataset."
   ]
  },
  {
   "cell_type": "code",
   "execution_count": 1,
   "metadata": {},
   "outputs": [],
   "source": [
    "# Importing modules\n",
    "import pandas as pd\n",
    "import numpy as np\n",
    "import matplotlib.pyplot as plt"
   ]
  },
  {
   "cell_type": "code",
   "execution_count": 2,
   "metadata": {},
   "outputs": [],
   "source": [
    "pd.set_option('display.max_columns',None)"
   ]
  },
  {
   "cell_type": "markdown",
   "metadata": {},
   "source": [
    "Our goal is to predict the deterioration rate of the bridges. However, in the States, bridges are given 3 different grades at each inspection: deck condition, superstructure condition and substructure condition.\n",
    "\n",
    "We will have to combine all those grades into a unique feature that will represent the overall deterioration of the bridge. \n",
    "\n",
    "Therefore, the criteria chose to determine this Total Rate is:\n",
    "\n",
    "    - If any of the ratings is below 4 (poor conditions or worst), then the Total Rate will take this value to make sure it reflects a need for rehabilitation.\n",
    "    \n",
    "    - On the other hand, if all the ratings show that the bridge is in excellent or very good condition (values of 8 or 9), then the Total Rate will the arithmetic mean of the three values.\n",
    "    \n",
    "    - If none of the above conditions is met, then the Total Rating will be a weighted mean of the three values. The lowest rating will be weighted with 0.50 to focus on the need for a inspection, then the higher will be weighted with 0.20 and the middle value will be weighted with 0.30."
   ]
  },
  {
   "cell_type": "code",
   "execution_count": 3,
   "metadata": {},
   "outputs": [],
   "source": [
    "rating_cols = ['STATE_CODE_001','STRUCTURE_NUMBER_008','DECK_COND_058','SUPERSTRUCTURE_COND_059','SUBSTRUCTURE_COND_060'] "
   ]
  },
  {
   "cell_type": "code",
   "execution_count": 4,
   "metadata": {},
   "outputs": [],
   "source": [
    "# Function for new variable: Total Rating (TR)\n",
    "\n",
    "def TotalRating(row):\n",
    "    dr = row['DECK_COND_058']\n",
    "    supr = row['SUPERSTRUCTURE_COND_059']\n",
    "    subr = row['SUBSTRUCTURE_COND_060']\n",
    "    minval = min(dr, supr, subr)\n",
    "    maxval = max(dr, supr, subr)\n",
    "   \n",
    "    if minval <= 4:\n",
    "        rating = minval\n",
    "        \n",
    "    elif minval >= 8:\n",
    "        rating = (dr+supr+subr)/3\n",
    "        \n",
    "    else:\n",
    "        medval = dr+subr+supr-minval-maxval\n",
    "        rating = 0.5*minval+0.2*maxval+0.3*medval\n",
    "\n",
    "    return rating\n"
   ]
  },
  {
   "cell_type": "code",
   "execution_count": null,
   "metadata": {},
   "outputs": [],
   "source": []
  },
  {
   "cell_type": "code",
   "execution_count": 5,
   "metadata": {},
   "outputs": [],
   "source": [
    "filenames = []\n",
    "for year in range(2000,2018):\n",
    "    year = str(year)\n",
    "    path = \"./data/\"+year+\"hwybronlyonefile.zip\"\n",
    "    filenames.append(path)"
   ]
  },
  {
   "cell_type": "code",
   "execution_count": 6,
   "metadata": {},
   "outputs": [
    {
     "data": {
      "text/plain": [
       "['./data/2000hwybronlyonefile.zip',\n",
       " './data/2001hwybronlyonefile.zip',\n",
       " './data/2002hwybronlyonefile.zip',\n",
       " './data/2003hwybronlyonefile.zip',\n",
       " './data/2004hwybronlyonefile.zip',\n",
       " './data/2005hwybronlyonefile.zip',\n",
       " './data/2006hwybronlyonefile.zip',\n",
       " './data/2007hwybronlyonefile.zip',\n",
       " './data/2008hwybronlyonefile.zip',\n",
       " './data/2009hwybronlyonefile.zip',\n",
       " './data/2010hwybronlyonefile.zip',\n",
       " './data/2011hwybronlyonefile.zip',\n",
       " './data/2012hwybronlyonefile.zip',\n",
       " './data/2013hwybronlyonefile.zip',\n",
       " './data/2014hwybronlyonefile.zip',\n",
       " './data/2015hwybronlyonefile.zip',\n",
       " './data/2016hwybronlyonefile.zip',\n",
       " './data/2017hwybronlyonefile.zip']"
      ]
     },
     "execution_count": 6,
     "metadata": {},
     "output_type": "execute_result"
    }
   ],
   "source": [
    "filenames"
   ]
  },
  {
   "cell_type": "code",
   "execution_count": 7,
   "metadata": {},
   "outputs": [],
   "source": [
    "def createTR (filename,colname):\n",
    "        \n",
    "    # Create dataframes\n",
    "    df = pd.read_csv(filename, compression = 'zip',sep = ',',encoding='latin-1',usecols = rating_cols)\n",
    "    \n",
    "    # Remove 'N'\n",
    "    df = df[(df['DECK_COND_058']!='N') & (df['SUPERSTRUCTURE_COND_059']!='N') & (df['SUBSTRUCTURE_COND_060']!='N') ]\n",
    "    \n",
    "    # To numeric\n",
    "    df['DECK_COND_058'] = pd.to_numeric(df['DECK_COND_058'])\n",
    "    df['SUPERSTRUCTURE_COND_059'] = pd.to_numeric(df['SUPERSTRUCTURE_COND_059'])\n",
    "    df['SUBSTRUCTURE_COND_060'] = pd.to_numeric(df['SUBSTRUCTURE_COND_060'])\n",
    "    \n",
    "    # Remove nulls\n",
    "    df.dropna(inplace=True)\n",
    "    \n",
    "    # Creamos la columna con el Total Rating para cada año\n",
    "    df[colname] = df.apply(lambda row: TotalRating(row),axis=1)\n",
    "    \n",
    "    return df\n",
    "    "
   ]
  },
  {
   "cell_type": "code",
   "execution_count": 19,
   "metadata": {},
   "outputs": [
    {
     "name": "stderr",
     "output_type": "stream",
     "text": [
      "/home/dsc/anaconda3/lib/python3.7/site-packages/IPython/core/interactiveshell.py:3185: DtypeWarning: Columns (1) have mixed types. Specify dtype option on import or set low_memory=False.\n",
      "  if (yield from self.run_code(code, result)):\n"
     ]
    }
   ],
   "source": [
    "df17 = createTR('./data/2017hwybronlyonefile.zip','TR17')"
   ]
  },
  {
   "cell_type": "code",
   "execution_count": 20,
   "metadata": {},
   "outputs": [],
   "source": [
    "df17.to_csv (r'./df17.csv', index = None, header=True)"
   ]
  },
  {
   "cell_type": "code",
   "execution_count": 21,
   "metadata": {},
   "outputs": [],
   "source": [
    "df16 = createTR('./data/2016hwybronlyonefile.zip','TR16')"
   ]
  },
  {
   "cell_type": "code",
   "execution_count": 22,
   "metadata": {},
   "outputs": [],
   "source": [
    "df16.to_csv (r'./df16.csv', index = None, header=True)"
   ]
  },
  {
   "cell_type": "code",
   "execution_count": 23,
   "metadata": {},
   "outputs": [],
   "source": [
    "df15 = createTR('./data/2015hwybronlyonefile.zip','TR15')\n",
    "df15.to_csv (r'./df15.csv', index = None, header=True)"
   ]
  },
  {
   "cell_type": "code",
   "execution_count": 24,
   "metadata": {},
   "outputs": [],
   "source": [
    "df14 = createTR('./data/2014hwybronlyonefile.zip','TR14')\n",
    "df14.to_csv (r'./df14.csv', index = None, header=True)"
   ]
  },
  {
   "cell_type": "code",
   "execution_count": 25,
   "metadata": {},
   "outputs": [],
   "source": [
    "df13 = createTR('./data/2013hwybronlyonefile.zip','TR13')\n",
    "df13.to_csv (r'./df13.csv', index = None, header=True)"
   ]
  },
  {
   "cell_type": "code",
   "execution_count": 26,
   "metadata": {},
   "outputs": [],
   "source": [
    "df12 = createTR('./data/2012hwybronlyonefile.zip','TR12')\n",
    "df12.to_csv (r'./df12.csv', index = None, header=True)"
   ]
  },
  {
   "cell_type": "code",
   "execution_count": 27,
   "metadata": {},
   "outputs": [],
   "source": [
    "df11 = createTR('./data/2011hwybronlyonefile.zip','TR11')\n",
    "df11.to_csv (r'./df11.csv', index = None, header=True)"
   ]
  },
  {
   "cell_type": "code",
   "execution_count": 28,
   "metadata": {},
   "outputs": [],
   "source": [
    "df10 = createTR('./data/2010hwybronlyonefile.zip','TR10')\n",
    "df10.to_csv (r'./df10.csv', index = None, header=True)"
   ]
  },
  {
   "cell_type": "code",
   "execution_count": 59,
   "metadata": {},
   "outputs": [
    {
     "name": "stderr",
     "output_type": "stream",
     "text": [
      "/home/dsc/anaconda3/lib/python3.7/site-packages/IPython/core/interactiveshell.py:3185: DtypeWarning: Columns (1,66,67,68) have mixed types. Specify dtype option on import or set low_memory=False.\n",
      "  if (yield from self.run_code(code, result)):\n"
     ]
    }
   ],
   "source": [
    "df09 = createTR('./data/2009hwybronlyonefile.zip','TR09')\n",
    "df09.to_csv (r'./df09.csv', index = None, header=True)"
   ]
  },
  {
   "cell_type": "code",
   "execution_count": 60,
   "metadata": {},
   "outputs": [],
   "source": [
    "df08 = createTR('./data/2008hwybronlyonefile.zip','TR08')\n",
    "df08.to_csv (r'./df08.csv', index = None, header=True)"
   ]
  },
  {
   "cell_type": "code",
   "execution_count": 81,
   "metadata": {
    "collapsed": true
   },
   "outputs": [
    {
     "name": "stderr",
     "output_type": "stream",
     "text": [
      "/home/dsc/anaconda3/lib/python3.7/site-packages/IPython/core/interactiveshell.py:3185: DtypeWarning: Columns (1,66,67,68) have mixed types. Specify dtype option on import or set low_memory=False.\n",
      "  if (yield from self.run_code(code, result)):\n"
     ]
    },
    {
     "ename": "NameError",
     "evalue": "name 'df07to_csv' is not defined",
     "output_type": "error",
     "traceback": [
      "\u001b[0;31m---------------------------------------------------------------------------\u001b[0m",
      "\u001b[0;31mNameError\u001b[0m                                 Traceback (most recent call last)",
      "\u001b[0;32m<ipython-input-81-f49ea7f3e497>\u001b[0m in \u001b[0;36m<module>\u001b[0;34m\u001b[0m\n\u001b[1;32m      1\u001b[0m \u001b[0mdf07\u001b[0m \u001b[0;34m=\u001b[0m \u001b[0mcreateTR\u001b[0m\u001b[0;34m(\u001b[0m\u001b[0;34m'./data/2007hwybronlyonefile.zip'\u001b[0m\u001b[0;34m,\u001b[0m\u001b[0;34m'TR07'\u001b[0m\u001b[0;34m)\u001b[0m\u001b[0;34m\u001b[0m\u001b[0;34m\u001b[0m\u001b[0m\n\u001b[0;32m----> 2\u001b[0;31m \u001b[0mdf07to_csv\u001b[0m \u001b[0;34m(\u001b[0m\u001b[0;34mr'./df07.csv'\u001b[0m\u001b[0;34m,\u001b[0m \u001b[0mindex\u001b[0m \u001b[0;34m=\u001b[0m \u001b[0;32mNone\u001b[0m\u001b[0;34m,\u001b[0m \u001b[0mheader\u001b[0m\u001b[0;34m=\u001b[0m\u001b[0;32mTrue\u001b[0m\u001b[0;34m)\u001b[0m\u001b[0;34m\u001b[0m\u001b[0;34m\u001b[0m\u001b[0m\n\u001b[0m",
      "\u001b[0;31mNameError\u001b[0m: name 'df07to_csv' is not defined"
     ]
    }
   ],
   "source": [
    "df07 = createTR('./data/2007hwybronlyonefile.zip','TR07')\n",
    "df07.to_csv (r'./df07.csv', index = None, header=True)"
   ]
  },
  {
   "cell_type": "code",
   "execution_count": 83,
   "metadata": {},
   "outputs": [],
   "source": [
    "df06 = createTR('./data/2006hwybronlyonefile.zip','TR06')\n",
    "df06.to_csv (r'./df06.csv', index = None, header=True)"
   ]
  },
  {
   "cell_type": "code",
   "execution_count": 84,
   "metadata": {},
   "outputs": [],
   "source": [
    "df05 = createTR('./data/2005hwybronlyonefile.zip','TR05')\n",
    "df05.to_csv (r'./df05.csv', index = None, header=True)"
   ]
  },
  {
   "cell_type": "code",
   "execution_count": 85,
   "metadata": {},
   "outputs": [],
   "source": [
    "df04 = createTR('./data/2004hwybronlyonefile.zip','TR04')\n",
    "df04.to_csv (r'./df04.csv', index = None, header=True)"
   ]
  },
  {
   "cell_type": "code",
   "execution_count": 86,
   "metadata": {},
   "outputs": [],
   "source": [
    "df03 = createTR('./data/2003hwybronlyonefile.zip','TR03')\n",
    "df03.to_csv (r'./df03.csv', index = None, header=True)"
   ]
  },
  {
   "cell_type": "code",
   "execution_count": 87,
   "metadata": {},
   "outputs": [],
   "source": [
    "df02 = createTR('./data/2002hwybronlyonefile.zip','TR02')\n",
    "df02.to_csv (r'./df02.csv', index = None, header=True)"
   ]
  },
  {
   "cell_type": "code",
   "execution_count": 88,
   "metadata": {},
   "outputs": [],
   "source": [
    "df01 = createTR('./data/2001hwybronlyonefile.zip','TR01')\n",
    "df01.to_csv (r'./df01.csv', index = None, header=True)"
   ]
  },
  {
   "cell_type": "code",
   "execution_count": 89,
   "metadata": {},
   "outputs": [],
   "source": [
    "df00 = createTR('./data/2000hwybronlyonefile.zip','TR00')\n",
    "df00.to_csv (r'./df00.csv', index = None, header=True)"
   ]
  },
  {
   "cell_type": "markdown",
   "metadata": {},
   "source": [
    "18 csv files have been created with partial information of the NBI dataset of each year from 2000 to 2017.\n",
    "\n",
    "If the reader is going thru this notebook again, the csv files he/she created on a previous time just need to be read again on this notebook (no need to create them twice)"
   ]
  },
  {
   "cell_type": "markdown",
   "metadata": {},
   "source": [
    "### Download csv files from here"
   ]
  },
  {
   "cell_type": "code",
   "execution_count": 9,
   "metadata": {},
   "outputs": [],
   "source": [
    "df17 = pd.read_csv('df17.csv')\n",
    "df16 = pd.read_csv('df16.csv')\n",
    "df15 = pd.read_csv('df15.csv')\n",
    "df14 = pd.read_csv('df14.csv')\n",
    "df13 = pd.read_csv('df13.csv')\n",
    "df12 = pd.read_csv('df12.csv')\n",
    "df11 = pd.read_csv('df11.csv')\n",
    "df10 = pd.read_csv('df10.csv')\n",
    "df09 = pd.read_csv('df09.csv')\n",
    "df08 = pd.read_csv('df08.csv')\n",
    "df07 = pd.read_csv('df07.csv')\n",
    "df06 = pd.read_csv('df06.csv')\n",
    "df05 = pd.read_csv('df05.csv')\n",
    "df04 = pd.read_csv('df04.csv')\n",
    "df03 = pd.read_csv('df03.csv')\n",
    "df02 = pd.read_csv('df02.csv')\n",
    "df01 = pd.read_csv('df01.csv')\n",
    "df00 = pd.read_csv('df00.csv')\n"
   ]
  },
  {
   "cell_type": "code",
   "execution_count": 10,
   "metadata": {},
   "outputs": [],
   "source": [
    "# Import the dataset from 2018 that we will use to join all those new datasets\n",
    "\n",
    "total18_clim = pd.read_csv('total18_clim.csv')"
   ]
  },
  {
   "cell_type": "code",
   "execution_count": 11,
   "metadata": {},
   "outputs": [],
   "source": [
    "df18 = total18_clim\n",
    "df18['TR18'] = df18.apply(lambda row: TotalRating(row),axis=1)"
   ]
  },
  {
   "cell_type": "code",
   "execution_count": 12,
   "metadata": {
    "scrolled": true
   },
   "outputs": [
    {
     "name": "stdout",
     "output_type": "stream",
     "text": [
      "The dataset from 2018 has 33850 bridges\n"
     ]
    }
   ],
   "source": [
    "print('The dataset from 2018 has %d bridges' %df18.shape[0])"
   ]
  },
  {
   "cell_type": "code",
   "execution_count": 13,
   "metadata": {},
   "outputs": [],
   "source": [
    "df_list = [df18,df17,df16,df15,df14,df13,df12,df11,df10,df09,df08,df07,df06,df05,df04,df03,df02,df01,df00] \n",
    "\n",
    "for df in df_list:\n",
    "    df.drop(['DECK_COND_058','SUPERSTRUCTURE_COND_059','SUBSTRUCTURE_COND_060'], axis=1, inplace = True)"
   ]
  },
  {
   "cell_type": "code",
   "execution_count": 14,
   "metadata": {},
   "outputs": [],
   "source": [
    "df_all = df18\n",
    "\n",
    "for df in df_list[1:]:\n",
    "    df_all = pd.merge(df_all, df, how='left', on=['STATE_CODE_001','STRUCTURE_NUMBER_008'])"
   ]
  },
  {
   "cell_type": "code",
   "execution_count": 15,
   "metadata": {},
   "outputs": [
    {
     "name": "stdout",
     "output_type": "stream",
     "text": [
      "After merging the dataset from previous years we have added 18 columns\n"
     ]
    }
   ],
   "source": [
    "print('After merging the dataset from previous years we have added %d columns' %(df_all.shape[1]-df18.shape[1]))"
   ]
  },
  {
   "cell_type": "code",
   "execution_count": 16,
   "metadata": {
    "collapsed": true
   },
   "outputs": [
    {
     "data": {
      "text/plain": [
       "['TR00',\n",
       " 'TR01',\n",
       " 'TR02',\n",
       " 'TR03',\n",
       " 'TR04',\n",
       " 'TR05',\n",
       " 'TR06',\n",
       " 'TR07',\n",
       " 'TR08',\n",
       " 'TR09',\n",
       " 'TR10',\n",
       " 'TR11',\n",
       " 'TR12',\n",
       " 'TR13',\n",
       " 'TR14',\n",
       " 'TR15',\n",
       " 'TR16',\n",
       " 'TR17',\n",
       " 'TR18']"
      ]
     },
     "execution_count": 16,
     "metadata": {},
     "output_type": "execute_result"
    }
   ],
   "source": [
    "years_rated = len(df_list)\n",
    "tr_cols = list(df_all.columns)[-years_rated:][::-1]\n",
    "tr_cols"
   ]
  },
  {
   "cell_type": "code",
   "execution_count": 17,
   "metadata": {},
   "outputs": [],
   "source": [
    "# Drop all the rows where half of the ratings are missing\n",
    "\n",
    "df_all.dropna(subset= tr_cols, thresh=(years_rated // 2 + 1), inplace=True)"
   ]
  },
  {
   "cell_type": "code",
   "execution_count": 21,
   "metadata": {},
   "outputs": [
    {
     "data": {
      "text/plain": [
       "False    33792\n",
       "True      2561\n",
       "Name: TR00, dtype: int64"
      ]
     },
     "execution_count": 21,
     "metadata": {},
     "output_type": "execute_result"
    }
   ],
   "source": [
    "# For the missing values in the rating columns that are left, we will equal them to the rating of the previous year\n",
    "# Therefore, we should have all the rating from the first year we are considering\n",
    "# Let's see how many of them are missing\n",
    "\n",
    "df_all[tr_cols[0]].isna().value_counts()"
   ]
  },
  {
   "cell_type": "code",
   "execution_count": 22,
   "metadata": {},
   "outputs": [],
   "source": [
    "# We have to drop those missing values from 2000's dataset\n",
    "\n",
    "df_all.dropna(subset = [tr_cols[0]], inplace= True)"
   ]
  },
  {
   "cell_type": "code",
   "execution_count": 24,
   "metadata": {},
   "outputs": [],
   "source": [
    "# We replace the null values of the other columns with the rating value obtained in the dataset of the previous year\n",
    "\n",
    "for n in range(len(tr_cols)-1):\n",
    "    df_all[tr_cols[n+1]] = df_all.apply(lambda row: \n",
    "                                        row[tr_cols[n]] if np.isnan(row[tr_cols[n+1]]) else row[tr_cols[n+1]],\n",
    "                                        axis=1)\n",
    "    "
   ]
  },
  {
   "cell_type": "code",
   "execution_count": 25,
   "metadata": {
    "scrolled": false
   },
   "outputs": [
    {
     "data": {
      "text/html": [
       "<div>\n",
       "<style scoped>\n",
       "    .dataframe tbody tr th:only-of-type {\n",
       "        vertical-align: middle;\n",
       "    }\n",
       "\n",
       "    .dataframe tbody tr th {\n",
       "        vertical-align: top;\n",
       "    }\n",
       "\n",
       "    .dataframe thead th {\n",
       "        text-align: right;\n",
       "    }\n",
       "</style>\n",
       "<table border=\"1\" class=\"dataframe\">\n",
       "  <thead>\n",
       "    <tr style=\"text-align: right;\">\n",
       "      <th></th>\n",
       "      <th>STATE_CODE_001</th>\n",
       "      <th>STRUCTURE_NUMBER_008</th>\n",
       "      <th>TRAFFIC_LANES_ON_028A</th>\n",
       "      <th>DEGREES_SKEW_034</th>\n",
       "      <th>STRUCTURE_KIND_043A</th>\n",
       "      <th>MAIN_UNIT_SPANS_045</th>\n",
       "      <th>MAX_SPAN_LEN_MT_048</th>\n",
       "      <th>STRUCTURE_LEN_MT_049</th>\n",
       "      <th>DECK_WIDTH_MT_052</th>\n",
       "      <th>SURFACE_TYPE_108A</th>\n",
       "      <th>YEAR_BUILT_027</th>\n",
       "      <th>YEAR_RECONSTRUCTED_106</th>\n",
       "      <th>AGE</th>\n",
       "      <th>DESIGN_LOAD_031</th>\n",
       "      <th>TRUCK_ADT</th>\n",
       "      <th>MAINTENANCE_021</th>\n",
       "      <th>FUNCTIONAL_CLASS_026</th>\n",
       "      <th>WATERWAY_EVAL_071</th>\n",
       "      <th>RECONSTRUCTED</th>\n",
       "      <th>LONGITUDE</th>\n",
       "      <th>LATITUDE</th>\n",
       "      <th>TR18</th>\n",
       "      <th>TR17</th>\n",
       "      <th>TR16</th>\n",
       "      <th>TR15</th>\n",
       "      <th>TR14</th>\n",
       "      <th>TR13</th>\n",
       "      <th>TR12</th>\n",
       "      <th>TR11</th>\n",
       "      <th>TR10</th>\n",
       "      <th>TR09</th>\n",
       "      <th>TR08</th>\n",
       "      <th>TR07</th>\n",
       "      <th>TR06</th>\n",
       "      <th>TR05</th>\n",
       "      <th>TR04</th>\n",
       "      <th>TR03</th>\n",
       "      <th>TR02</th>\n",
       "      <th>TR01</th>\n",
       "      <th>TR00</th>\n",
       "    </tr>\n",
       "  </thead>\n",
       "  <tbody>\n",
       "    <tr>\n",
       "      <th>8715</th>\n",
       "      <td>31</td>\n",
       "      <td>C005440305</td>\n",
       "      <td>2</td>\n",
       "      <td>0</td>\n",
       "      <td>steel</td>\n",
       "      <td>3</td>\n",
       "      <td>16.2</td>\n",
       "      <td>40.5</td>\n",
       "      <td>7.4</td>\n",
       "      <td>concrete</td>\n",
       "      <td>2011.0</td>\n",
       "      <td>0.0</td>\n",
       "      <td>8.0</td>\n",
       "      <td>heavy</td>\n",
       "      <td>0.00</td>\n",
       "      <td>countyHA</td>\n",
       "      <td>rural</td>\n",
       "      <td>low</td>\n",
       "      <td>0</td>\n",
       "      <td>-98.174000</td>\n",
       "      <td>42.495000</td>\n",
       "      <td>8.333333</td>\n",
       "      <td>8.333333</td>\n",
       "      <td>8.333333</td>\n",
       "      <td>8.333333</td>\n",
       "      <td>8.333333</td>\n",
       "      <td>8.333333</td>\n",
       "      <td>8.333333</td>\n",
       "      <td>4.0</td>\n",
       "      <td>4.0</td>\n",
       "      <td>4.0</td>\n",
       "      <td>4.0</td>\n",
       "      <td>6.4</td>\n",
       "      <td>6.4</td>\n",
       "      <td>6.4</td>\n",
       "      <td>6.4</td>\n",
       "      <td>6.4</td>\n",
       "      <td>6.4</td>\n",
       "      <td>6.4</td>\n",
       "      <td>6.4</td>\n",
       "    </tr>\n",
       "    <tr>\n",
       "      <th>23594</th>\n",
       "      <td>39</td>\n",
       "      <td>3433048</td>\n",
       "      <td>1</td>\n",
       "      <td>9</td>\n",
       "      <td>steel</td>\n",
       "      <td>1</td>\n",
       "      <td>11.6</td>\n",
       "      <td>11.9</td>\n",
       "      <td>4.9</td>\n",
       "      <td>bituminous</td>\n",
       "      <td>1950.0</td>\n",
       "      <td>0.0</td>\n",
       "      <td>69.0</td>\n",
       "      <td>other</td>\n",
       "      <td>15.00</td>\n",
       "      <td>countyHA</td>\n",
       "      <td>rural</td>\n",
       "      <td>high</td>\n",
       "      <td>0</td>\n",
       "      <td>-80.546502</td>\n",
       "      <td>40.150000</td>\n",
       "      <td>6.400000</td>\n",
       "      <td>6.600000</td>\n",
       "      <td>6.600000</td>\n",
       "      <td>5.500000</td>\n",
       "      <td>5.500000</td>\n",
       "      <td>6.000000</td>\n",
       "      <td>6.000000</td>\n",
       "      <td>6.0</td>\n",
       "      <td>6.0</td>\n",
       "      <td>6.0</td>\n",
       "      <td>6.0</td>\n",
       "      <td>6.0</td>\n",
       "      <td>6.0</td>\n",
       "      <td>6.0</td>\n",
       "      <td>5.0</td>\n",
       "      <td>5.0</td>\n",
       "      <td>5.0</td>\n",
       "      <td>6.0</td>\n",
       "      <td>5.5</td>\n",
       "    </tr>\n",
       "    <tr>\n",
       "      <th>1231</th>\n",
       "      <td>19</td>\n",
       "      <td>45570</td>\n",
       "      <td>2</td>\n",
       "      <td>0</td>\n",
       "      <td>steel</td>\n",
       "      <td>3</td>\n",
       "      <td>28.7</td>\n",
       "      <td>74.4</td>\n",
       "      <td>12.9</td>\n",
       "      <td>concrete</td>\n",
       "      <td>1965.0</td>\n",
       "      <td>0.0</td>\n",
       "      <td>54.0</td>\n",
       "      <td>heavy</td>\n",
       "      <td>4077.50</td>\n",
       "      <td>stateHA</td>\n",
       "      <td>rural</td>\n",
       "      <td>high</td>\n",
       "      <td>0</td>\n",
       "      <td>-95.187834</td>\n",
       "      <td>41.298669</td>\n",
       "      <td>5.400000</td>\n",
       "      <td>5.400000</td>\n",
       "      <td>5.400000</td>\n",
       "      <td>5.400000</td>\n",
       "      <td>5.400000</td>\n",
       "      <td>5.400000</td>\n",
       "      <td>5.400000</td>\n",
       "      <td>5.4</td>\n",
       "      <td>5.4</td>\n",
       "      <td>5.4</td>\n",
       "      <td>5.7</td>\n",
       "      <td>5.7</td>\n",
       "      <td>5.7</td>\n",
       "      <td>5.7</td>\n",
       "      <td>5.7</td>\n",
       "      <td>5.7</td>\n",
       "      <td>5.7</td>\n",
       "      <td>5.7</td>\n",
       "      <td>5.7</td>\n",
       "    </tr>\n",
       "    <tr>\n",
       "      <th>27754</th>\n",
       "      <td>39</td>\n",
       "      <td>8704082</td>\n",
       "      <td>3</td>\n",
       "      <td>47</td>\n",
       "      <td>steel</td>\n",
       "      <td>3</td>\n",
       "      <td>22.9</td>\n",
       "      <td>62.5</td>\n",
       "      <td>19.3</td>\n",
       "      <td>concrete</td>\n",
       "      <td>1968.0</td>\n",
       "      <td>2016.0</td>\n",
       "      <td>51.0</td>\n",
       "      <td>heavy</td>\n",
       "      <td>6353.10</td>\n",
       "      <td>stateHA</td>\n",
       "      <td>rural</td>\n",
       "      <td>none</td>\n",
       "      <td>1</td>\n",
       "      <td>-83.371669</td>\n",
       "      <td>41.262667</td>\n",
       "      <td>8.666667</td>\n",
       "      <td>8.666667</td>\n",
       "      <td>6.200000</td>\n",
       "      <td>6.200000</td>\n",
       "      <td>6.200000</td>\n",
       "      <td>6.200000</td>\n",
       "      <td>6.200000</td>\n",
       "      <td>6.2</td>\n",
       "      <td>6.2</td>\n",
       "      <td>6.2</td>\n",
       "      <td>6.2</td>\n",
       "      <td>6.2</td>\n",
       "      <td>6.2</td>\n",
       "      <td>6.2</td>\n",
       "      <td>6.2</td>\n",
       "      <td>6.2</td>\n",
       "      <td>6.2</td>\n",
       "      <td>6.2</td>\n",
       "      <td>6.2</td>\n",
       "    </tr>\n",
       "    <tr>\n",
       "      <th>14773</th>\n",
       "      <td>36</td>\n",
       "      <td>000000001052821</td>\n",
       "      <td>2</td>\n",
       "      <td>17</td>\n",
       "      <td>steel</td>\n",
       "      <td>3</td>\n",
       "      <td>14.6</td>\n",
       "      <td>45.4</td>\n",
       "      <td>13.0</td>\n",
       "      <td>concrete</td>\n",
       "      <td>1968.0</td>\n",
       "      <td>0.0</td>\n",
       "      <td>51.0</td>\n",
       "      <td>heavy</td>\n",
       "      <td>4505.85</td>\n",
       "      <td>stateHA</td>\n",
       "      <td>urban</td>\n",
       "      <td>none</td>\n",
       "      <td>0</td>\n",
       "      <td>-73.369834</td>\n",
       "      <td>41.247835</td>\n",
       "      <td>6.000000</td>\n",
       "      <td>6.000000</td>\n",
       "      <td>6.000000</td>\n",
       "      <td>6.000000</td>\n",
       "      <td>6.000000</td>\n",
       "      <td>6.000000</td>\n",
       "      <td>6.000000</td>\n",
       "      <td>6.0</td>\n",
       "      <td>6.2</td>\n",
       "      <td>6.2</td>\n",
       "      <td>6.7</td>\n",
       "      <td>6.7</td>\n",
       "      <td>6.7</td>\n",
       "      <td>6.7</td>\n",
       "      <td>6.7</td>\n",
       "      <td>6.7</td>\n",
       "      <td>6.7</td>\n",
       "      <td>6.7</td>\n",
       "      <td>6.2</td>\n",
       "    </tr>\n",
       "    <tr>\n",
       "      <th>26039</th>\n",
       "      <td>39</td>\n",
       "      <td>6601022</td>\n",
       "      <td>2</td>\n",
       "      <td>30</td>\n",
       "      <td>steel</td>\n",
       "      <td>3</td>\n",
       "      <td>14.3</td>\n",
       "      <td>40.5</td>\n",
       "      <td>8.4</td>\n",
       "      <td>bituminous</td>\n",
       "      <td>1949.0</td>\n",
       "      <td>1984.0</td>\n",
       "      <td>70.0</td>\n",
       "      <td>heavy</td>\n",
       "      <td>507.24</td>\n",
       "      <td>stateHA</td>\n",
       "      <td>rural</td>\n",
       "      <td>low</td>\n",
       "      <td>1</td>\n",
       "      <td>-83.020334</td>\n",
       "      <td>39.048836</td>\n",
       "      <td>6.500000</td>\n",
       "      <td>6.500000</td>\n",
       "      <td>6.500000</td>\n",
       "      <td>6.500000</td>\n",
       "      <td>6.500000</td>\n",
       "      <td>6.500000</td>\n",
       "      <td>6.500000</td>\n",
       "      <td>6.5</td>\n",
       "      <td>6.5</td>\n",
       "      <td>6.5</td>\n",
       "      <td>7.0</td>\n",
       "      <td>7.0</td>\n",
       "      <td>7.0</td>\n",
       "      <td>7.0</td>\n",
       "      <td>7.0</td>\n",
       "      <td>7.0</td>\n",
       "      <td>7.0</td>\n",
       "      <td>7.5</td>\n",
       "      <td>7.5</td>\n",
       "    </tr>\n",
       "    <tr>\n",
       "      <th>18809</th>\n",
       "      <td>36</td>\n",
       "      <td>000000003341000</td>\n",
       "      <td>2</td>\n",
       "      <td>0</td>\n",
       "      <td>steel</td>\n",
       "      <td>1</td>\n",
       "      <td>9.8</td>\n",
       "      <td>11.9</td>\n",
       "      <td>8.2</td>\n",
       "      <td>concrete</td>\n",
       "      <td>1965.0</td>\n",
       "      <td>2004.0</td>\n",
       "      <td>54.0</td>\n",
       "      <td>heavy</td>\n",
       "      <td>2.42</td>\n",
       "      <td>countyHA</td>\n",
       "      <td>rural</td>\n",
       "      <td>high</td>\n",
       "      <td>1</td>\n",
       "      <td>-75.303334</td>\n",
       "      <td>44.168335</td>\n",
       "      <td>7.700000</td>\n",
       "      <td>7.700000</td>\n",
       "      <td>7.700000</td>\n",
       "      <td>7.700000</td>\n",
       "      <td>7.700000</td>\n",
       "      <td>7.700000</td>\n",
       "      <td>7.700000</td>\n",
       "      <td>7.7</td>\n",
       "      <td>7.7</td>\n",
       "      <td>7.7</td>\n",
       "      <td>8.0</td>\n",
       "      <td>8.0</td>\n",
       "      <td>9.0</td>\n",
       "      <td>9.0</td>\n",
       "      <td>4.0</td>\n",
       "      <td>6.2</td>\n",
       "      <td>6.2</td>\n",
       "      <td>7.2</td>\n",
       "      <td>7.2</td>\n",
       "    </tr>\n",
       "    <tr>\n",
       "      <th>14035</th>\n",
       "      <td>36</td>\n",
       "      <td>000000001034162</td>\n",
       "      <td>2</td>\n",
       "      <td>7</td>\n",
       "      <td>steel</td>\n",
       "      <td>8</td>\n",
       "      <td>18.9</td>\n",
       "      <td>139.9</td>\n",
       "      <td>13.8</td>\n",
       "      <td>concrete</td>\n",
       "      <td>1960.0</td>\n",
       "      <td>1991.0</td>\n",
       "      <td>59.0</td>\n",
       "      <td>heavy</td>\n",
       "      <td>1021.45</td>\n",
       "      <td>stateHA</td>\n",
       "      <td>rural</td>\n",
       "      <td>none</td>\n",
       "      <td>1</td>\n",
       "      <td>-73.273835</td>\n",
       "      <td>44.594503</td>\n",
       "      <td>7.000000</td>\n",
       "      <td>7.200000</td>\n",
       "      <td>7.200000</td>\n",
       "      <td>7.200000</td>\n",
       "      <td>7.200000</td>\n",
       "      <td>7.500000</td>\n",
       "      <td>7.500000</td>\n",
       "      <td>7.5</td>\n",
       "      <td>7.5</td>\n",
       "      <td>7.5</td>\n",
       "      <td>7.5</td>\n",
       "      <td>7.5</td>\n",
       "      <td>7.5</td>\n",
       "      <td>6.7</td>\n",
       "      <td>6.7</td>\n",
       "      <td>6.2</td>\n",
       "      <td>6.2</td>\n",
       "      <td>5.9</td>\n",
       "      <td>5.9</td>\n",
       "    </tr>\n",
       "    <tr>\n",
       "      <th>22950</th>\n",
       "      <td>39</td>\n",
       "      <td>2738929</td>\n",
       "      <td>2</td>\n",
       "      <td>42</td>\n",
       "      <td>steel</td>\n",
       "      <td>1</td>\n",
       "      <td>11.6</td>\n",
       "      <td>11.9</td>\n",
       "      <td>5.5</td>\n",
       "      <td>bituminous</td>\n",
       "      <td>1934.0</td>\n",
       "      <td>1987.0</td>\n",
       "      <td>85.0</td>\n",
       "      <td>light</td>\n",
       "      <td>38.16</td>\n",
       "      <td>countyHA</td>\n",
       "      <td>rural</td>\n",
       "      <td>high</td>\n",
       "      <td>1</td>\n",
       "      <td>-82.167335</td>\n",
       "      <td>38.438002</td>\n",
       "      <td>5.000000</td>\n",
       "      <td>5.000000</td>\n",
       "      <td>5.000000</td>\n",
       "      <td>5.000000</td>\n",
       "      <td>5.000000</td>\n",
       "      <td>5.000000</td>\n",
       "      <td>5.000000</td>\n",
       "      <td>7.2</td>\n",
       "      <td>7.2</td>\n",
       "      <td>7.2</td>\n",
       "      <td>8.0</td>\n",
       "      <td>8.0</td>\n",
       "      <td>8.0</td>\n",
       "      <td>8.0</td>\n",
       "      <td>8.0</td>\n",
       "      <td>8.0</td>\n",
       "      <td>8.0</td>\n",
       "      <td>8.0</td>\n",
       "      <td>8.0</td>\n",
       "    </tr>\n",
       "    <tr>\n",
       "      <th>33510</th>\n",
       "      <td>46</td>\n",
       "      <td>000000055313050</td>\n",
       "      <td>2</td>\n",
       "      <td>0</td>\n",
       "      <td>steel</td>\n",
       "      <td>3</td>\n",
       "      <td>5.2</td>\n",
       "      <td>15.5</td>\n",
       "      <td>8.4</td>\n",
       "      <td>bituminous</td>\n",
       "      <td>1930.0</td>\n",
       "      <td>0.0</td>\n",
       "      <td>89.0</td>\n",
       "      <td>other</td>\n",
       "      <td>6.00</td>\n",
       "      <td>countyHA</td>\n",
       "      <td>rural</td>\n",
       "      <td>low</td>\n",
       "      <td>0</td>\n",
       "      <td>-96.343668</td>\n",
       "      <td>45.516835</td>\n",
       "      <td>5.500000</td>\n",
       "      <td>5.500000</td>\n",
       "      <td>5.500000</td>\n",
       "      <td>5.500000</td>\n",
       "      <td>5.500000</td>\n",
       "      <td>5.500000</td>\n",
       "      <td>5.500000</td>\n",
       "      <td>5.5</td>\n",
       "      <td>6.0</td>\n",
       "      <td>6.0</td>\n",
       "      <td>6.5</td>\n",
       "      <td>6.5</td>\n",
       "      <td>6.0</td>\n",
       "      <td>6.0</td>\n",
       "      <td>6.0</td>\n",
       "      <td>6.0</td>\n",
       "      <td>6.0</td>\n",
       "      <td>6.0</td>\n",
       "      <td>6.0</td>\n",
       "    </tr>\n",
       "  </tbody>\n",
       "</table>\n",
       "</div>"
      ],
      "text/plain": [
       "       STATE_CODE_001 STRUCTURE_NUMBER_008  TRAFFIC_LANES_ON_028A  \\\n",
       "8715               31      C005440305                           2   \n",
       "23594              39              3433048                      1   \n",
       "1231               19                45570                      2   \n",
       "27754              39              8704082                      3   \n",
       "14773              36      000000001052821                      2   \n",
       "26039              39              6601022                      2   \n",
       "18809              36      000000003341000                      2   \n",
       "14035              36      000000001034162                      2   \n",
       "22950              39              2738929                      2   \n",
       "33510              46      000000055313050                      2   \n",
       "\n",
       "       DEGREES_SKEW_034 STRUCTURE_KIND_043A  MAIN_UNIT_SPANS_045  \\\n",
       "8715                  0               steel                    3   \n",
       "23594                 9               steel                    1   \n",
       "1231                  0               steel                    3   \n",
       "27754                47               steel                    3   \n",
       "14773                17               steel                    3   \n",
       "26039                30               steel                    3   \n",
       "18809                 0               steel                    1   \n",
       "14035                 7               steel                    8   \n",
       "22950                42               steel                    1   \n",
       "33510                 0               steel                    3   \n",
       "\n",
       "       MAX_SPAN_LEN_MT_048  STRUCTURE_LEN_MT_049  DECK_WIDTH_MT_052  \\\n",
       "8715                  16.2                  40.5                7.4   \n",
       "23594                 11.6                  11.9                4.9   \n",
       "1231                  28.7                  74.4               12.9   \n",
       "27754                 22.9                  62.5               19.3   \n",
       "14773                 14.6                  45.4               13.0   \n",
       "26039                 14.3                  40.5                8.4   \n",
       "18809                  9.8                  11.9                8.2   \n",
       "14035                 18.9                 139.9               13.8   \n",
       "22950                 11.6                  11.9                5.5   \n",
       "33510                  5.2                  15.5                8.4   \n",
       "\n",
       "      SURFACE_TYPE_108A  YEAR_BUILT_027  YEAR_RECONSTRUCTED_106   AGE  \\\n",
       "8715           concrete          2011.0                     0.0   8.0   \n",
       "23594        bituminous          1950.0                     0.0  69.0   \n",
       "1231           concrete          1965.0                     0.0  54.0   \n",
       "27754          concrete          1968.0                  2016.0  51.0   \n",
       "14773          concrete          1968.0                     0.0  51.0   \n",
       "26039        bituminous          1949.0                  1984.0  70.0   \n",
       "18809          concrete          1965.0                  2004.0  54.0   \n",
       "14035          concrete          1960.0                  1991.0  59.0   \n",
       "22950        bituminous          1934.0                  1987.0  85.0   \n",
       "33510        bituminous          1930.0                     0.0  89.0   \n",
       "\n",
       "      DESIGN_LOAD_031  TRUCK_ADT MAINTENANCE_021 FUNCTIONAL_CLASS_026  \\\n",
       "8715            heavy       0.00        countyHA                rural   \n",
       "23594           other      15.00        countyHA                rural   \n",
       "1231            heavy    4077.50         stateHA                rural   \n",
       "27754           heavy    6353.10         stateHA                rural   \n",
       "14773           heavy    4505.85         stateHA                urban   \n",
       "26039           heavy     507.24         stateHA                rural   \n",
       "18809           heavy       2.42        countyHA                rural   \n",
       "14035           heavy    1021.45         stateHA                rural   \n",
       "22950           light      38.16        countyHA                rural   \n",
       "33510           other       6.00        countyHA                rural   \n",
       "\n",
       "      WATERWAY_EVAL_071  RECONSTRUCTED  LONGITUDE   LATITUDE      TR18  \\\n",
       "8715                low              0 -98.174000  42.495000  8.333333   \n",
       "23594              high              0 -80.546502  40.150000  6.400000   \n",
       "1231               high              0 -95.187834  41.298669  5.400000   \n",
       "27754              none              1 -83.371669  41.262667  8.666667   \n",
       "14773              none              0 -73.369834  41.247835  6.000000   \n",
       "26039               low              1 -83.020334  39.048836  6.500000   \n",
       "18809              high              1 -75.303334  44.168335  7.700000   \n",
       "14035              none              1 -73.273835  44.594503  7.000000   \n",
       "22950              high              1 -82.167335  38.438002  5.000000   \n",
       "33510               low              0 -96.343668  45.516835  5.500000   \n",
       "\n",
       "           TR17      TR16      TR15      TR14      TR13      TR12  TR11  TR10  \\\n",
       "8715   8.333333  8.333333  8.333333  8.333333  8.333333  8.333333   4.0   4.0   \n",
       "23594  6.600000  6.600000  5.500000  5.500000  6.000000  6.000000   6.0   6.0   \n",
       "1231   5.400000  5.400000  5.400000  5.400000  5.400000  5.400000   5.4   5.4   \n",
       "27754  8.666667  6.200000  6.200000  6.200000  6.200000  6.200000   6.2   6.2   \n",
       "14773  6.000000  6.000000  6.000000  6.000000  6.000000  6.000000   6.0   6.2   \n",
       "26039  6.500000  6.500000  6.500000  6.500000  6.500000  6.500000   6.5   6.5   \n",
       "18809  7.700000  7.700000  7.700000  7.700000  7.700000  7.700000   7.7   7.7   \n",
       "14035  7.200000  7.200000  7.200000  7.200000  7.500000  7.500000   7.5   7.5   \n",
       "22950  5.000000  5.000000  5.000000  5.000000  5.000000  5.000000   7.2   7.2   \n",
       "33510  5.500000  5.500000  5.500000  5.500000  5.500000  5.500000   5.5   6.0   \n",
       "\n",
       "       TR09  TR08  TR07  TR06  TR05  TR04  TR03  TR02  TR01  TR00  \n",
       "8715    4.0   4.0   6.4   6.4   6.4   6.4   6.4   6.4   6.4   6.4  \n",
       "23594   6.0   6.0   6.0   6.0   6.0   5.0   5.0   5.0   6.0   5.5  \n",
       "1231    5.4   5.7   5.7   5.7   5.7   5.7   5.7   5.7   5.7   5.7  \n",
       "27754   6.2   6.2   6.2   6.2   6.2   6.2   6.2   6.2   6.2   6.2  \n",
       "14773   6.2   6.7   6.7   6.7   6.7   6.7   6.7   6.7   6.7   6.2  \n",
       "26039   6.5   7.0   7.0   7.0   7.0   7.0   7.0   7.0   7.5   7.5  \n",
       "18809   7.7   8.0   8.0   9.0   9.0   4.0   6.2   6.2   7.2   7.2  \n",
       "14035   7.5   7.5   7.5   7.5   6.7   6.7   6.2   6.2   5.9   5.9  \n",
       "22950   7.2   8.0   8.0   8.0   8.0   8.0   8.0   8.0   8.0   8.0  \n",
       "33510   6.0   6.5   6.5   6.0   6.0   6.0   6.0   6.0   6.0   6.0  "
      ]
     },
     "execution_count": 25,
     "metadata": {},
     "output_type": "execute_result"
    }
   ],
   "source": [
    "df_all.sample(10)\n",
    "\n",
    "# Scroll to the right end of the dataframe"
   ]
  },
  {
   "cell_type": "code",
   "execution_count": 55,
   "metadata": {},
   "outputs": [
    {
     "data": {
      "text/plain": [
       "[<matplotlib.lines.Line2D at 0x7f8c870de588>]"
      ]
     },
     "execution_count": 55,
     "metadata": {},
     "output_type": "execute_result"
    },
    {
     "data": {
      "image/png": "[encoded data removed]",
      "text/plain": [
       "<Figure size 864x720 with 1 Axes>"
      ]
     },
     "metadata": {
      "needs_background": "light"
     },
     "output_type": "display_data"
    }
   ],
   "source": [
    "from random import seed\n",
    "from random import choice\n",
    "\n",
    "# We prepare a list with all the index number of the bridges we have in the dataset\n",
    "sequence = [i for i in df_all.index]\n",
    "\n",
    "# Then make choices from the sequence\n",
    "selection = choice(sequence)\n",
    "\n",
    "# Let's print the row corresponding to this index\n",
    "plt.figure(figsize = (12,10))\n",
    "plt.ylim(1,9.5)\n",
    "plt.title('Variation of Total Rating of a bridge through the years')\n",
    "plt.xlabel('Years')\n",
    "plt.ylabel('Total Rating')\n",
    "\n",
    "plt.plot(df_all.loc[selection,tr_cols])"
   ]
  },
  {
   "cell_type": "markdown",
   "metadata": {},
   "source": [
    "The evolution of the ratings of a bridge through the years can be a measure to evaluate the speed of deterioration of this bridge.\n",
    "\n",
    "We will create a new feature that will measure this deterioration rate as the differences between ratings every year. This deterioration rate can be seen as the slope between deterioration periods in the figure above. \n",
    "\n",
    "If the bridge is rehabilitated to increase its rating, the slope will be positive (going upwards) and distort the deterioration rate we are looking for. Then, when the Total Rating of a year is higher than the one in the previous year, this raise is not taken into account in final slope."
   ]
  },
  {
   "cell_type": "code",
   "execution_count": 56,
   "metadata": {},
   "outputs": [],
   "source": [
    "# Function that creates the deterioration rate, which is the mean of the differences between ratings every year\n",
    "\n",
    "def det_formula(row):\n",
    "    \n",
    "    m=0\n",
    "    cont_rehab = 0\n",
    "\n",
    "    for i in range(1,len(tr_cols)):\n",
    "        dif = row[tr_cols[i-1]]-row[tr_cols[i]]\n",
    "        \n",
    "        if dif >= 0: \n",
    "            m += dif\n",
    "            \n",
    "        else:\n",
    "            dif = 0\n",
    "            cont_rehab+=1\n",
    "            m += dif\n",
    "            \n",
    "    return m/(i-cont_rehab)"
   ]
  },
  {
   "cell_type": "code",
   "execution_count": 57,
   "metadata": {},
   "outputs": [],
   "source": [
    "df_all['DETERIORATION_RATE'] = df_all.apply(lambda row: det_formula(row), axis=1)"
   ]
  },
  {
   "cell_type": "code",
   "execution_count": 58,
   "metadata": {},
   "outputs": [
    {
     "data": {
      "text/plain": [
       "False    31271\n",
       "True      2521\n",
       "Name: DETERIORATION_RATE, dtype: int64"
      ]
     },
     "execution_count": 58,
     "metadata": {},
     "output_type": "execute_result"
    }
   ],
   "source": [
    "# A deterioration rate of 0 seems unreasonable in a 18 years gap.\n",
    "\n",
    "(df_all['DETERIORATION_RATE']==0).value_counts()"
   ]
  },
  {
   "cell_type": "code",
   "execution_count": 59,
   "metadata": {},
   "outputs": [],
   "source": [
    "# There are 1564 bridges that seem to have no deterioration in 18 years.\n",
    "# We will drop out those bridges, that might have had false input data from the inspection engineer\n",
    "\n",
    "df_all = df_all.loc[df_all['DETERIORATION_RATE'] > 0]"
   ]
  },
  {
   "cell_type": "code",
   "execution_count": 60,
   "metadata": {},
   "outputs": [
    {
     "name": "stdout",
     "output_type": "stream",
     "text": [
      "The final number of bridges we will be working with is: 31271\n"
     ]
    }
   ],
   "source": [
    "# Final dataset\n",
    "\n",
    "print('The final number of bridges we will be working with is: %d' %df_all.shape[0])"
   ]
  },
  {
   "cell_type": "code",
   "execution_count": 61,
   "metadata": {},
   "outputs": [],
   "source": [
    "# Save to csv\n",
    "\n",
    "df_all.to_csv (r'./df_all_CLIM.csv', index = None, header=True)"
   ]
  }
 ],
 "metadata": {
  "kernelspec": {
   "display_name": "Python 3",
   "language": "python",
   "name": "python3"
  },
  "language_info": {
   "codemirror_mode": {
    "name": "ipython",
    "version": 3
   },
   "file_extension": ".py",
   "mimetype": "text/x-python",
   "name": "python",
   "nbconvert_exporter": "python",
   "pygments_lexer": "ipython3",
   "version": "3.7.1"
  }
 },
 "nbformat": 4,
 "nbformat_minor": 2
}
